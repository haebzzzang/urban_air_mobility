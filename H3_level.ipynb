{
 "cells": [
  {
   "cell_type": "code",
   "execution_count": 4,
   "metadata": {},
   "outputs": [],
   "source": [
    "import h3\n",
    "from shapely.geometry import Point, Polygon\n",
    "from geopy.distance import distance\n",
    "import geopandas as gpd\n",
    "import folium\n",
    "import pandas as pd"
   ]
  },
  {
   "cell_type": "code",
   "execution_count": 5,
   "metadata": {},
   "outputs": [],
   "source": [
    "# 범위 이해 편하게 하기 위하여 한남대학교 주소로 설정\n",
    "lat = 36.3545; lng = 127.4212"
   ]
  },
  {
   "cell_type": "code",
   "execution_count": 6,
   "metadata": {},
   "outputs": [],
   "source": [
    "# geo_to_h3 : 위도, 경도, 해상도를 통하여 h3 인덱스를 반환\n",
    "lev7 = h3.geo_to_h3(lat, lng, 7)\n",
    "lev8 = h3.geo_to_h3(lat, lng, 8)\n",
    "lev9 = h3.geo_to_h3(lat, lng, 9)\n",
    "lev10 = h3.geo_to_h3(lat, lng, 10)\n",
    "lev11 = h3.geo_to_h3(lat, lng, 11)"
   ]
  },
  {
   "cell_type": "code",
   "execution_count": 8,
   "metadata": {},
   "outputs": [
    {
     "data": {
      "text/html": [
       "<div>\n",
       "<style scoped>\n",
       "    .dataframe tbody tr th:only-of-type {\n",
       "        vertical-align: middle;\n",
       "    }\n",
       "\n",
       "    .dataframe tbody tr th {\n",
       "        vertical-align: top;\n",
       "    }\n",
       "\n",
       "    .dataframe thead th {\n",
       "        text-align: right;\n",
       "    }\n",
       "</style>\n",
       "<table border=\"1\" class=\"dataframe\">\n",
       "  <thead>\n",
       "    <tr style=\"text-align: right;\">\n",
       "      <th></th>\n",
       "      <th>h3</th>\n",
       "      <th>geometry</th>\n",
       "    </tr>\n",
       "  </thead>\n",
       "  <tbody>\n",
       "    <tr>\n",
       "      <th>0</th>\n",
       "      <td>8730e3612ffffff</td>\n",
       "      <td>POLYGON ((127.41357 36.35354, 127.41608 36.343...</td>\n",
       "    </tr>\n",
       "    <tr>\n",
       "      <th>1</th>\n",
       "      <td>8830e36129fffff</td>\n",
       "      <td>POLYGON ((127.41942 36.35904, 127.41858 36.355...</td>\n",
       "    </tr>\n",
       "    <tr>\n",
       "      <th>2</th>\n",
       "      <td>8930e36128bffff</td>\n",
       "      <td>POLYGON ((127.42049 36.35495, 127.42085 36.353...</td>\n",
       "    </tr>\n",
       "    <tr>\n",
       "      <th>3</th>\n",
       "      <td>8a30e36128b7fff</td>\n",
       "      <td>POLYGON ((127.42049 36.35495, 127.42037 36.354...</td>\n",
       "    </tr>\n",
       "    <tr>\n",
       "      <th>4</th>\n",
       "      <td>8b30e36128b3fff</td>\n",
       "      <td>POLYGON ((127.42114 36.35446, 127.42119 36.354...</td>\n",
       "    </tr>\n",
       "  </tbody>\n",
       "</table>\n",
       "</div>"
      ],
      "text/plain": [
       "                h3                                           geometry\n",
       "0  8730e3612ffffff  POLYGON ((127.41357 36.35354, 127.41608 36.343...\n",
       "1  8830e36129fffff  POLYGON ((127.41942 36.35904, 127.41858 36.355...\n",
       "2  8930e36128bffff  POLYGON ((127.42049 36.35495, 127.42085 36.353...\n",
       "3  8a30e36128b7fff  POLYGON ((127.42049 36.35495, 127.42037 36.354...\n",
       "4  8b30e36128b3fff  POLYGON ((127.42114 36.35446, 127.42119 36.354..."
      ]
     },
     "execution_count": 8,
     "metadata": {},
     "output_type": "execute_result"
    }
   ],
   "source": [
    "df"
   ]
  },
  {
   "cell_type": "code",
   "execution_count": 7,
   "metadata": {},
   "outputs": [
    {
     "name": "stderr",
     "output_type": "stream",
     "text": [
      "c:\\Users\\rproject\\anaconda3\\envs\\geo\\lib\\site-packages\\pyproj\\crs\\crs.py:141: FutureWarning: '+init=<authority>:<code>' syntax is deprecated. '<authority>:<code>' is the preferred initialization method. When making the change, be mindful of axis order changes: https://pyproj4.github.io/pyproj/stable/gotchas.html#axis-order-changes-in-proj-6\n",
      "  in_crs_string = _prepare_from_proj_string(in_crs_string)\n"
     ]
    },
    {
     "data": {
      "text/html": [
       "<div style=\"width:100%;\"><div style=\"position:relative;width:100%;height:0;padding-bottom:60%;\"><span style=\"color:#565656\">Make this Notebook Trusted to load map: File -> Trust Notebook</span><iframe srcdoc=\"&lt;!DOCTYPE html&gt;\n",
       "&lt;head&gt;    \n",
       "    &lt;meta http-equiv=&quot;content-type&quot; content=&quot;text/html; charset=UTF-8&quot; /&gt;\n",
       "    \n",
       "        &lt;script&gt;\n",
       "            L_NO_TOUCH = false;\n",
       "            L_DISABLE_3D = false;\n",
       "        &lt;/script&gt;\n",
       "    \n",
       "    &lt;style&gt;html, body {width: 100%;height: 100%;margin: 0;padding: 0;}&lt;/style&gt;\n",
       "    &lt;style&gt;#map {position:absolute;top:0;bottom:0;right:0;left:0;}&lt;/style&gt;\n",
       "    &lt;script src=&quot;https://cdn.jsdelivr.net/npm/leaflet@1.6.0/dist/leaflet.js&quot;&gt;&lt;/script&gt;\n",
       "    &lt;script src=&quot;https://code.jquery.com/jquery-1.12.4.min.js&quot;&gt;&lt;/script&gt;\n",
       "    &lt;script src=&quot;https://maxcdn.bootstrapcdn.com/bootstrap/3.2.0/js/bootstrap.min.js&quot;&gt;&lt;/script&gt;\n",
       "    &lt;script src=&quot;https://cdnjs.cloudflare.com/ajax/libs/Leaflet.awesome-markers/2.0.2/leaflet.awesome-markers.js&quot;&gt;&lt;/script&gt;\n",
       "    &lt;link rel=&quot;stylesheet&quot; href=&quot;https://cdn.jsdelivr.net/npm/leaflet@1.6.0/dist/leaflet.css&quot;/&gt;\n",
       "    &lt;link rel=&quot;stylesheet&quot; href=&quot;https://maxcdn.bootstrapcdn.com/bootstrap/3.2.0/css/bootstrap.min.css&quot;/&gt;\n",
       "    &lt;link rel=&quot;stylesheet&quot; href=&quot;https://maxcdn.bootstrapcdn.com/bootstrap/3.2.0/css/bootstrap-theme.min.css&quot;/&gt;\n",
       "    &lt;link rel=&quot;stylesheet&quot; href=&quot;https://maxcdn.bootstrapcdn.com/font-awesome/4.6.3/css/font-awesome.min.css&quot;/&gt;\n",
       "    &lt;link rel=&quot;stylesheet&quot; href=&quot;https://cdnjs.cloudflare.com/ajax/libs/Leaflet.awesome-markers/2.0.2/leaflet.awesome-markers.css&quot;/&gt;\n",
       "    &lt;link rel=&quot;stylesheet&quot; href=&quot;https://cdn.jsdelivr.net/gh/python-visualization/folium/folium/templates/leaflet.awesome.rotate.min.css&quot;/&gt;\n",
       "    \n",
       "            &lt;meta name=&quot;viewport&quot; content=&quot;width=device-width,\n",
       "                initial-scale=1.0, maximum-scale=1.0, user-scalable=no&quot; /&gt;\n",
       "            &lt;style&gt;\n",
       "                #map_a2d1bda003f2a7bc6fe1986e68361584 {\n",
       "                    position: relative;\n",
       "                    width: 100.0%;\n",
       "                    height: 100.0%;\n",
       "                    left: 0.0%;\n",
       "                    top: 0.0%;\n",
       "                }\n",
       "            &lt;/style&gt;\n",
       "        \n",
       "&lt;/head&gt;\n",
       "&lt;body&gt;    \n",
       "    \n",
       "            &lt;div class=&quot;folium-map&quot; id=&quot;map_a2d1bda003f2a7bc6fe1986e68361584&quot; &gt;&lt;/div&gt;\n",
       "        \n",
       "&lt;/body&gt;\n",
       "&lt;script&gt;    \n",
       "    \n",
       "            var map_a2d1bda003f2a7bc6fe1986e68361584 = L.map(\n",
       "                &quot;map_a2d1bda003f2a7bc6fe1986e68361584&quot;,\n",
       "                {\n",
       "                    center: [36.3545, 127.4212],\n",
       "                    crs: L.CRS.EPSG3857,\n",
       "                    zoom: 16,\n",
       "                    zoomControl: true,\n",
       "                    preferCanvas: false,\n",
       "                }\n",
       "            );\n",
       "\n",
       "            \n",
       "\n",
       "        \n",
       "    \n",
       "            var tile_layer_d0d1e8a2effe630aa05739f79bed047b = L.tileLayer(\n",
       "                &quot;https://{s}.tile.openstreetmap.org/{z}/{x}/{y}.png&quot;,\n",
       "                {&quot;attribution&quot;: &quot;Data by \\u0026copy; \\u003ca href=\\&quot;http://openstreetmap.org\\&quot;\\u003eOpenStreetMap\\u003c/a\\u003e, under \\u003ca href=\\&quot;http://www.openstreetmap.org/copyright\\&quot;\\u003eODbL\\u003c/a\\u003e.&quot;, &quot;detectRetina&quot;: false, &quot;maxNativeZoom&quot;: 18, &quot;maxZoom&quot;: 18, &quot;minZoom&quot;: 0, &quot;noWrap&quot;: false, &quot;opacity&quot;: 1, &quot;subdomains&quot;: &quot;abc&quot;, &quot;tms&quot;: false}\n",
       "            ).addTo(map_a2d1bda003f2a7bc6fe1986e68361584);\n",
       "        \n",
       "    \n",
       "\n",
       "        function geo_json_e145c5f6a8731f4b9c01901de618a4ed_onEachFeature(feature, layer) {\n",
       "            layer.on({\n",
       "            });\n",
       "        };\n",
       "        var geo_json_e145c5f6a8731f4b9c01901de618a4ed = L.geoJson(null, {\n",
       "                onEachFeature: geo_json_e145c5f6a8731f4b9c01901de618a4ed_onEachFeature,\n",
       "            \n",
       "        });\n",
       "\n",
       "        function geo_json_e145c5f6a8731f4b9c01901de618a4ed_add (data) {\n",
       "            geo_json_e145c5f6a8731f4b9c01901de618a4ed\n",
       "                .addData(data)\n",
       "                .addTo(map_a2d1bda003f2a7bc6fe1986e68361584);\n",
       "        }\n",
       "            geo_json_e145c5f6a8731f4b9c01901de618a4ed_add({&quot;bbox&quot;: [127.41357022145893, 36.34167930741984, 127.44030621937644, 36.3607749633408], &quot;features&quot;: [{&quot;bbox&quot;: [127.41357022145893, 36.34167930741984, 127.44030621937644, 36.3607749633408], &quot;geometry&quot;: {&quot;coordinates&quot;: [[[127.41357022145893, 36.35353604710605], [127.41607676403342, 36.34398829994392], [127.42944421042102, 36.34167930741984], [127.44030621937644, 36.34891859805685], [127.43779975233679, 36.35846650663307], [127.42443120056929, 36.3607749633408], [127.41357022145893, 36.35353604710605]]], &quot;type&quot;: &quot;Polygon&quot;}, &quot;id&quot;: &quot;0&quot;, &quot;properties&quot;: {&quot;h3&quot;: &quot;8730e3612ffffff&quot;}, &quot;type&quot;: &quot;Feature&quot;}, {&quot;bbox&quot;: [127.41858287931547, 36.35325168744642, 127.42860876505559, 36.3607749633408], &quot;geometry&quot;: {&quot;coordinates&quot;: [[[127.41941828538458, 36.35903647552823], [127.41858287931547, 36.35527486985691], [127.42276027099065, 36.35325168744642], [127.42777324155392, 36.35499018170895], [127.42860876505559, 36.3587518519219], [127.42443120056929, 36.3607749633408], [127.41941828538458, 36.35903647552823]]], &quot;type&quot;: &quot;Polygon&quot;}, &quot;id&quot;: &quot;1&quot;, &quot;properties&quot;: {&quot;h3&quot;: &quot;8830e36129fffff&quot;}, &quot;type&quot;: &quot;Feature&quot;}, {&quot;bbox&quot;: [127.42049252689229, 36.35325168744642, 127.42431188149617, 36.35597936624642], &quot;geometry&quot;: {&quot;coordinates&quot;: [[[127.42049252689229, 36.354945227711646], [127.42085060497052, 36.353581389959274], [127.42276027099065, 36.35325168744642], [127.42431188149617, 36.35428583362164], [127.42395380495581, 36.35564967466874], [127.42204411637135, 36.35597936624642], [127.42049252689229, 36.354945227711646]]], &quot;type&quot;: &quot;Polygon&quot;}, &quot;id&quot;: &quot;2&quot;, &quot;properties&quot;: {&quot;h3&quot;: &quot;8930e36128bffff&quot;}, &quot;type&quot;: &quot;Feature&quot;}, {&quot;bbox&quot;: [127.42037318114825, 36.35411880060738, 127.42180541903959, 36.35519360401641], &quot;geometry&quot;: {&quot;coordinates&quot;: [[[127.42049252689229, 36.354945227711646], [127.42037318114825, 36.354407826665984], [127.4209699513878, 36.35411880060738], [127.42168607089883, 36.3543671770437], [127.42180541903959, 36.354904579407034], [127.42120864527261, 36.35519360401641], [127.42049252689229, 36.354945227711646]]], &quot;type&quot;: &quot;Polygon&quot;}, &quot;id&quot;: &quot;3&quot;, &quot;properties&quot;: {&quot;h3&quot;: &quot;8a30e36128b7fff&quot;}, &quot;type&quot;: &quot;Feature&quot;}, {&quot;bbox&quot;: [127.42114045215973, 36.35421944046042, 127.42168607089883, 36.354609108591426], &quot;geometry&quot;: {&quot;coordinates&quot;: [[[127.42114045215973, 36.354461372164096], [127.42119160613954, 36.354266538132215], [127.42146441527885, 36.35421944046042], [127.42168607089883, 36.3543671770437], [127.4216349169504, 36.35456201114283], [127.42136210735057, 36.354609108591426], [127.42114045215973, 36.354461372164096]]], &quot;type&quot;: &quot;Polygon&quot;}, &quot;id&quot;: &quot;4&quot;, &quot;properties&quot;: {&quot;h3&quot;: &quot;8b30e36128b3fff&quot;}, &quot;type&quot;: &quot;Feature&quot;}], &quot;type&quot;: &quot;FeatureCollection&quot;});\n",
       "\n",
       "        \n",
       "&lt;/script&gt;\" style=\"position:absolute;width:100%;height:100%;left:0;top:0;border:none !important;\" allowfullscreen webkitallowfullscreen mozallowfullscreen></iframe></div></div>"
      ],
      "text/plain": [
       "<folium.folium.Map at 0x1c81c377c40>"
      ]
     },
     "execution_count": 7,
     "metadata": {},
     "output_type": "execute_result"
    }
   ],
   "source": [
    "def to_polygon(l) :\n",
    "    return Polygon(h3.h3_to_geo_boundary(l, geo_json=True))\n",
    "\n",
    "df = gpd.GeoDataFrame({'h3' : [lev7, lev8, lev9, lev10, lev11]})\n",
    "df['geometry'] = df['h3'].apply(to_polygon)\n",
    "df.crs = {'init' : 'epsg:4326'}\n",
    "\n",
    "hannam = [lat, lng]\n",
    "m = folium.Map(hannam, zoom_start = 16)\n",
    "folium.GeoJson(df).add_to(m)\n",
    "m"
   ]
  },
  {
   "cell_type": "code",
   "execution_count": 11,
   "metadata": {},
   "outputs": [],
   "source": [
    "# 정확한 분석 위하여 서울에 시각화\n",
    "# 서울 시청\n",
    "lat = 37.5662; lng = 126.9787\n",
    "\n",
    "lev7 = h3.geo_to_h3(lat, lng, 7)\n",
    "lev8 = h3.geo_to_h3(lat, lng, 8)\n",
    "lev9 = h3.geo_to_h3(lat, lng, 9)\n",
    "lev10 = h3.geo_to_h3(lat, lng, 10)\n",
    "lev11 = h3.geo_to_h3(lat, lng, 11)"
   ]
  },
  {
   "cell_type": "code",
   "execution_count": 12,
   "metadata": {},
   "outputs": [
    {
     "name": "stderr",
     "output_type": "stream",
     "text": [
      "c:\\Users\\rproject\\anaconda3\\lib\\site-packages\\pyproj\\crs\\crs.py:53: FutureWarning: '+init=<authority>:<code>' syntax is deprecated. '<authority>:<code>' is the preferred initialization method. When making the change, be mindful of axis order changes: https://pyproj4.github.io/pyproj/stable/gotchas.html#axis-order-changes-in-proj-6\n",
      "  return _prepare_from_string(\" \".join(pjargs))\n"
     ]
    },
    {
     "data": {
      "text/html": [
       "<div style=\"width:100%;\"><div style=\"position:relative;width:100%;height:0;padding-bottom:60%;\"><span style=\"color:#565656\">Make this Notebook Trusted to load map: File -> Trust Notebook</span><iframe srcdoc=\"&lt;!DOCTYPE html&gt;\n",
       "&lt;head&gt;    \n",
       "    &lt;meta http-equiv=&quot;content-type&quot; content=&quot;text/html; charset=UTF-8&quot; /&gt;\n",
       "    \n",
       "        &lt;script&gt;\n",
       "            L_NO_TOUCH = false;\n",
       "            L_DISABLE_3D = false;\n",
       "        &lt;/script&gt;\n",
       "    \n",
       "    &lt;style&gt;html, body {width: 100%;height: 100%;margin: 0;padding: 0;}&lt;/style&gt;\n",
       "    &lt;style&gt;#map {position:absolute;top:0;bottom:0;right:0;left:0;}&lt;/style&gt;\n",
       "    &lt;script src=&quot;https://cdn.jsdelivr.net/npm/leaflet@1.6.0/dist/leaflet.js&quot;&gt;&lt;/script&gt;\n",
       "    &lt;script src=&quot;https://code.jquery.com/jquery-1.12.4.min.js&quot;&gt;&lt;/script&gt;\n",
       "    &lt;script src=&quot;https://maxcdn.bootstrapcdn.com/bootstrap/3.2.0/js/bootstrap.min.js&quot;&gt;&lt;/script&gt;\n",
       "    &lt;script src=&quot;https://cdnjs.cloudflare.com/ajax/libs/Leaflet.awesome-markers/2.0.2/leaflet.awesome-markers.js&quot;&gt;&lt;/script&gt;\n",
       "    &lt;link rel=&quot;stylesheet&quot; href=&quot;https://cdn.jsdelivr.net/npm/leaflet@1.6.0/dist/leaflet.css&quot;/&gt;\n",
       "    &lt;link rel=&quot;stylesheet&quot; href=&quot;https://maxcdn.bootstrapcdn.com/bootstrap/3.2.0/css/bootstrap.min.css&quot;/&gt;\n",
       "    &lt;link rel=&quot;stylesheet&quot; href=&quot;https://maxcdn.bootstrapcdn.com/bootstrap/3.2.0/css/bootstrap-theme.min.css&quot;/&gt;\n",
       "    &lt;link rel=&quot;stylesheet&quot; href=&quot;https://maxcdn.bootstrapcdn.com/font-awesome/4.6.3/css/font-awesome.min.css&quot;/&gt;\n",
       "    &lt;link rel=&quot;stylesheet&quot; href=&quot;https://cdnjs.cloudflare.com/ajax/libs/Leaflet.awesome-markers/2.0.2/leaflet.awesome-markers.css&quot;/&gt;\n",
       "    &lt;link rel=&quot;stylesheet&quot; href=&quot;https://cdn.jsdelivr.net/gh/python-visualization/folium/folium/templates/leaflet.awesome.rotate.min.css&quot;/&gt;\n",
       "    \n",
       "            &lt;meta name=&quot;viewport&quot; content=&quot;width=device-width,\n",
       "                initial-scale=1.0, maximum-scale=1.0, user-scalable=no&quot; /&gt;\n",
       "            &lt;style&gt;\n",
       "                #map_5b794c4bd7c46e0022fba8b4ce860ca8 {\n",
       "                    position: relative;\n",
       "                    width: 100.0%;\n",
       "                    height: 100.0%;\n",
       "                    left: 0.0%;\n",
       "                    top: 0.0%;\n",
       "                }\n",
       "            &lt;/style&gt;\n",
       "        \n",
       "&lt;/head&gt;\n",
       "&lt;body&gt;    \n",
       "    \n",
       "            &lt;div class=&quot;folium-map&quot; id=&quot;map_5b794c4bd7c46e0022fba8b4ce860ca8&quot; &gt;&lt;/div&gt;\n",
       "        \n",
       "&lt;/body&gt;\n",
       "&lt;script&gt;    \n",
       "    \n",
       "            var map_5b794c4bd7c46e0022fba8b4ce860ca8 = L.map(\n",
       "                &quot;map_5b794c4bd7c46e0022fba8b4ce860ca8&quot;,\n",
       "                {\n",
       "                    center: [37.5662, 126.9787],\n",
       "                    crs: L.CRS.EPSG3857,\n",
       "                    zoom: 15,\n",
       "                    zoomControl: true,\n",
       "                    preferCanvas: false,\n",
       "                }\n",
       "            );\n",
       "\n",
       "            \n",
       "\n",
       "        \n",
       "    \n",
       "            var tile_layer_6bf1667e83e03a101f6fd5036a19b36f = L.tileLayer(\n",
       "                &quot;https://{s}.tile.openstreetmap.org/{z}/{x}/{y}.png&quot;,\n",
       "                {&quot;attribution&quot;: &quot;Data by \\u0026copy; \\u003ca href=\\&quot;http://openstreetmap.org\\&quot;\\u003eOpenStreetMap\\u003c/a\\u003e, under \\u003ca href=\\&quot;http://www.openstreetmap.org/copyright\\&quot;\\u003eODbL\\u003c/a\\u003e.&quot;, &quot;detectRetina&quot;: false, &quot;maxNativeZoom&quot;: 18, &quot;maxZoom&quot;: 18, &quot;minZoom&quot;: 0, &quot;noWrap&quot;: false, &quot;opacity&quot;: 1, &quot;subdomains&quot;: &quot;abc&quot;, &quot;tms&quot;: false}\n",
       "            ).addTo(map_5b794c4bd7c46e0022fba8b4ce860ca8);\n",
       "        \n",
       "    \n",
       "\n",
       "        function geo_json_f31282d3092ea518647f6eb830c938d9_onEachFeature(feature, layer) {\n",
       "            layer.on({\n",
       "            });\n",
       "        };\n",
       "        var geo_json_f31282d3092ea518647f6eb830c938d9 = L.geoJson(null, {\n",
       "                onEachFeature: geo_json_f31282d3092ea518647f6eb830c938d9_onEachFeature,\n",
       "            \n",
       "        });\n",
       "\n",
       "        function geo_json_f31282d3092ea518647f6eb830c938d9_add (data) {\n",
       "            geo_json_f31282d3092ea518647f6eb830c938d9\n",
       "                .addData(data)\n",
       "                .addTo(map_5b794c4bd7c46e0022fba8b4ce860ca8);\n",
       "        }\n",
       "            geo_json_f31282d3092ea518647f6eb830c938d9_add({&quot;bbox&quot;: [126.9670719950972, 37.558556574809394, 126.99127915815644, 37.579825961300116], &quot;features&quot;: [{&quot;bbox&quot;: [126.9670719950972, 37.558556574809394, 126.99127915815644, 37.579825961300116], &quot;geometry&quot;: {&quot;coordinates&quot;: [[[126.99127915815644, 37.5676866425797], [126.98604088416438, 37.57832263843065], [126.97393533054088, 37.579825961300116], [126.9670719950972, 37.570695205299074], [126.97231088259824, 37.56006181435715], [126.98441249279733, 37.558556574809394], [126.99127915815644, 37.5676866425797]]], &quot;type&quot;: &quot;Polygon&quot;}, &quot;id&quot;: &quot;0&quot;, &quot;properties&quot;: {&quot;h3&quot;: &quot;8730e1d8cffffff&quot;}, &quot;type&quot;: &quot;Feature&quot;}, {&quot;bbox&quot;: [126.97496800531025, 37.564848887600526, 126.9833810750972, 37.57353454442488], &quot;geometry&quot;: {&quot;coordinates&quot;: [[[126.9833810750972, 37.56724252548529], [126.98286527200555, 37.57158553143224], [126.97865844647917, 37.57353454442488], [126.97496800531025, 37.57114059859651], [126.9754842483539, 37.5667979477132], [126.97969049265885, 37.564848887600526], [126.9833810750972, 37.56724252548529]]], &quot;type&quot;: &quot;Polygon&quot;}, &quot;id&quot;: &quot;1&quot;, &quot;properties&quot;: {&quot;h3&quot;: &quot;8830e1d8c1fffff&quot;}, &quot;type&quot;: &quot;Feature&quot;}, {&quot;bbox&quot;: [126.97721318511621, 37.564848887600526, 126.98067119034248, 37.567887371863684], &quot;geometry&quot;: {&quot;coordinates&quot;: [[[126.98067119034248, 37.56615318627243], [126.97992285769767, 37.567672454985704], [126.97819381484808, 37.567887371863684], [126.97721318511621, 37.566583059143696], [126.97796153027991, 37.565063843592945], [126.97969049265885, 37.564848887600526], [126.98067119034248, 37.56615318627243]]], &quot;type&quot;: &quot;Polygon&quot;}, &quot;id&quot;: &quot;2&quot;, &quot;properties&quot;: {&quot;h3&quot;: &quot;8930e1d8c0bffff&quot;}, &quot;type&quot;: &quot;Feature&quot;}, {&quot;bbox&quot;: [126.97834126027504, 37.565747740306406, 126.97954307288416, 37.56698853743801], &quot;geometry&quot;: {&quot;coordinates&quot;: [[[126.97954307288416, 37.566089690729406], [126.97946936107277, 37.56671009291827], [126.97886844883783, 37.56698853743801], [126.97834126027504, 37.56664658073016], [126.9784149810642, 37.5660261857874], [126.9790158814385, 37.565747740306406], [126.97954307288416, 37.566089690729406]]], &quot;type&quot;: &quot;Polygon&quot;}, &quot;id&quot;: &quot;3&quot;, &quot;properties&quot;: {&quot;h3&quot;: &quot;8a30e1d8c087fff&quot;}, &quot;type&quot;: &quot;Feature&quot;}, {&quot;bbox&quot;: [126.9783080751231, 37.565995480761, 126.97880207153979, 37.5664295477717], &quot;geometry&quot;: {&quot;coordinates&quot;: [[[126.97880207153979, 37.566181809495745], [126.97869516585416, 37.566398843543546], [126.9784481668247, 37.5664295477717], [126.9783080751231, 37.56624321875029], [126.9784149810642, 37.5660261857874], [126.97866197845146, 37.565995480761], [126.97880207153979, 37.566181809495745]]], &quot;type&quot;: &quot;Polygon&quot;}, &quot;id&quot;: &quot;4&quot;, &quot;properties&quot;: {&quot;h3&quot;: &quot;8b30e1d8c086fff&quot;}, &quot;type&quot;: &quot;Feature&quot;}], &quot;type&quot;: &quot;FeatureCollection&quot;});\n",
       "\n",
       "        \n",
       "&lt;/script&gt;\" style=\"position:absolute;width:100%;height:100%;left:0;top:0;border:none !important;\" allowfullscreen webkitallowfullscreen mozallowfullscreen></iframe></div></div>"
      ],
      "text/plain": [
       "<folium.folium.Map at 0x1f780a8f730>"
      ]
     },
     "execution_count": 12,
     "metadata": {},
     "output_type": "execute_result"
    }
   ],
   "source": [
    "def to_polygon(l) :\n",
    "    return Polygon(h3.h3_to_geo_boundary(l, geo_json=True))\n",
    "\n",
    "df = gpd.GeoDataFrame({'h3' : [lev7, lev8, lev9, lev10, lev11]})\n",
    "df['geometry'] = df['h3'].apply(to_polygon)\n",
    "df.crs = {'init' : 'epsg:4326'}\n",
    "\n",
    "seoul = [lat, lng]\n",
    "m = folium.Map(seoul, zoom_start = 15)\n",
    "folium.GeoJson(df).add_to(m)\n",
    "m"
   ]
  }
 ],
 "metadata": {
  "kernelspec": {
   "display_name": "Python 3.8.13 ('geo')",
   "language": "python",
   "name": "python3"
  },
  "language_info": {
   "codemirror_mode": {
    "name": "ipython",
    "version": 3
   },
   "file_extension": ".py",
   "mimetype": "text/x-python",
   "name": "python",
   "nbconvert_exporter": "python",
   "pygments_lexer": "ipython3",
   "version": "3.8.0"
  },
  "vscode": {
   "interpreter": {
    "hash": "173bf567dcd028830e314b2163476e4d76d9f1c8717735f96436895a5d66704d"
   }
  }
 },
 "nbformat": 4,
 "nbformat_minor": 2
}

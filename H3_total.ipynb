{
 "cells": [
  {
   "cell_type": "code",
   "execution_count": 10,
   "metadata": {},
   "outputs": [],
   "source": [
    "import os\n",
    "import geopandas as gpd\n",
    "import h3\n",
    "from shapely.geometry import Point, Polygon\n",
    "import pandas as pd\n",
    "import pydeck"
   ]
  },
  {
   "cell_type": "code",
   "execution_count": 48,
   "metadata": {},
   "outputs": [],
   "source": [
    "## 서울시 H3 그리드 불러오기\n",
    "seoul_grid = gpd.read_file(\"data/그리드/seoul_grid3.shp\")"
   ]
  },
  {
   "attachments": {},
   "cell_type": "markdown",
   "metadata": {},
   "source": [
    "### 건물"
   ]
  },
  {
   "cell_type": "code",
   "execution_count": 42,
   "metadata": {},
   "outputs": [],
   "source": [
    "## 서울시 건물 정보 불러오기\n",
    "build = gpd.read_file(\"data/F_FAC_BUILDING_서울/F_FAC_BUILDING_11_202210.shp\", encoding = 'euc-kr')"
   ]
  },
  {
   "cell_type": "code",
   "execution_count": 43,
   "metadata": {},
   "outputs": [
    {
     "name": "stderr",
     "output_type": "stream",
     "text": [
      "c:\\Users\\user\\Anaconda3\\envs\\geo\\lib\\site-packages\\geopandas\\geodataframe.py:1443: SettingWithCopyWarning: \n",
      "A value is trying to be set on a copy of a slice from a DataFrame.\n",
      "Try using .loc[row_indexer,col_indexer] = value instead\n",
      "\n",
      "See the caveats in the documentation: https://pandas.pydata.org/pandas-docs/stable/user_guide/indexing.html#returning-a-view-versus-a-copy\n",
      "  super().__setitem__(key, value)\n"
     ]
    }
   ],
   "source": [
    "## 건물명칭 / 통합높이 / geometry 추출\n",
    "build_height = build[['BLD_NM', 'HEIGHT', 'geometry']]\n",
    "\n",
    "## 건물의 중심점 추출하여 Point로 변환\n",
    "build_height['geometry'] = build_height['geometry'].centroid"
   ]
  },
  {
   "cell_type": "code",
   "execution_count": 44,
   "metadata": {},
   "outputs": [],
   "source": [
    "## 결측값 채우기 (서울시 외 H3 그리드)\n",
    "build_height['HEIGHT'] = build_height['HEIGHT'].fillna(0.0)\n",
    "build_height['BLD_NM'] = build_height['BLD_NM'].fillna(\"정보없음\")"
   ]
  },
  {
   "cell_type": "code",
   "execution_count": 45,
   "metadata": {},
   "outputs": [
    {
     "data": {
      "text/html": [
       "<div>\n",
       "<style scoped>\n",
       "    .dataframe tbody tr th:only-of-type {\n",
       "        vertical-align: middle;\n",
       "    }\n",
       "\n",
       "    .dataframe tbody tr th {\n",
       "        vertical-align: top;\n",
       "    }\n",
       "\n",
       "    .dataframe thead th {\n",
       "        text-align: right;\n",
       "    }\n",
       "</style>\n",
       "<table border=\"1\" class=\"dataframe\">\n",
       "  <thead>\n",
       "    <tr style=\"text-align: right;\">\n",
       "      <th></th>\n",
       "      <th>BLD_NM</th>\n",
       "      <th>HEIGHT</th>\n",
       "      <th>geometry</th>\n",
       "    </tr>\n",
       "  </thead>\n",
       "  <tbody>\n",
       "    <tr>\n",
       "      <th>0</th>\n",
       "      <td>정보없음</td>\n",
       "      <td>9.10</td>\n",
       "      <td>POINT (201839.038 452776.991)</td>\n",
       "    </tr>\n",
       "    <tr>\n",
       "      <th>1</th>\n",
       "      <td>정보없음</td>\n",
       "      <td>0.00</td>\n",
       "      <td>POINT (201343.829 452777.379)</td>\n",
       "    </tr>\n",
       "    <tr>\n",
       "      <th>2</th>\n",
       "      <td>정보없음</td>\n",
       "      <td>0.00</td>\n",
       "      <td>POINT (201375.177 452774.201)</td>\n",
       "    </tr>\n",
       "    <tr>\n",
       "      <th>3</th>\n",
       "      <td>정보없음</td>\n",
       "      <td>0.00</td>\n",
       "      <td>POINT (201388.462 452771.013)</td>\n",
       "    </tr>\n",
       "    <tr>\n",
       "      <th>4</th>\n",
       "      <td>정보없음</td>\n",
       "      <td>0.00</td>\n",
       "      <td>POINT (200468.269 452776.403)</td>\n",
       "    </tr>\n",
       "    <tr>\n",
       "      <th>...</th>\n",
       "      <td>...</td>\n",
       "      <td>...</td>\n",
       "      <td>...</td>\n",
       "    </tr>\n",
       "    <tr>\n",
       "      <th>697882</th>\n",
       "      <td>정보없음</td>\n",
       "      <td>18.00</td>\n",
       "      <td>POINT (201821.763 451827.109)</td>\n",
       "    </tr>\n",
       "    <tr>\n",
       "      <th>697883</th>\n",
       "      <td>DMC래미안클라시스</td>\n",
       "      <td>11.25</td>\n",
       "      <td>POINT (192517.135 452812.706)</td>\n",
       "    </tr>\n",
       "    <tr>\n",
       "      <th>697884</th>\n",
       "      <td>정보없음</td>\n",
       "      <td>10.20</td>\n",
       "      <td>POINT (202329.717 459965.755)</td>\n",
       "    </tr>\n",
       "    <tr>\n",
       "      <th>697885</th>\n",
       "      <td>정보없음</td>\n",
       "      <td>0.00</td>\n",
       "      <td>POINT (201343.914 458685.038)</td>\n",
       "    </tr>\n",
       "    <tr>\n",
       "      <th>697886</th>\n",
       "      <td>정보없음</td>\n",
       "      <td>12.90</td>\n",
       "      <td>POINT (200626.751 461379.041)</td>\n",
       "    </tr>\n",
       "  </tbody>\n",
       "</table>\n",
       "<p>697887 rows × 3 columns</p>\n",
       "</div>"
      ],
      "text/plain": [
       "            BLD_NM  HEIGHT                       geometry\n",
       "0             정보없음    9.10  POINT (201839.038 452776.991)\n",
       "1             정보없음    0.00  POINT (201343.829 452777.379)\n",
       "2             정보없음    0.00  POINT (201375.177 452774.201)\n",
       "3             정보없음    0.00  POINT (201388.462 452771.013)\n",
       "4             정보없음    0.00  POINT (200468.269 452776.403)\n",
       "...            ...     ...                            ...\n",
       "697882        정보없음   18.00  POINT (201821.763 451827.109)\n",
       "697883  DMC래미안클라시스   11.25  POINT (192517.135 452812.706)\n",
       "697884        정보없음   10.20  POINT (202329.717 459965.755)\n",
       "697885        정보없음    0.00  POINT (201343.914 458685.038)\n",
       "697886        정보없음   12.90  POINT (200626.751 461379.041)\n",
       "\n",
       "[697887 rows x 3 columns]"
      ]
     },
     "execution_count": 45,
     "metadata": {},
     "output_type": "execute_result"
    }
   ],
   "source": [
    "build_height"
   ]
  },
  {
   "cell_type": "code",
   "execution_count": 46,
   "metadata": {},
   "outputs": [],
   "source": [
    "## 건물 정보 좌표계 변경\n",
    "build_height = build_height.to_crs(epsg = 4326)"
   ]
  },
  {
   "cell_type": "code",
   "execution_count": 52,
   "metadata": {},
   "outputs": [
    {
     "name": "stderr",
     "output_type": "stream",
     "text": [
      "c:\\Users\\user\\Anaconda3\\envs\\geo\\lib\\site-packages\\IPython\\core\\interactiveshell.py:3318: FutureWarning: The `op` parameter is deprecated and will be removed in a future release. Please use the `predicate` parameter instead.\n",
      "  if await self.run_code(code, result, async_=asy):\n"
     ]
    },
    {
     "data": {
      "text/html": [
       "<div>\n",
       "<style scoped>\n",
       "    .dataframe tbody tr th:only-of-type {\n",
       "        vertical-align: middle;\n",
       "    }\n",
       "\n",
       "    .dataframe tbody tr th {\n",
       "        vertical-align: top;\n",
       "    }\n",
       "\n",
       "    .dataframe thead th {\n",
       "        text-align: right;\n",
       "    }\n",
       "</style>\n",
       "<table border=\"1\" class=\"dataframe\">\n",
       "  <thead>\n",
       "    <tr style=\"text-align: right;\">\n",
       "      <th></th>\n",
       "      <th>h3_9</th>\n",
       "      <th>geometry</th>\n",
       "      <th>index_right</th>\n",
       "      <th>BLD_NM</th>\n",
       "      <th>HEIGHT</th>\n",
       "    </tr>\n",
       "  </thead>\n",
       "  <tbody>\n",
       "    <tr>\n",
       "      <th>0</th>\n",
       "      <td>8930e0a5423ffff</td>\n",
       "      <td>POLYGON ((126.79014 37.60392, 126.78916 37.602...</td>\n",
       "      <td>NaN</td>\n",
       "      <td>NaN</td>\n",
       "      <td>NaN</td>\n",
       "    </tr>\n",
       "    <tr>\n",
       "      <th>1</th>\n",
       "      <td>8930e1d8127ffff</td>\n",
       "      <td>POLYGON ((126.97254 37.56289, 126.97156 37.561...</td>\n",
       "      <td>41697.0</td>\n",
       "      <td>정보없음</td>\n",
       "      <td>12.0</td>\n",
       "    </tr>\n",
       "    <tr>\n",
       "      <th>1</th>\n",
       "      <td>8930e1d8127ffff</td>\n",
       "      <td>POLYGON ((126.97254 37.56289, 126.97156 37.561...</td>\n",
       "      <td>36045.0</td>\n",
       "      <td>정보없음</td>\n",
       "      <td>0.0</td>\n",
       "    </tr>\n",
       "  </tbody>\n",
       "</table>\n",
       "</div>"
      ],
      "text/plain": [
       "              h3_9                                           geometry  \\\n",
       "0  8930e0a5423ffff  POLYGON ((126.79014 37.60392, 126.78916 37.602...   \n",
       "1  8930e1d8127ffff  POLYGON ((126.97254 37.56289, 126.97156 37.561...   \n",
       "1  8930e1d8127ffff  POLYGON ((126.97254 37.56289, 126.97156 37.561...   \n",
       "\n",
       "   index_right BLD_NM  HEIGHT  \n",
       "0          NaN    NaN     NaN  \n",
       "1      41697.0   정보없음    12.0  \n",
       "1      36045.0   정보없음     0.0  "
      ]
     },
     "execution_count": 52,
     "metadata": {},
     "output_type": "execute_result"
    }
   ],
   "source": [
    "## 그리드와 건물 정보 병합\n",
    "build_grid = gpd.sjoin(seoul_grid, build_height, how = \"left\", op = \"intersects\")\n",
    "build_grid.head(3)"
   ]
  },
  {
   "cell_type": "code",
   "execution_count": 53,
   "metadata": {},
   "outputs": [],
   "source": [
    "## 필요 column 추출\n",
    "build_a = build_grid[['h3_9', 'geometry']]"
   ]
  },
  {
   "cell_type": "code",
   "execution_count": 54,
   "metadata": {},
   "outputs": [],
   "source": [
    "## 그리드별 가장 높은 건물만 추출\n",
    "a = build_grid.groupby('h3_9', as_index = False)[['HEIGHT']].max()"
   ]
  },
  {
   "cell_type": "code",
   "execution_count": 55,
   "metadata": {},
   "outputs": [],
   "source": [
    "## 전체 데이터 + 높은 건물 데이터 결합\n",
    "b = pd.merge(build_a, a, how = 'left', on = 'h3_9')"
   ]
  },
  {
   "cell_type": "code",
   "execution_count": 56,
   "metadata": {},
   "outputs": [],
   "source": [
    "b = b.drop_duplicates(['h3_9'], keep = 'first')\n",
    "b.reset_index(inplace = True) # index reset\n",
    "b.drop('index', axis = 1, inplace = True) # drop in|dex"
   ]
  },
  {
   "cell_type": "code",
   "execution_count": 57,
   "metadata": {},
   "outputs": [],
   "source": [
    "build = gpd.GeoDataFrame(b)\n",
    "build = build.set_crs(epsg = 4326)"
   ]
  },
  {
   "cell_type": "code",
   "execution_count": 58,
   "metadata": {},
   "outputs": [],
   "source": [
    "build['HEIGHT'] = build['HEIGHT'].fillna(0.0)"
   ]
  },
  {
   "cell_type": "code",
   "execution_count": 60,
   "metadata": {},
   "outputs": [],
   "source": [
    "build.drop('geometry', axis = 1, inplace = True)\n",
    "build = pd.DataFrame(build)"
   ]
  },
  {
   "attachments": {},
   "cell_type": "markdown",
   "metadata": {},
   "source": [
    "### 토지"
   ]
  },
  {
   "cell_type": "code",
   "execution_count": 12,
   "metadata": {},
   "outputs": [],
   "source": [
    "## 서울시 토지 이용 현황 데이터 불러오기\n",
    "path = 'data/토지데이터/NGII_LUM_11_서울/'\n",
    "file_list = os.listdir(path)\n",
    "file_list = [file for file in file_list if file.endswith('.shp')]\n",
    "\n",
    "land = gpd.GeoDataFrame()\n",
    "\n",
    "for i in file_list:\n",
    "    data = gpd.read_file(path + i, crs = '5181')\n",
    "    land = pd.concat([land,data])\n",
    "    \n",
    "land = land.reset_index(drop = True)"
   ]
  },
  {
   "cell_type": "code",
   "execution_count": 16,
   "metadata": {},
   "outputs": [],
   "source": [
    "## 토지 정보 데이터 불러오기\n",
    "land_info = pd.read_excel('data/토지이용현황도_분류항목(코드).xls', header = 5)"
   ]
  },
  {
   "cell_type": "code",
   "execution_count": 17,
   "metadata": {},
   "outputs": [
    {
     "name": "stderr",
     "output_type": "stream",
     "text": [
      "C:\\Users\\user\\AppData\\Local\\Temp\\ipykernel_22388\\2534223690.py:2: SettingWithCopyWarning: \n",
      "A value is trying to be set on a copy of a slice from a DataFrame\n",
      "\n",
      "See the caveats in the documentation: https://pandas.pydata.org/pandas-docs/stable/user_guide/indexing.html#returning-a-view-versus-a-copy\n",
      "  land_info['대분류'][:4] = \"농지\"; land_info['대분류'][4:13] = \"임지\"\n",
      "C:\\Users\\user\\AppData\\Local\\Temp\\ipykernel_22388\\2534223690.py:3: SettingWithCopyWarning: \n",
      "A value is trying to be set on a copy of a slice from a DataFrame\n",
      "\n",
      "See the caveats in the documentation: https://pandas.pydata.org/pandas-docs/stable/user_guide/indexing.html#returning-a-view-versus-a-copy\n",
      "  land_info['대분류'][13:32] = \"도시 및 주거지\"; land_info['대분류'][32:] = \"수계\"\n"
     ]
    }
   ],
   "source": [
    "## 대분류 정리\n",
    "land_info['대분류'][:4] = \"농지\"; land_info['대분류'][4:13] = \"임지\"\n",
    "land_info['대분류'][13:32] = \"도시 및 주거지\"; land_info['대분류'][32:] = \"수계\""
   ]
  },
  {
   "cell_type": "code",
   "execution_count": 18,
   "metadata": {},
   "outputs": [],
   "source": [
    "## 필요 column 추출\n",
    "land_info = land_info[['대분류', '코드']]"
   ]
  },
  {
   "cell_type": "code",
   "execution_count": 19,
   "metadata": {},
   "outputs": [],
   "source": [
    "land_info = land_info.astype({'코드' : 'str'}) # merge 위해 자료형 맞춰주기"
   ]
  },
  {
   "cell_type": "code",
   "execution_count": 20,
   "metadata": {},
   "outputs": [],
   "source": [
    "## 토지 이용 현황 + 토지 정보 데이터 결합\n",
    "land = pd.merge(land, land_info, how = \"inner\", left_on = \"UCB\", right_on = \"코드\")"
   ]
  },
  {
   "cell_type": "code",
   "execution_count": 21,
   "metadata": {},
   "outputs": [],
   "source": [
    "## GeoDataFrame 형식으로 변환\n",
    "land = gpd.GeoDataFrame(land, geometry = 'geometry', crs = '5181')\n",
    "land = land.to_crs(4326)"
   ]
  },
  {
   "cell_type": "code",
   "execution_count": 23,
   "metadata": {},
   "outputs": [
    {
     "name": "stderr",
     "output_type": "stream",
     "text": [
      "C:\\Users\\user\\AppData\\Local\\Temp\\ipykernel_22388\\3796017722.py:3: UserWarning: Geometry is in a geographic CRS. Results from 'centroid' are likely incorrect. Use 'GeoSeries.to_crs()' to re-project geometries to a projected CRS before this operation.\n",
      "\n",
      "  seoul_cen['geometry'] = seoul_cen['geometry'].centroid\n"
     ]
    }
   ],
   "source": [
    "## 서울시 H3 그리드의 중심점 추출\n",
    "seoul_cen = gpd.GeoDataFrame(seoul_grid, geometry = \"geometry\", crs = \"4326\")\n",
    "seoul_cen['geometry'] = seoul_cen['geometry'].centroid"
   ]
  },
  {
   "cell_type": "code",
   "execution_count": 24,
   "metadata": {},
   "outputs": [],
   "source": [
    "## 토지 데이터 + 그리드 중심점 데이터 결합\n",
    "land_grid = gpd.sjoin(seoul_cen, land, how = \"left\")"
   ]
  },
  {
   "cell_type": "code",
   "execution_count": 25,
   "metadata": {},
   "outputs": [],
   "source": [
    "## 필요 column 추출\n",
    "land = land_grid[['h3_9', '대분류', '코드', 'geometry']]"
   ]
  },
  {
   "cell_type": "code",
   "execution_count": 63,
   "metadata": {},
   "outputs": [
    {
     "name": "stderr",
     "output_type": "stream",
     "text": [
      "C:\\Users\\user\\AppData\\Local\\Temp\\ipykernel_22388\\2373297437.py:1: SettingWithCopyWarning: \n",
      "A value is trying to be set on a copy of a slice from a DataFrame\n",
      "\n",
      "See the caveats in the documentation: https://pandas.pydata.org/pandas-docs/stable/user_guide/indexing.html#returning-a-view-versus-a-copy\n",
      "  land.drop('geometry', axis = 1, inplace = True)\n"
     ]
    }
   ],
   "source": [
    "land.drop('geometry', axis = 1, inplace = True)\n",
    "land = pd.DataFrame(land)"
   ]
  },
  {
   "attachments": {},
   "cell_type": "markdown",
   "metadata": {},
   "source": [
    "### 토지 + 건물"
   ]
  },
  {
   "cell_type": "code",
   "execution_count": 76,
   "metadata": {},
   "outputs": [],
   "source": [
    "total = pd.merge(build, land, on = 'h3_9')"
   ]
  },
  {
   "cell_type": "code",
   "execution_count": 78,
   "metadata": {},
   "outputs": [
    {
     "data": {
      "text/html": [
       "<div>\n",
       "<style scoped>\n",
       "    .dataframe tbody tr th:only-of-type {\n",
       "        vertical-align: middle;\n",
       "    }\n",
       "\n",
       "    .dataframe tbody tr th {\n",
       "        vertical-align: top;\n",
       "    }\n",
       "\n",
       "    .dataframe thead th {\n",
       "        text-align: right;\n",
       "    }\n",
       "</style>\n",
       "<table border=\"1\" class=\"dataframe\">\n",
       "  <thead>\n",
       "    <tr style=\"text-align: right;\">\n",
       "      <th></th>\n",
       "      <th>h3_9</th>\n",
       "      <th>HEIGHT</th>\n",
       "      <th>대분류</th>\n",
       "      <th>코드</th>\n",
       "    </tr>\n",
       "  </thead>\n",
       "  <tbody>\n",
       "    <tr>\n",
       "      <th>0</th>\n",
       "      <td>8930e0a5423ffff</td>\n",
       "      <td>0.00</td>\n",
       "      <td>도시 및 주거지</td>\n",
       "      <td>3210</td>\n",
       "    </tr>\n",
       "    <tr>\n",
       "      <th>1</th>\n",
       "      <td>8930e1d8127ffff</td>\n",
       "      <td>89.60</td>\n",
       "      <td>도시 및 주거지</td>\n",
       "      <td>3430</td>\n",
       "    </tr>\n",
       "    <tr>\n",
       "      <th>2</th>\n",
       "      <td>8930e1c24afffff</td>\n",
       "      <td>15.15</td>\n",
       "      <td>임지</td>\n",
       "      <td>2210</td>\n",
       "    </tr>\n",
       "    <tr>\n",
       "      <th>3</th>\n",
       "      <td>8930e1c3447ffff</td>\n",
       "      <td>22.47</td>\n",
       "      <td>도시 및 주거지</td>\n",
       "      <td>3430</td>\n",
       "    </tr>\n",
       "    <tr>\n",
       "      <th>4</th>\n",
       "      <td>8930e1d9d1bffff</td>\n",
       "      <td>0.00</td>\n",
       "      <td>도시 및 주거지</td>\n",
       "      <td>3430</td>\n",
       "    </tr>\n",
       "    <tr>\n",
       "      <th>...</th>\n",
       "      <td>...</td>\n",
       "      <td>...</td>\n",
       "      <td>...</td>\n",
       "      <td>...</td>\n",
       "    </tr>\n",
       "    <tr>\n",
       "      <th>37575</th>\n",
       "      <td>8930e15a3dbffff</td>\n",
       "      <td>0.00</td>\n",
       "      <td>NaN</td>\n",
       "      <td>NaN</td>\n",
       "    </tr>\n",
       "    <tr>\n",
       "      <th>37576</th>\n",
       "      <td>8930e15a237ffff</td>\n",
       "      <td>0.00</td>\n",
       "      <td>NaN</td>\n",
       "      <td>NaN</td>\n",
       "    </tr>\n",
       "    <tr>\n",
       "      <th>37577</th>\n",
       "      <td>8930e15a3d3ffff</td>\n",
       "      <td>0.00</td>\n",
       "      <td>NaN</td>\n",
       "      <td>NaN</td>\n",
       "    </tr>\n",
       "    <tr>\n",
       "      <th>37578</th>\n",
       "      <td>8930e15a223ffff</td>\n",
       "      <td>0.00</td>\n",
       "      <td>NaN</td>\n",
       "      <td>NaN</td>\n",
       "    </tr>\n",
       "    <tr>\n",
       "      <th>37579</th>\n",
       "      <td>8930e15a047ffff</td>\n",
       "      <td>0.00</td>\n",
       "      <td>NaN</td>\n",
       "      <td>NaN</td>\n",
       "    </tr>\n",
       "  </tbody>\n",
       "</table>\n",
       "<p>37580 rows × 4 columns</p>\n",
       "</div>"
      ],
      "text/plain": [
       "                  h3_9  HEIGHT       대분류    코드\n",
       "0      8930e0a5423ffff    0.00  도시 및 주거지  3210\n",
       "1      8930e1d8127ffff   89.60  도시 및 주거지  3430\n",
       "2      8930e1c24afffff   15.15        임지  2210\n",
       "3      8930e1c3447ffff   22.47  도시 및 주거지  3430\n",
       "4      8930e1d9d1bffff    0.00  도시 및 주거지  3430\n",
       "...                ...     ...       ...   ...\n",
       "37575  8930e15a3dbffff    0.00       NaN   NaN\n",
       "37576  8930e15a237ffff    0.00       NaN   NaN\n",
       "37577  8930e15a3d3ffff    0.00       NaN   NaN\n",
       "37578  8930e15a223ffff    0.00       NaN   NaN\n",
       "37579  8930e15a047ffff    0.00       NaN   NaN\n",
       "\n",
       "[37580 rows x 4 columns]"
      ]
     },
     "execution_count": 78,
     "metadata": {},
     "output_type": "execute_result"
    }
   ],
   "source": [
    "total"
   ]
  },
  {
   "cell_type": "code",
   "execution_count": 82,
   "metadata": {},
   "outputs": [],
   "source": [
    "total['코드'] = total['코드'].fillna('0000')\n",
    "total['대분류'] = total['대분류'].fillna('알수없음')"
   ]
  },
  {
   "cell_type": "code",
   "execution_count": 84,
   "metadata": {},
   "outputs": [],
   "source": [
    "## h3 index를 polygon으로 변환\n",
    "def to_polygon(l) :\n",
    "    return Polygon(h3.h3_to_geo_boundary(l, geo_json = True))\n",
    "\n",
    "total['geometry'] = total['h3_9'].apply(to_polygon)\n",
    "# total = total.set_crs(epsg = 4326)"
   ]
  },
  {
   "cell_type": "code",
   "execution_count": 86,
   "metadata": {},
   "outputs": [],
   "source": [
    "df = gpd.GeoDataFrame(total, geometry = 'geometry', crs = '4326')"
   ]
  },
  {
   "cell_type": "code",
   "execution_count": 87,
   "metadata": {},
   "outputs": [],
   "source": [
    "def polygon_to_coordinates(x) :\n",
    "    lon, lat = x.exterior.xy\n",
    "    return [[x, y] for x, y in zip(lon, lat)]"
   ]
  },
  {
   "cell_type": "code",
   "execution_count": 88,
   "metadata": {},
   "outputs": [],
   "source": [
    "df['coordinates'] = df['geometry'].apply(polygon_to_coordinates)\n",
    "del df['geometry']"
   ]
  },
  {
   "cell_type": "code",
   "execution_count": 89,
   "metadata": {},
   "outputs": [],
   "source": [
    "df = pd.DataFrame(df)"
   ]
  },
  {
   "cell_type": "code",
   "execution_count": 90,
   "metadata": {},
   "outputs": [],
   "source": [
    "df['color'] = df['코드'].str[:1]"
   ]
  },
  {
   "cell_type": "code",
   "execution_count": 91,
   "metadata": {},
   "outputs": [],
   "source": [
    "d = df[df['color'] == \"0\"].index\n",
    "df.drop(d, inplace = True)"
   ]
  },
  {
   "cell_type": "code",
   "execution_count": 92,
   "metadata": {},
   "outputs": [],
   "source": [
    "df.loc[df[\"color\"] == \"1\", \"color_R\"] = 0\n",
    "df.loc[df[\"color\"] == \"1\", \"color_G\"] = 255\n",
    "df.loc[df[\"color\"] == \"1\", \"color_B\"] = 0\n",
    "\n",
    "df.loc[df[\"color\"] == \"2\", \"color_R\"] = 255\n",
    "df.loc[df[\"color\"] == \"2\", \"color_G\"] = 255\n",
    "df.loc[df[\"color\"] == \"2\", \"color_B\"] = 0\n",
    "\n",
    "df.loc[df[\"color\"] == \"3\", \"color_R\"] = 255\n",
    "df.loc[df[\"color\"] == \"3\", \"color_G\"] = 0\n",
    "df.loc[df[\"color\"] == \"3\", \"color_B\"] = 255\n",
    "\n",
    "df.loc[df[\"color\"] == \"4\", \"color_R\"] = 0\n",
    "df.loc[df[\"color\"] == \"4\", \"color_G\"] = 0\n",
    "df.loc[df[\"color\"] == \"4\", \"color_B\"] = 255"
   ]
  },
  {
   "cell_type": "code",
   "execution_count": 93,
   "metadata": {},
   "outputs": [],
   "source": [
    "import pydeck as pdk"
   ]
  },
  {
   "cell_type": "code",
   "execution_count": 94,
   "metadata": {},
   "outputs": [
    {
     "data": {
      "application/vnd.jupyter.widget-view+json": {
       "model_id": "07b76a789ae046ae9ca7b72d0ea10891",
       "version_major": 2,
       "version_minor": 0
      },
      "text/plain": [
       "DeckGLWidget(carto_key=None, custom_libraries=[], google_maps_key=None, json_input='{\\n  \"initialViewState\": {…"
      ]
     },
     "metadata": {},
     "output_type": "display_data"
    }
   ],
   "source": [
    "layer = pdk.Layer(\n",
    "    \"PolygonLayer\",\n",
    "    df,\n",
    "    get_polygon = \"coordinates\",\n",
    "    get_fill_color = '[1 * color_R,  1 * color_G , 1 * color_B]',\n",
    "    pickable = True,\n",
    "    auto_highlight = True\n",
    ")\n",
    "\n",
    "# 서울시청 주소\n",
    "lat = 37.5662; lng = 126.9787\n",
    "seoul = [lat, lng]\n",
    "\n",
    "view_state = pdk.ViewState(\n",
    "    longitude = seoul[1],\n",
    "    latitude = seoul[0],\n",
    "    zoom = 14\n",
    ")\n",
    "\n",
    "r = pdk.Deck(layers = [layer], initial_view_state = view_state)\n",
    "r.show()"
   ]
  }
 ],
 "metadata": {
  "kernelspec": {
   "display_name": "geo",
   "language": "python",
   "name": "python3"
  },
  "language_info": {
   "codemirror_mode": {
    "name": "ipython",
    "version": 3
   },
   "file_extension": ".py",
   "mimetype": "text/x-python",
   "name": "python",
   "nbconvert_exporter": "python",
   "pygments_lexer": "ipython3",
   "version": "3.8.13"
  },
  "orig_nbformat": 4,
  "vscode": {
   "interpreter": {
    "hash": "3e5f5473658ae5ec018127d3f4d6c9ec83ecb3efcc215471238b74c271e6f6b5"
   }
  }
 },
 "nbformat": 4,
 "nbformat_minor": 2
}

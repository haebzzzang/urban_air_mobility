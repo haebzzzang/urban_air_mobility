{
 "cells": [
  {
   "cell_type": "code",
   "execution_count": 1,
   "metadata": {},
   "outputs": [],
   "source": [
    "import geopandas as gpd\n",
    "import h3\n",
    "from shapely.geometry import Point, Polygon, LineString\n",
    "import folium"
   ]
  },
  {
   "cell_type": "code",
   "execution_count": 2,
   "metadata": {},
   "outputs": [],
   "source": [
    "build = gpd.read_file(\"데이터/F_FAC_BUILDING_서울/F_FAC_BUILDING_11_202210.shp\", encoding = 'euc-kr')"
   ]
  },
  {
   "cell_type": "code",
   "execution_count": 3,
   "metadata": {},
   "outputs": [
    {
     "data": {
      "text/html": [
       "<div>\n",
       "<style scoped>\n",
       "    .dataframe tbody tr th:only-of-type {\n",
       "        vertical-align: middle;\n",
       "    }\n",
       "\n",
       "    .dataframe tbody tr th {\n",
       "        vertical-align: top;\n",
       "    }\n",
       "\n",
       "    .dataframe thead th {\n",
       "        text-align: right;\n",
       "    }\n",
       "</style>\n",
       "<table border=\"1\" class=\"dataframe\">\n",
       "  <thead>\n",
       "    <tr style=\"text-align: right;\">\n",
       "      <th></th>\n",
       "      <th>UFID</th>\n",
       "      <th>BLD_NM</th>\n",
       "      <th>DONG_NM</th>\n",
       "      <th>GRND_FLR</th>\n",
       "      <th>UGRND_FLR</th>\n",
       "      <th>PNU</th>\n",
       "      <th>ARCHAREA</th>\n",
       "      <th>TOTALAREA</th>\n",
       "      <th>PLATAREA</th>\n",
       "      <th>HEIGHT</th>\n",
       "      <th>...</th>\n",
       "      <th>GB_CD</th>\n",
       "      <th>VIOL_BD_YN</th>\n",
       "      <th>GEOIDN</th>\n",
       "      <th>BLDG_PNU</th>\n",
       "      <th>BLDG_PNU_Y</th>\n",
       "      <th>BLD_UNLICE</th>\n",
       "      <th>BD_MGT_SN</th>\n",
       "      <th>SGG_OID</th>\n",
       "      <th>COL_ADM_SE</th>\n",
       "      <th>geometry</th>\n",
       "    </tr>\n",
       "  </thead>\n",
       "  <tbody>\n",
       "    <tr>\n",
       "      <th>0</th>\n",
       "      <td>1991201839054527769900000000</td>\n",
       "      <td>None</td>\n",
       "      <td>None</td>\n",
       "      <td>3.0</td>\n",
       "      <td>0.0</td>\n",
       "      <td>1111017500107040000</td>\n",
       "      <td>57.6</td>\n",
       "      <td>203.13</td>\n",
       "      <td>100.6</td>\n",
       "      <td>9.1</td>\n",
       "      <td>...</td>\n",
       "      <td>0</td>\n",
       "      <td>0</td>\n",
       "      <td>B00100000000T30Z9</td>\n",
       "      <td>None</td>\n",
       "      <td>None</td>\n",
       "      <td>None</td>\n",
       "      <td>1111017500107040000001651</td>\n",
       "      <td>32</td>\n",
       "      <td>11110</td>\n",
       "      <td>POLYGON ((201844.048 452780.137, 201842.638 45...</td>\n",
       "    </tr>\n",
       "    <tr>\n",
       "      <th>1</th>\n",
       "      <td>1967201343844527773800000000</td>\n",
       "      <td>None</td>\n",
       "      <td>None</td>\n",
       "      <td>3.0</td>\n",
       "      <td>0.0</td>\n",
       "      <td>1111017500100560024</td>\n",
       "      <td>0.0</td>\n",
       "      <td>114.98</td>\n",
       "      <td>0.0</td>\n",
       "      <td>0.0</td>\n",
       "      <td>...</td>\n",
       "      <td>0</td>\n",
       "      <td>0</td>\n",
       "      <td>B00100000000T311B</td>\n",
       "      <td>None</td>\n",
       "      <td>None</td>\n",
       "      <td>None</td>\n",
       "      <td>1111017500100560024002963</td>\n",
       "      <td>34</td>\n",
       "      <td>11110</td>\n",
       "      <td>POLYGON ((201344.164 452773.285, 201340.604 45...</td>\n",
       "    </tr>\n",
       "    <tr>\n",
       "      <th>2</th>\n",
       "      <td>1962201375194527742000000000</td>\n",
       "      <td>None</td>\n",
       "      <td>None</td>\n",
       "      <td>2.0</td>\n",
       "      <td>0.0</td>\n",
       "      <td>1111017500100560054</td>\n",
       "      <td>0.0</td>\n",
       "      <td>135.20</td>\n",
       "      <td>0.0</td>\n",
       "      <td>0.0</td>\n",
       "      <td>...</td>\n",
       "      <td>0</td>\n",
       "      <td>0</td>\n",
       "      <td>B00100000000T313D</td>\n",
       "      <td>None</td>\n",
       "      <td>None</td>\n",
       "      <td>None</td>\n",
       "      <td>1111017500100560054002866</td>\n",
       "      <td>36</td>\n",
       "      <td>11110</td>\n",
       "      <td>POLYGON ((201373.004 452770.525, 201372.704 45...</td>\n",
       "    </tr>\n",
       "  </tbody>\n",
       "</table>\n",
       "<p>3 rows × 27 columns</p>\n",
       "</div>"
      ],
      "text/plain": [
       "                           UFID BLD_NM DONG_NM  GRND_FLR  UGRND_FLR  \\\n",
       "0  1991201839054527769900000000   None    None       3.0        0.0   \n",
       "1  1967201343844527773800000000   None    None       3.0        0.0   \n",
       "2  1962201375194527742000000000   None    None       2.0        0.0   \n",
       "\n",
       "                   PNU  ARCHAREA  TOTALAREA  PLATAREA  HEIGHT  ... GB_CD  \\\n",
       "0  1111017500107040000      57.6     203.13     100.6     9.1  ...     0   \n",
       "1  1111017500100560024       0.0     114.98       0.0     0.0  ...     0   \n",
       "2  1111017500100560054       0.0     135.20       0.0     0.0  ...     0   \n",
       "\n",
       "  VIOL_BD_YN             GEOIDN  BLDG_PNU BLDG_PNU_Y BLD_UNLICE  \\\n",
       "0          0  B00100000000T30Z9      None       None       None   \n",
       "1          0  B00100000000T311B      None       None       None   \n",
       "2          0  B00100000000T313D      None       None       None   \n",
       "\n",
       "                   BD_MGT_SN SGG_OID COL_ADM_SE  \\\n",
       "0  1111017500107040000001651      32      11110   \n",
       "1  1111017500100560024002963      34      11110   \n",
       "2  1111017500100560054002866      36      11110   \n",
       "\n",
       "                                            geometry  \n",
       "0  POLYGON ((201844.048 452780.137, 201842.638 45...  \n",
       "1  POLYGON ((201344.164 452773.285, 201340.604 45...  \n",
       "2  POLYGON ((201373.004 452770.525, 201372.704 45...  \n",
       "\n",
       "[3 rows x 27 columns]"
      ]
     },
     "execution_count": 3,
     "metadata": {},
     "output_type": "execute_result"
    }
   ],
   "source": [
    "build.head(3)"
   ]
  },
  {
   "cell_type": "code",
   "execution_count": 4,
   "metadata": {},
   "outputs": [
    {
     "data": {
      "text/html": [
       "<div>\n",
       "<style scoped>\n",
       "    .dataframe tbody tr th:only-of-type {\n",
       "        vertical-align: middle;\n",
       "    }\n",
       "\n",
       "    .dataframe tbody tr th {\n",
       "        vertical-align: top;\n",
       "    }\n",
       "\n",
       "    .dataframe thead th {\n",
       "        text-align: right;\n",
       "    }\n",
       "</style>\n",
       "<table border=\"1\" class=\"dataframe\">\n",
       "  <thead>\n",
       "    <tr style=\"text-align: right;\">\n",
       "      <th></th>\n",
       "      <th>GRND_FLR</th>\n",
       "      <th>HEIGHT</th>\n",
       "      <th>geometry</th>\n",
       "    </tr>\n",
       "  </thead>\n",
       "  <tbody>\n",
       "    <tr>\n",
       "      <th>0</th>\n",
       "      <td>3.0</td>\n",
       "      <td>9.1</td>\n",
       "      <td>POLYGON ((201844.048 452780.137, 201842.638 45...</td>\n",
       "    </tr>\n",
       "    <tr>\n",
       "      <th>1</th>\n",
       "      <td>3.0</td>\n",
       "      <td>0.0</td>\n",
       "      <td>POLYGON ((201344.164 452773.285, 201340.604 45...</td>\n",
       "    </tr>\n",
       "    <tr>\n",
       "      <th>2</th>\n",
       "      <td>2.0</td>\n",
       "      <td>0.0</td>\n",
       "      <td>POLYGON ((201373.004 452770.525, 201372.704 45...</td>\n",
       "    </tr>\n",
       "  </tbody>\n",
       "</table>\n",
       "</div>"
      ],
      "text/plain": [
       "   GRND_FLR  HEIGHT                                           geometry\n",
       "0       3.0     9.1  POLYGON ((201844.048 452780.137, 201842.638 45...\n",
       "1       3.0     0.0  POLYGON ((201344.164 452773.285, 201340.604 45...\n",
       "2       2.0     0.0  POLYGON ((201373.004 452770.525, 201372.704 45..."
      ]
     },
     "execution_count": 4,
     "metadata": {},
     "output_type": "execute_result"
    }
   ],
   "source": [
    "build_height = build[['GRND_FLR', 'HEIGHT', 'geometry']]\n",
    "build_height.head(3)"
   ]
  },
  {
   "cell_type": "code",
   "execution_count": 5,
   "metadata": {},
   "outputs": [
    {
     "data": {
      "text/plain": [
       "0         POINT (201839.038 452776.991)\n",
       "1         POINT (201343.829 452777.379)\n",
       "2         POINT (201375.177 452774.201)\n",
       "3         POINT (201388.462 452771.013)\n",
       "4         POINT (200468.269 452776.403)\n",
       "                      ...              \n",
       "697882    POINT (201821.763 451827.109)\n",
       "697883    POINT (192517.135 452812.706)\n",
       "697884    POINT (202329.717 459965.755)\n",
       "697885    POINT (201343.914 458685.038)\n",
       "697886    POINT (200626.751 461379.041)\n",
       "Length: 697887, dtype: geometry"
      ]
     },
     "execution_count": 5,
     "metadata": {},
     "output_type": "execute_result"
    }
   ],
   "source": [
    "# 건물을 Point로 변환하기 위하여 중심점 추출\n",
    "build_height['geometry'].centroid"
   ]
  },
  {
   "cell_type": "code",
   "execution_count": 6,
   "metadata": {},
   "outputs": [
    {
     "data": {
      "text/html": [
       "<div>\n",
       "<style scoped>\n",
       "    .dataframe tbody tr th:only-of-type {\n",
       "        vertical-align: middle;\n",
       "    }\n",
       "\n",
       "    .dataframe tbody tr th {\n",
       "        vertical-align: top;\n",
       "    }\n",
       "\n",
       "    .dataframe thead th {\n",
       "        text-align: right;\n",
       "    }\n",
       "</style>\n",
       "<table border=\"1\" class=\"dataframe\">\n",
       "  <thead>\n",
       "    <tr style=\"text-align: right;\">\n",
       "      <th></th>\n",
       "      <th>GRND_FLR</th>\n",
       "      <th>HEIGHT</th>\n",
       "      <th>geometry</th>\n",
       "    </tr>\n",
       "  </thead>\n",
       "  <tbody>\n",
       "    <tr>\n",
       "      <th>0</th>\n",
       "      <td>3.0</td>\n",
       "      <td>9.1</td>\n",
       "      <td>POLYGON ((201844.048 452780.137, 201842.638 45...</td>\n",
       "    </tr>\n",
       "    <tr>\n",
       "      <th>1</th>\n",
       "      <td>3.0</td>\n",
       "      <td>0.0</td>\n",
       "      <td>POLYGON ((201344.164 452773.285, 201340.604 45...</td>\n",
       "    </tr>\n",
       "    <tr>\n",
       "      <th>2</th>\n",
       "      <td>2.0</td>\n",
       "      <td>0.0</td>\n",
       "      <td>POLYGON ((201373.004 452770.525, 201372.704 45...</td>\n",
       "    </tr>\n",
       "  </tbody>\n",
       "</table>\n",
       "</div>"
      ],
      "text/plain": [
       "   GRND_FLR  HEIGHT                                           geometry\n",
       "0       3.0     9.1  POLYGON ((201844.048 452780.137, 201842.638 45...\n",
       "1       3.0     0.0  POLYGON ((201344.164 452773.285, 201340.604 45...\n",
       "2       2.0     0.0  POLYGON ((201373.004 452770.525, 201372.704 45..."
      ]
     },
     "execution_count": 6,
     "metadata": {},
     "output_type": "execute_result"
    }
   ],
   "source": [
    "build_point = build_height.copy()\n",
    "build_point.head(3)"
   ]
  },
  {
   "cell_type": "code",
   "execution_count": 7,
   "metadata": {},
   "outputs": [
    {
     "data": {
      "text/html": [
       "<div>\n",
       "<style scoped>\n",
       "    .dataframe tbody tr th:only-of-type {\n",
       "        vertical-align: middle;\n",
       "    }\n",
       "\n",
       "    .dataframe tbody tr th {\n",
       "        vertical-align: top;\n",
       "    }\n",
       "\n",
       "    .dataframe thead th {\n",
       "        text-align: right;\n",
       "    }\n",
       "</style>\n",
       "<table border=\"1\" class=\"dataframe\">\n",
       "  <thead>\n",
       "    <tr style=\"text-align: right;\">\n",
       "      <th></th>\n",
       "      <th>GRND_FLR</th>\n",
       "      <th>HEIGHT</th>\n",
       "      <th>geometry</th>\n",
       "    </tr>\n",
       "  </thead>\n",
       "  <tbody>\n",
       "    <tr>\n",
       "      <th>0</th>\n",
       "      <td>3.0</td>\n",
       "      <td>9.1</td>\n",
       "      <td>POINT (201839.038 452776.991)</td>\n",
       "    </tr>\n",
       "    <tr>\n",
       "      <th>1</th>\n",
       "      <td>3.0</td>\n",
       "      <td>0.0</td>\n",
       "      <td>POINT (201343.829 452777.379)</td>\n",
       "    </tr>\n",
       "    <tr>\n",
       "      <th>2</th>\n",
       "      <td>2.0</td>\n",
       "      <td>0.0</td>\n",
       "      <td>POINT (201375.177 452774.201)</td>\n",
       "    </tr>\n",
       "  </tbody>\n",
       "</table>\n",
       "</div>"
      ],
      "text/plain": [
       "   GRND_FLR  HEIGHT                       geometry\n",
       "0       3.0     9.1  POINT (201839.038 452776.991)\n",
       "1       3.0     0.0  POINT (201343.829 452777.379)\n",
       "2       2.0     0.0  POINT (201375.177 452774.201)"
      ]
     },
     "execution_count": 7,
     "metadata": {},
     "output_type": "execute_result"
    }
   ],
   "source": [
    "build_point['geometry'] = build_point['geometry'].centroid\n",
    "build_point.head(3)"
   ]
  },
  {
   "cell_type": "code",
   "execution_count": 8,
   "metadata": {},
   "outputs": [],
   "source": [
    "build_point = build_point.to_crs(epsg = 4326)"
   ]
  },
  {
   "cell_type": "code",
   "execution_count": 9,
   "metadata": {},
   "outputs": [],
   "source": [
    "lng = []; lat = []\n",
    "\n",
    "for i in range(len(build_point)) :\n",
    "    a = list(build_point['geometry'][i].coords)\n",
    "    lat.append(a[0][1])\n",
    "    lng.append(a[0][0])"
   ]
  },
  {
   "cell_type": "code",
   "execution_count": 10,
   "metadata": {},
   "outputs": [],
   "source": [
    "build_point['lat'] = lat; build_point['lng'] = lng"
   ]
  },
  {
   "cell_type": "code",
   "execution_count": 11,
   "metadata": {},
   "outputs": [
    {
     "data": {
      "text/html": [
       "<div>\n",
       "<style scoped>\n",
       "    .dataframe tbody tr th:only-of-type {\n",
       "        vertical-align: middle;\n",
       "    }\n",
       "\n",
       "    .dataframe tbody tr th {\n",
       "        vertical-align: top;\n",
       "    }\n",
       "\n",
       "    .dataframe thead th {\n",
       "        text-align: right;\n",
       "    }\n",
       "</style>\n",
       "<table border=\"1\" class=\"dataframe\">\n",
       "  <thead>\n",
       "    <tr style=\"text-align: right;\">\n",
       "      <th></th>\n",
       "      <th>GRND_FLR</th>\n",
       "      <th>HEIGHT</th>\n",
       "      <th>geometry</th>\n",
       "      <th>lat</th>\n",
       "      <th>lng</th>\n",
       "    </tr>\n",
       "  </thead>\n",
       "  <tbody>\n",
       "    <tr>\n",
       "      <th>0</th>\n",
       "      <td>3.0</td>\n",
       "      <td>9.1</td>\n",
       "      <td>POINT (127.02161 37.57729)</td>\n",
       "      <td>37.577287</td>\n",
       "      <td>127.021607</td>\n",
       "    </tr>\n",
       "    <tr>\n",
       "      <th>1</th>\n",
       "      <td>3.0</td>\n",
       "      <td>0.0</td>\n",
       "      <td>POINT (127.01600 37.57729)</td>\n",
       "      <td>37.577291</td>\n",
       "      <td>127.016001</td>\n",
       "    </tr>\n",
       "    <tr>\n",
       "      <th>2</th>\n",
       "      <td>2.0</td>\n",
       "      <td>0.0</td>\n",
       "      <td>POINT (127.01636 37.57726)</td>\n",
       "      <td>37.577262</td>\n",
       "      <td>127.016356</td>\n",
       "    </tr>\n",
       "  </tbody>\n",
       "</table>\n",
       "</div>"
      ],
      "text/plain": [
       "   GRND_FLR  HEIGHT                    geometry        lat         lng\n",
       "0       3.0     9.1  POINT (127.02161 37.57729)  37.577287  127.021607\n",
       "1       3.0     0.0  POINT (127.01600 37.57729)  37.577291  127.016001\n",
       "2       2.0     0.0  POINT (127.01636 37.57726)  37.577262  127.016356"
      ]
     },
     "execution_count": 11,
     "metadata": {},
     "output_type": "execute_result"
    }
   ],
   "source": [
    "build_point.head(3)"
   ]
  },
  {
   "cell_type": "code",
   "execution_count": 12,
   "metadata": {},
   "outputs": [],
   "source": [
    "h3_9 = []\n",
    "\n",
    "for i in range(len(build_point)) :\n",
    "    h3_9.append(h3.geo_to_h3(build_point['lat'][i], build_point['lng'][i], 9))\n",
    "\n",
    "build_point['h3_9'] = h3_9"
   ]
  },
  {
   "cell_type": "code",
   "execution_count": 13,
   "metadata": {},
   "outputs": [],
   "source": [
    "def to_polygon(l) :\n",
    "    return Polygon(h3.h3_to_geo_boundary(l, geo_json = True))"
   ]
  },
  {
   "cell_type": "code",
   "execution_count": 14,
   "metadata": {},
   "outputs": [],
   "source": [
    "build_h3 = gpd.GeoDataFrame()\n",
    "build_h3['GRND_FLR'] = build_point['GRND_FLR']\n",
    "build_h3['HEIGHT'] = build_point['HEIGHT']\n",
    "build_h3['geometry'] = build_point['h3_9'].apply(to_polygon)"
   ]
  },
  {
   "cell_type": "code",
   "execution_count": 15,
   "metadata": {},
   "outputs": [
    {
     "data": {
      "text/html": [
       "<div>\n",
       "<style scoped>\n",
       "    .dataframe tbody tr th:only-of-type {\n",
       "        vertical-align: middle;\n",
       "    }\n",
       "\n",
       "    .dataframe tbody tr th {\n",
       "        vertical-align: top;\n",
       "    }\n",
       "\n",
       "    .dataframe thead th {\n",
       "        text-align: right;\n",
       "    }\n",
       "</style>\n",
       "<table border=\"1\" class=\"dataframe\">\n",
       "  <thead>\n",
       "    <tr style=\"text-align: right;\">\n",
       "      <th></th>\n",
       "      <th>GRND_FLR</th>\n",
       "      <th>HEIGHT</th>\n",
       "      <th>geometry</th>\n",
       "    </tr>\n",
       "  </thead>\n",
       "  <tbody>\n",
       "    <tr>\n",
       "      <th>0</th>\n",
       "      <td>3.0</td>\n",
       "      <td>9.1</td>\n",
       "      <td>POLYGON ((127.02359 37.57793, 127.02284 37.579...</td>\n",
       "    </tr>\n",
       "    <tr>\n",
       "      <th>1</th>\n",
       "      <td>3.0</td>\n",
       "      <td>0.0</td>\n",
       "      <td>POLYGON ((127.01816 37.57575, 127.01741 37.577...</td>\n",
       "    </tr>\n",
       "    <tr>\n",
       "      <th>2</th>\n",
       "      <td>2.0</td>\n",
       "      <td>0.0</td>\n",
       "      <td>POLYGON ((127.01816 37.57575, 127.01741 37.577...</td>\n",
       "    </tr>\n",
       "  </tbody>\n",
       "</table>\n",
       "</div>"
      ],
      "text/plain": [
       "   GRND_FLR  HEIGHT                                           geometry\n",
       "0       3.0     9.1  POLYGON ((127.02359 37.57793, 127.02284 37.579...\n",
       "1       3.0     0.0  POLYGON ((127.01816 37.57575, 127.01741 37.577...\n",
       "2       2.0     0.0  POLYGON ((127.01816 37.57575, 127.01741 37.577..."
      ]
     },
     "execution_count": 15,
     "metadata": {},
     "output_type": "execute_result"
    }
   ],
   "source": [
    "build_h3 = build_h3.set_crs(epsg = 4326)\n",
    "build_h3.head(3)"
   ]
  },
  {
   "cell_type": "code",
   "execution_count": 16,
   "metadata": {},
   "outputs": [
    {
     "data": {
      "text/plain": [
       "True"
      ]
     },
     "execution_count": 16,
     "metadata": {},
     "output_type": "execute_result"
    }
   ],
   "source": [
    "build_point['geometry'][0].within(build_h3['geometry'][0])"
   ]
  },
  {
   "cell_type": "code",
   "execution_count": 17,
   "metadata": {},
   "outputs": [
    {
     "name": "stderr",
     "output_type": "stream",
     "text": [
      "c:\\Users\\rproject\\anaconda3\\envs\\geo\\lib\\site-packages\\IPython\\core\\interactiveshell.py:3318: FutureWarning: The `op` parameter is deprecated and will be removed in a future release. Please use the `predicate` parameter instead.\n",
      "  if await self.run_code(code, result, async_=asy):\n"
     ]
    }
   ],
   "source": [
    "build_join = gpd.sjoin(build_h3, build_point, how = \"left\", op = \"intersects\")\n",
    "build_join.head(3)"
   ]
  },
  {
   "cell_type": "code",
   "execution_count": 20,
   "metadata": {},
   "outputs": [
    {
     "data": {
      "text/html": [
       "<div>\n",
       "<style scoped>\n",
       "    .dataframe tbody tr th:only-of-type {\n",
       "        vertical-align: middle;\n",
       "    }\n",
       "\n",
       "    .dataframe tbody tr th {\n",
       "        vertical-align: top;\n",
       "    }\n",
       "\n",
       "    .dataframe thead th {\n",
       "        text-align: right;\n",
       "    }\n",
       "</style>\n",
       "<table border=\"1\" class=\"dataframe\">\n",
       "  <thead>\n",
       "    <tr style=\"text-align: right;\">\n",
       "      <th></th>\n",
       "      <th>index_left</th>\n",
       "      <th>GRND_FLR_left</th>\n",
       "      <th>HEIGHT_left</th>\n",
       "      <th>GRND_FLR_right</th>\n",
       "      <th>HEIGHT_right</th>\n",
       "      <th>geometry</th>\n",
       "      <th>lat</th>\n",
       "      <th>lng</th>\n",
       "      <th>h3_9</th>\n",
       "    </tr>\n",
       "  </thead>\n",
       "  <tbody>\n",
       "    <tr>\n",
       "      <th>0</th>\n",
       "      <td>NaN</td>\n",
       "      <td>NaN</td>\n",
       "      <td>NaN</td>\n",
       "      <td>3.0</td>\n",
       "      <td>9.1</td>\n",
       "      <td>POINT (127.02161 37.57729)</td>\n",
       "      <td>37.577287</td>\n",
       "      <td>127.021607</td>\n",
       "      <td>8930e1c3263ffff</td>\n",
       "    </tr>\n",
       "    <tr>\n",
       "      <th>1</th>\n",
       "      <td>NaN</td>\n",
       "      <td>NaN</td>\n",
       "      <td>NaN</td>\n",
       "      <td>3.0</td>\n",
       "      <td>0.0</td>\n",
       "      <td>POINT (127.01600 37.57729)</td>\n",
       "      <td>37.577291</td>\n",
       "      <td>127.016001</td>\n",
       "      <td>8930e1c324fffff</td>\n",
       "    </tr>\n",
       "    <tr>\n",
       "      <th>2</th>\n",
       "      <td>NaN</td>\n",
       "      <td>NaN</td>\n",
       "      <td>NaN</td>\n",
       "      <td>2.0</td>\n",
       "      <td>0.0</td>\n",
       "      <td>POINT (127.01636 37.57726)</td>\n",
       "      <td>37.577262</td>\n",
       "      <td>127.016356</td>\n",
       "      <td>8930e1c324fffff</td>\n",
       "    </tr>\n",
       "  </tbody>\n",
       "</table>\n",
       "</div>"
      ],
      "text/plain": [
       "   index_left  GRND_FLR_left  HEIGHT_left  GRND_FLR_right  HEIGHT_right  \\\n",
       "0         NaN            NaN          NaN             3.0           9.1   \n",
       "1         NaN            NaN          NaN             3.0           0.0   \n",
       "2         NaN            NaN          NaN             2.0           0.0   \n",
       "\n",
       "                     geometry        lat         lng             h3_9  \n",
       "0  POINT (127.02161 37.57729)  37.577287  127.021607  8930e1c3263ffff  \n",
       "1  POINT (127.01600 37.57729)  37.577291  127.016001  8930e1c324fffff  \n",
       "2  POINT (127.01636 37.57726)  37.577262  127.016356  8930e1c324fffff  "
      ]
     },
     "execution_count": 20,
     "metadata": {},
     "output_type": "execute_result"
    }
   ],
   "source": [
    "a.head(3)"
   ]
  },
  {
   "cell_type": "code",
   "execution_count": null,
   "metadata": {},
   "outputs": [],
   "source": [
    "# 서울시청 주소\n",
    "lat = 37.5662; lng = 126.9787\n",
    "lev8 = h3.geo_to_h3(lat, lng, 8)"
   ]
  },
  {
   "cell_type": "code",
   "execution_count": null,
   "metadata": {},
   "outputs": [],
   "source": [
    "seoul = [lat, lng]"
   ]
  }
 ],
 "metadata": {
  "kernelspec": {
   "display_name": "Python 3.8.13 ('geo')",
   "language": "python",
   "name": "python3"
  },
  "language_info": {
   "codemirror_mode": {
    "name": "ipython",
    "version": 3
   },
   "file_extension": ".py",
   "mimetype": "text/x-python",
   "name": "python",
   "nbconvert_exporter": "python",
   "pygments_lexer": "ipython3",
   "version": "3.8.0"
  },
  "orig_nbformat": 4,
  "vscode": {
   "interpreter": {
    "hash": "173bf567dcd028830e314b2163476e4d76d9f1c8717735f96436895a5d66704d"
   }
  }
 },
 "nbformat": 4,
 "nbformat_minor": 2
}

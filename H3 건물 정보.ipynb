{
 "cells": [
  {
   "cell_type": "code",
   "execution_count": 1,
   "metadata": {},
   "outputs": [],
   "source": [
    "import geopandas as gpd\n",
    "import h3\n",
    "from shapely.geometry import Point, Polygon, LineString\n",
    "import folium"
   ]
  },
  {
   "cell_type": "code",
   "execution_count": 2,
   "metadata": {},
   "outputs": [],
   "source": [
    "build = gpd.read_file(\"data/F_FAC_BUILDING_서울/F_FAC_BUILDING_11_202210.shp\", encoding = 'euc-kr')"
   ]
  },
  {
   "cell_type": "code",
   "execution_count": 3,
   "metadata": {},
   "outputs": [
    {
     "data": {
      "text/html": [
       "<div>\n",
       "<style scoped>\n",
       "    .dataframe tbody tr th:only-of-type {\n",
       "        vertical-align: middle;\n",
       "    }\n",
       "\n",
       "    .dataframe tbody tr th {\n",
       "        vertical-align: top;\n",
       "    }\n",
       "\n",
       "    .dataframe thead th {\n",
       "        text-align: right;\n",
       "    }\n",
       "</style>\n",
       "<table border=\"1\" class=\"dataframe\">\n",
       "  <thead>\n",
       "    <tr style=\"text-align: right;\">\n",
       "      <th></th>\n",
       "      <th>UFID</th>\n",
       "      <th>BLD_NM</th>\n",
       "      <th>DONG_NM</th>\n",
       "      <th>GRND_FLR</th>\n",
       "      <th>UGRND_FLR</th>\n",
       "      <th>PNU</th>\n",
       "      <th>ARCHAREA</th>\n",
       "      <th>TOTALAREA</th>\n",
       "      <th>PLATAREA</th>\n",
       "      <th>HEIGHT</th>\n",
       "      <th>...</th>\n",
       "      <th>GB_CD</th>\n",
       "      <th>VIOL_BD_YN</th>\n",
       "      <th>GEOIDN</th>\n",
       "      <th>BLDG_PNU</th>\n",
       "      <th>BLDG_PNU_Y</th>\n",
       "      <th>BLD_UNLICE</th>\n",
       "      <th>BD_MGT_SN</th>\n",
       "      <th>SGG_OID</th>\n",
       "      <th>COL_ADM_SE</th>\n",
       "      <th>geometry</th>\n",
       "    </tr>\n",
       "  </thead>\n",
       "  <tbody>\n",
       "    <tr>\n",
       "      <th>0</th>\n",
       "      <td>1991201839054527769900000000</td>\n",
       "      <td>None</td>\n",
       "      <td>None</td>\n",
       "      <td>3.0</td>\n",
       "      <td>0.0</td>\n",
       "      <td>1111017500107040000</td>\n",
       "      <td>57.6</td>\n",
       "      <td>203.13</td>\n",
       "      <td>100.6</td>\n",
       "      <td>9.1</td>\n",
       "      <td>...</td>\n",
       "      <td>0</td>\n",
       "      <td>0</td>\n",
       "      <td>B00100000000T30Z9</td>\n",
       "      <td>None</td>\n",
       "      <td>None</td>\n",
       "      <td>None</td>\n",
       "      <td>1111017500107040000001651</td>\n",
       "      <td>32</td>\n",
       "      <td>11110</td>\n",
       "      <td>POLYGON ((201844.048 452780.137, 201842.638 45...</td>\n",
       "    </tr>\n",
       "    <tr>\n",
       "      <th>1</th>\n",
       "      <td>1967201343844527773800000000</td>\n",
       "      <td>None</td>\n",
       "      <td>None</td>\n",
       "      <td>3.0</td>\n",
       "      <td>0.0</td>\n",
       "      <td>1111017500100560024</td>\n",
       "      <td>0.0</td>\n",
       "      <td>114.98</td>\n",
       "      <td>0.0</td>\n",
       "      <td>0.0</td>\n",
       "      <td>...</td>\n",
       "      <td>0</td>\n",
       "      <td>0</td>\n",
       "      <td>B00100000000T311B</td>\n",
       "      <td>None</td>\n",
       "      <td>None</td>\n",
       "      <td>None</td>\n",
       "      <td>1111017500100560024002963</td>\n",
       "      <td>34</td>\n",
       "      <td>11110</td>\n",
       "      <td>POLYGON ((201344.164 452773.285, 201340.604 45...</td>\n",
       "    </tr>\n",
       "    <tr>\n",
       "      <th>2</th>\n",
       "      <td>1962201375194527742000000000</td>\n",
       "      <td>None</td>\n",
       "      <td>None</td>\n",
       "      <td>2.0</td>\n",
       "      <td>0.0</td>\n",
       "      <td>1111017500100560054</td>\n",
       "      <td>0.0</td>\n",
       "      <td>135.20</td>\n",
       "      <td>0.0</td>\n",
       "      <td>0.0</td>\n",
       "      <td>...</td>\n",
       "      <td>0</td>\n",
       "      <td>0</td>\n",
       "      <td>B00100000000T313D</td>\n",
       "      <td>None</td>\n",
       "      <td>None</td>\n",
       "      <td>None</td>\n",
       "      <td>1111017500100560054002866</td>\n",
       "      <td>36</td>\n",
       "      <td>11110</td>\n",
       "      <td>POLYGON ((201373.004 452770.525, 201372.704 45...</td>\n",
       "    </tr>\n",
       "  </tbody>\n",
       "</table>\n",
       "<p>3 rows × 27 columns</p>\n",
       "</div>"
      ],
      "text/plain": [
       "                           UFID BLD_NM DONG_NM  GRND_FLR  UGRND_FLR  \\\n",
       "0  1991201839054527769900000000   None    None       3.0        0.0   \n",
       "1  1967201343844527773800000000   None    None       3.0        0.0   \n",
       "2  1962201375194527742000000000   None    None       2.0        0.0   \n",
       "\n",
       "                   PNU  ARCHAREA  TOTALAREA  PLATAREA  HEIGHT  ... GB_CD  \\\n",
       "0  1111017500107040000      57.6     203.13     100.6     9.1  ...     0   \n",
       "1  1111017500100560024       0.0     114.98       0.0     0.0  ...     0   \n",
       "2  1111017500100560054       0.0     135.20       0.0     0.0  ...     0   \n",
       "\n",
       "  VIOL_BD_YN             GEOIDN  BLDG_PNU BLDG_PNU_Y BLD_UNLICE  \\\n",
       "0          0  B00100000000T30Z9      None       None       None   \n",
       "1          0  B00100000000T311B      None       None       None   \n",
       "2          0  B00100000000T313D      None       None       None   \n",
       "\n",
       "                   BD_MGT_SN SGG_OID COL_ADM_SE  \\\n",
       "0  1111017500107040000001651      32      11110   \n",
       "1  1111017500100560024002963      34      11110   \n",
       "2  1111017500100560054002866      36      11110   \n",
       "\n",
       "                                            geometry  \n",
       "0  POLYGON ((201844.048 452780.137, 201842.638 45...  \n",
       "1  POLYGON ((201344.164 452773.285, 201340.604 45...  \n",
       "2  POLYGON ((201373.004 452770.525, 201372.704 45...  \n",
       "\n",
       "[3 rows x 27 columns]"
      ]
     },
     "execution_count": 3,
     "metadata": {},
     "output_type": "execute_result"
    }
   ],
   "source": [
    "build.head(3)"
   ]
  },
  {
   "cell_type": "code",
   "execution_count": 4,
   "metadata": {},
   "outputs": [
    {
     "data": {
      "text/html": [
       "<div>\n",
       "<style scoped>\n",
       "    .dataframe tbody tr th:only-of-type {\n",
       "        vertical-align: middle;\n",
       "    }\n",
       "\n",
       "    .dataframe tbody tr th {\n",
       "        vertical-align: top;\n",
       "    }\n",
       "\n",
       "    .dataframe thead th {\n",
       "        text-align: right;\n",
       "    }\n",
       "</style>\n",
       "<table border=\"1\" class=\"dataframe\">\n",
       "  <thead>\n",
       "    <tr style=\"text-align: right;\">\n",
       "      <th></th>\n",
       "      <th>GRND_FLR</th>\n",
       "      <th>HEIGHT</th>\n",
       "      <th>geometry</th>\n",
       "    </tr>\n",
       "  </thead>\n",
       "  <tbody>\n",
       "    <tr>\n",
       "      <th>0</th>\n",
       "      <td>3.0</td>\n",
       "      <td>9.1</td>\n",
       "      <td>POLYGON ((201844.048 452780.137, 201842.638 45...</td>\n",
       "    </tr>\n",
       "    <tr>\n",
       "      <th>1</th>\n",
       "      <td>3.0</td>\n",
       "      <td>0.0</td>\n",
       "      <td>POLYGON ((201344.164 452773.285, 201340.604 45...</td>\n",
       "    </tr>\n",
       "    <tr>\n",
       "      <th>2</th>\n",
       "      <td>2.0</td>\n",
       "      <td>0.0</td>\n",
       "      <td>POLYGON ((201373.004 452770.525, 201372.704 45...</td>\n",
       "    </tr>\n",
       "  </tbody>\n",
       "</table>\n",
       "</div>"
      ],
      "text/plain": [
       "   GRND_FLR  HEIGHT                                           geometry\n",
       "0       3.0     9.1  POLYGON ((201844.048 452780.137, 201842.638 45...\n",
       "1       3.0     0.0  POLYGON ((201344.164 452773.285, 201340.604 45...\n",
       "2       2.0     0.0  POLYGON ((201373.004 452770.525, 201372.704 45..."
      ]
     },
     "execution_count": 4,
     "metadata": {},
     "output_type": "execute_result"
    }
   ],
   "source": [
    "build_height = build[['GRND_FLR', 'HEIGHT', 'geometry']]\n",
    "build_height.head(3)"
   ]
  },
  {
   "cell_type": "code",
   "execution_count": 5,
   "metadata": {},
   "outputs": [
    {
     "data": {
      "text/plain": [
       "0         POINT (201839.038 452776.991)\n",
       "1         POINT (201343.829 452777.379)\n",
       "2         POINT (201375.177 452774.201)\n",
       "3         POINT (201388.462 452771.013)\n",
       "4         POINT (200468.269 452776.403)\n",
       "                      ...              \n",
       "697882    POINT (201821.763 451827.109)\n",
       "697883    POINT (192517.135 452812.706)\n",
       "697884    POINT (202329.717 459965.755)\n",
       "697885    POINT (201343.914 458685.038)\n",
       "697886    POINT (200626.751 461379.041)\n",
       "Length: 697887, dtype: geometry"
      ]
     },
     "execution_count": 5,
     "metadata": {},
     "output_type": "execute_result"
    }
   ],
   "source": [
    "# 건물을 Point로 변환하기 위하여 중심점 추출\n",
    "build_height['geometry'].centroid"
   ]
  },
  {
   "cell_type": "code",
   "execution_count": 6,
   "metadata": {},
   "outputs": [
    {
     "data": {
      "text/html": [
       "<div>\n",
       "<style scoped>\n",
       "    .dataframe tbody tr th:only-of-type {\n",
       "        vertical-align: middle;\n",
       "    }\n",
       "\n",
       "    .dataframe tbody tr th {\n",
       "        vertical-align: top;\n",
       "    }\n",
       "\n",
       "    .dataframe thead th {\n",
       "        text-align: right;\n",
       "    }\n",
       "</style>\n",
       "<table border=\"1\" class=\"dataframe\">\n",
       "  <thead>\n",
       "    <tr style=\"text-align: right;\">\n",
       "      <th></th>\n",
       "      <th>GRND_FLR</th>\n",
       "      <th>HEIGHT</th>\n",
       "      <th>geometry</th>\n",
       "    </tr>\n",
       "  </thead>\n",
       "  <tbody>\n",
       "    <tr>\n",
       "      <th>0</th>\n",
       "      <td>3.0</td>\n",
       "      <td>9.1</td>\n",
       "      <td>POLYGON ((201844.048 452780.137, 201842.638 45...</td>\n",
       "    </tr>\n",
       "    <tr>\n",
       "      <th>1</th>\n",
       "      <td>3.0</td>\n",
       "      <td>0.0</td>\n",
       "      <td>POLYGON ((201344.164 452773.285, 201340.604 45...</td>\n",
       "    </tr>\n",
       "    <tr>\n",
       "      <th>2</th>\n",
       "      <td>2.0</td>\n",
       "      <td>0.0</td>\n",
       "      <td>POLYGON ((201373.004 452770.525, 201372.704 45...</td>\n",
       "    </tr>\n",
       "  </tbody>\n",
       "</table>\n",
       "</div>"
      ],
      "text/plain": [
       "   GRND_FLR  HEIGHT                                           geometry\n",
       "0       3.0     9.1  POLYGON ((201844.048 452780.137, 201842.638 45...\n",
       "1       3.0     0.0  POLYGON ((201344.164 452773.285, 201340.604 45...\n",
       "2       2.0     0.0  POLYGON ((201373.004 452770.525, 201372.704 45..."
      ]
     },
     "execution_count": 6,
     "metadata": {},
     "output_type": "execute_result"
    }
   ],
   "source": [
    "build_point = build_height.copy()\n",
    "build_point.head(3)"
   ]
  },
  {
   "cell_type": "code",
   "execution_count": 7,
   "metadata": {},
   "outputs": [
    {
     "data": {
      "text/html": [
       "<div>\n",
       "<style scoped>\n",
       "    .dataframe tbody tr th:only-of-type {\n",
       "        vertical-align: middle;\n",
       "    }\n",
       "\n",
       "    .dataframe tbody tr th {\n",
       "        vertical-align: top;\n",
       "    }\n",
       "\n",
       "    .dataframe thead th {\n",
       "        text-align: right;\n",
       "    }\n",
       "</style>\n",
       "<table border=\"1\" class=\"dataframe\">\n",
       "  <thead>\n",
       "    <tr style=\"text-align: right;\">\n",
       "      <th></th>\n",
       "      <th>GRND_FLR</th>\n",
       "      <th>HEIGHT</th>\n",
       "      <th>geometry</th>\n",
       "    </tr>\n",
       "  </thead>\n",
       "  <tbody>\n",
       "    <tr>\n",
       "      <th>0</th>\n",
       "      <td>3.0</td>\n",
       "      <td>9.1</td>\n",
       "      <td>POINT (201839.038 452776.991)</td>\n",
       "    </tr>\n",
       "    <tr>\n",
       "      <th>1</th>\n",
       "      <td>3.0</td>\n",
       "      <td>0.0</td>\n",
       "      <td>POINT (201343.829 452777.379)</td>\n",
       "    </tr>\n",
       "    <tr>\n",
       "      <th>2</th>\n",
       "      <td>2.0</td>\n",
       "      <td>0.0</td>\n",
       "      <td>POINT (201375.177 452774.201)</td>\n",
       "    </tr>\n",
       "  </tbody>\n",
       "</table>\n",
       "</div>"
      ],
      "text/plain": [
       "   GRND_FLR  HEIGHT                       geometry\n",
       "0       3.0     9.1  POINT (201839.038 452776.991)\n",
       "1       3.0     0.0  POINT (201343.829 452777.379)\n",
       "2       2.0     0.0  POINT (201375.177 452774.201)"
      ]
     },
     "execution_count": 7,
     "metadata": {},
     "output_type": "execute_result"
    }
   ],
   "source": [
    "build_point['geometry'] = build_point['geometry'].centroid\n",
    "build_point.head(3)"
   ]
  },
  {
   "cell_type": "code",
   "execution_count": 8,
   "metadata": {},
   "outputs": [],
   "source": [
    "build_point = build_point.to_crs(epsg = 4326)"
   ]
  },
  {
   "cell_type": "code",
   "execution_count": 9,
   "metadata": {},
   "outputs": [],
   "source": [
    "## Point에서 위경도 좌표 추출\n",
    "lng = []; lat = []\n",
    "\n",
    "for i in range(len(build_point)) :\n",
    "    a = list(build_point['geometry'][i].coords)\n",
    "    lat.append(a[0][1])\n",
    "    lng.append(a[0][0])"
   ]
  },
  {
   "cell_type": "code",
   "execution_count": 10,
   "metadata": {},
   "outputs": [],
   "source": [
    "build_point['lat'] = lat; build_point['lng'] = lng"
   ]
  },
  {
   "cell_type": "code",
   "execution_count": 11,
   "metadata": {},
   "outputs": [
    {
     "data": {
      "text/html": [
       "<div>\n",
       "<style scoped>\n",
       "    .dataframe tbody tr th:only-of-type {\n",
       "        vertical-align: middle;\n",
       "    }\n",
       "\n",
       "    .dataframe tbody tr th {\n",
       "        vertical-align: top;\n",
       "    }\n",
       "\n",
       "    .dataframe thead th {\n",
       "        text-align: right;\n",
       "    }\n",
       "</style>\n",
       "<table border=\"1\" class=\"dataframe\">\n",
       "  <thead>\n",
       "    <tr style=\"text-align: right;\">\n",
       "      <th></th>\n",
       "      <th>GRND_FLR</th>\n",
       "      <th>HEIGHT</th>\n",
       "      <th>geometry</th>\n",
       "      <th>lat</th>\n",
       "      <th>lng</th>\n",
       "    </tr>\n",
       "  </thead>\n",
       "  <tbody>\n",
       "    <tr>\n",
       "      <th>0</th>\n",
       "      <td>3.0</td>\n",
       "      <td>9.1</td>\n",
       "      <td>POINT (127.02161 37.57729)</td>\n",
       "      <td>37.577287</td>\n",
       "      <td>127.021607</td>\n",
       "    </tr>\n",
       "    <tr>\n",
       "      <th>1</th>\n",
       "      <td>3.0</td>\n",
       "      <td>0.0</td>\n",
       "      <td>POINT (127.01600 37.57729)</td>\n",
       "      <td>37.577291</td>\n",
       "      <td>127.016001</td>\n",
       "    </tr>\n",
       "    <tr>\n",
       "      <th>2</th>\n",
       "      <td>2.0</td>\n",
       "      <td>0.0</td>\n",
       "      <td>POINT (127.01636 37.57726)</td>\n",
       "      <td>37.577262</td>\n",
       "      <td>127.016356</td>\n",
       "    </tr>\n",
       "  </tbody>\n",
       "</table>\n",
       "</div>"
      ],
      "text/plain": [
       "   GRND_FLR  HEIGHT                    geometry        lat         lng\n",
       "0       3.0     9.1  POINT (127.02161 37.57729)  37.577287  127.021607\n",
       "1       3.0     0.0  POINT (127.01600 37.57729)  37.577291  127.016001\n",
       "2       2.0     0.0  POINT (127.01636 37.57726)  37.577262  127.016356"
      ]
     },
     "execution_count": 11,
     "metadata": {},
     "output_type": "execute_result"
    }
   ],
   "source": [
    "build_point.head(3)"
   ]
  },
  {
   "cell_type": "code",
   "execution_count": 12,
   "metadata": {},
   "outputs": [],
   "source": [
    "## H3 level 9 index 추가\n",
    "h3_9 = []\n",
    "\n",
    "for i in range(len(build_point)) :\n",
    "    h3_9.append(h3.geo_to_h3(build_point['lat'][i], build_point['lng'][i], 9))\n",
    "\n",
    "build_point['h3_9'] = h3_9"
   ]
  },
  {
   "cell_type": "code",
   "execution_count": 13,
   "metadata": {},
   "outputs": [],
   "source": [
    "def to_polygon(l) :\n",
    "    return Polygon(h3.h3_to_geo_boundary(l, geo_json = True))"
   ]
  },
  {
   "cell_type": "code",
   "execution_count": 14,
   "metadata": {},
   "outputs": [],
   "source": [
    "## H3 Polygon 데이터 생성\n",
    "build_h3 = gpd.GeoDataFrame()\n",
    "build_h3['GRND_FLR'] = build_point['GRND_FLR']\n",
    "build_h3['HEIGHT'] = build_point['HEIGHT']\n",
    "build_h3['geometry'] = build_point['h3_9'].apply(to_polygon)"
   ]
  },
  {
   "cell_type": "code",
   "execution_count": 15,
   "metadata": {},
   "outputs": [
    {
     "data": {
      "text/html": [
       "<div>\n",
       "<style scoped>\n",
       "    .dataframe tbody tr th:only-of-type {\n",
       "        vertical-align: middle;\n",
       "    }\n",
       "\n",
       "    .dataframe tbody tr th {\n",
       "        vertical-align: top;\n",
       "    }\n",
       "\n",
       "    .dataframe thead th {\n",
       "        text-align: right;\n",
       "    }\n",
       "</style>\n",
       "<table border=\"1\" class=\"dataframe\">\n",
       "  <thead>\n",
       "    <tr style=\"text-align: right;\">\n",
       "      <th></th>\n",
       "      <th>GRND_FLR</th>\n",
       "      <th>HEIGHT</th>\n",
       "      <th>geometry</th>\n",
       "    </tr>\n",
       "  </thead>\n",
       "  <tbody>\n",
       "    <tr>\n",
       "      <th>0</th>\n",
       "      <td>3.0</td>\n",
       "      <td>9.1</td>\n",
       "      <td>POLYGON ((127.02359 37.57793, 127.02284 37.579...</td>\n",
       "    </tr>\n",
       "    <tr>\n",
       "      <th>1</th>\n",
       "      <td>3.0</td>\n",
       "      <td>0.0</td>\n",
       "      <td>POLYGON ((127.01816 37.57575, 127.01741 37.577...</td>\n",
       "    </tr>\n",
       "    <tr>\n",
       "      <th>2</th>\n",
       "      <td>2.0</td>\n",
       "      <td>0.0</td>\n",
       "      <td>POLYGON ((127.01816 37.57575, 127.01741 37.577...</td>\n",
       "    </tr>\n",
       "  </tbody>\n",
       "</table>\n",
       "</div>"
      ],
      "text/plain": [
       "   GRND_FLR  HEIGHT                                           geometry\n",
       "0       3.0     9.1  POLYGON ((127.02359 37.57793, 127.02284 37.579...\n",
       "1       3.0     0.0  POLYGON ((127.01816 37.57575, 127.01741 37.577...\n",
       "2       2.0     0.0  POLYGON ((127.01816 37.57575, 127.01741 37.577..."
      ]
     },
     "execution_count": 15,
     "metadata": {},
     "output_type": "execute_result"
    }
   ],
   "source": [
    "build_h3 = build_h3.set_crs(epsg = 4326)\n",
    "build_h3.head(3)"
   ]
  },
  {
   "cell_type": "code",
   "execution_count": 16,
   "metadata": {},
   "outputs": [
    {
     "name": "stderr",
     "output_type": "stream",
     "text": [
      "c:\\Users\\user\\Anaconda3\\envs\\geo\\lib\\site-packages\\IPython\\core\\interactiveshell.py:3318: FutureWarning: The `op` parameter is deprecated and will be removed in a future release. Please use the `predicate` parameter instead.\n",
      "  if await self.run_code(code, result, async_=asy):\n"
     ]
    },
    {
     "data": {
      "text/html": [
       "<div>\n",
       "<style scoped>\n",
       "    .dataframe tbody tr th:only-of-type {\n",
       "        vertical-align: middle;\n",
       "    }\n",
       "\n",
       "    .dataframe tbody tr th {\n",
       "        vertical-align: top;\n",
       "    }\n",
       "\n",
       "    .dataframe thead th {\n",
       "        text-align: right;\n",
       "    }\n",
       "</style>\n",
       "<table border=\"1\" class=\"dataframe\">\n",
       "  <thead>\n",
       "    <tr style=\"text-align: right;\">\n",
       "      <th></th>\n",
       "      <th>GRND_FLR_left</th>\n",
       "      <th>HEIGHT_left</th>\n",
       "      <th>geometry</th>\n",
       "      <th>index_right</th>\n",
       "      <th>GRND_FLR_right</th>\n",
       "      <th>HEIGHT_right</th>\n",
       "      <th>lat</th>\n",
       "      <th>lng</th>\n",
       "      <th>h3_9</th>\n",
       "    </tr>\n",
       "  </thead>\n",
       "  <tbody>\n",
       "    <tr>\n",
       "      <th>0</th>\n",
       "      <td>3.0</td>\n",
       "      <td>9.1</td>\n",
       "      <td>POLYGON ((127.02359 37.57793, 127.02284 37.579...</td>\n",
       "      <td>223356</td>\n",
       "      <td>1.0</td>\n",
       "      <td>0.0</td>\n",
       "      <td>37.579549</td>\n",
       "      <td>127.021297</td>\n",
       "      <td>8930e1c3263ffff</td>\n",
       "    </tr>\n",
       "    <tr>\n",
       "      <th>7</th>\n",
       "      <td>0.0</td>\n",
       "      <td>0.0</td>\n",
       "      <td>POLYGON ((127.02359 37.57793, 127.02284 37.579...</td>\n",
       "      <td>223356</td>\n",
       "      <td>1.0</td>\n",
       "      <td>0.0</td>\n",
       "      <td>37.579549</td>\n",
       "      <td>127.021297</td>\n",
       "      <td>8930e1c3263ffff</td>\n",
       "    </tr>\n",
       "    <tr>\n",
       "      <th>43</th>\n",
       "      <td>0.0</td>\n",
       "      <td>0.0</td>\n",
       "      <td>POLYGON ((127.02359 37.57793, 127.02284 37.579...</td>\n",
       "      <td>223356</td>\n",
       "      <td>1.0</td>\n",
       "      <td>0.0</td>\n",
       "      <td>37.579549</td>\n",
       "      <td>127.021297</td>\n",
       "      <td>8930e1c3263ffff</td>\n",
       "    </tr>\n",
       "  </tbody>\n",
       "</table>\n",
       "</div>"
      ],
      "text/plain": [
       "    GRND_FLR_left  HEIGHT_left  \\\n",
       "0             3.0          9.1   \n",
       "7             0.0          0.0   \n",
       "43            0.0          0.0   \n",
       "\n",
       "                                             geometry  index_right  \\\n",
       "0   POLYGON ((127.02359 37.57793, 127.02284 37.579...       223356   \n",
       "7   POLYGON ((127.02359 37.57793, 127.02284 37.579...       223356   \n",
       "43  POLYGON ((127.02359 37.57793, 127.02284 37.579...       223356   \n",
       "\n",
       "    GRND_FLR_right  HEIGHT_right        lat         lng             h3_9  \n",
       "0              1.0           0.0  37.579549  127.021297  8930e1c3263ffff  \n",
       "7              1.0           0.0  37.579549  127.021297  8930e1c3263ffff  \n",
       "43             1.0           0.0  37.579549  127.021297  8930e1c3263ffff  "
      ]
     },
     "execution_count": 16,
     "metadata": {},
     "output_type": "execute_result"
    }
   ],
   "source": [
    "## H3 grid 내에 포함되는 건물 찾기 위하여 Join\n",
    "build_join = gpd.sjoin(build_h3, build_point, how = \"inner\", op = \"intersects\")\n",
    "build_join.head(3)"
   ]
  },
  {
   "cell_type": "code",
   "execution_count": 17,
   "metadata": {},
   "outputs": [
    {
     "data": {
      "text/html": [
       "<div>\n",
       "<style scoped>\n",
       "    .dataframe tbody tr th:only-of-type {\n",
       "        vertical-align: middle;\n",
       "    }\n",
       "\n",
       "    .dataframe tbody tr th {\n",
       "        vertical-align: top;\n",
       "    }\n",
       "\n",
       "    .dataframe thead th {\n",
       "        text-align: right;\n",
       "    }\n",
       "</style>\n",
       "<table border=\"1\" class=\"dataframe\">\n",
       "  <thead>\n",
       "    <tr style=\"text-align: right;\">\n",
       "      <th></th>\n",
       "      <th>index</th>\n",
       "      <th>GRND_FLR</th>\n",
       "      <th>HEIGHT</th>\n",
       "      <th>geometry</th>\n",
       "    </tr>\n",
       "  </thead>\n",
       "  <tbody>\n",
       "    <tr>\n",
       "      <th>0</th>\n",
       "      <td>0</td>\n",
       "      <td>14.0</td>\n",
       "      <td>42.40</td>\n",
       "      <td>POLYGON ((127.02359 37.57793, 127.02284 37.579...</td>\n",
       "    </tr>\n",
       "    <tr>\n",
       "      <th>1</th>\n",
       "      <td>1</td>\n",
       "      <td>8.0</td>\n",
       "      <td>27.85</td>\n",
       "      <td>POLYGON ((127.01816 37.57575, 127.01741 37.577...</td>\n",
       "    </tr>\n",
       "    <tr>\n",
       "      <th>2</th>\n",
       "      <td>2</td>\n",
       "      <td>8.0</td>\n",
       "      <td>27.85</td>\n",
       "      <td>POLYGON ((127.01816 37.57575, 127.01741 37.577...</td>\n",
       "    </tr>\n",
       "    <tr>\n",
       "      <th>3</th>\n",
       "      <td>3</td>\n",
       "      <td>8.0</td>\n",
       "      <td>27.85</td>\n",
       "      <td>POLYGON ((127.01816 37.57575, 127.01741 37.577...</td>\n",
       "    </tr>\n",
       "    <tr>\n",
       "      <th>4</th>\n",
       "      <td>4</td>\n",
       "      <td>8.0</td>\n",
       "      <td>25.50</td>\n",
       "      <td>POLYGON ((127.00778 37.57705, 127.00703 37.578...</td>\n",
       "    </tr>\n",
       "    <tr>\n",
       "      <th>...</th>\n",
       "      <td>...</td>\n",
       "      <td>...</td>\n",
       "      <td>...</td>\n",
       "      <td>...</td>\n",
       "    </tr>\n",
       "    <tr>\n",
       "      <th>697882</th>\n",
       "      <td>697882</td>\n",
       "      <td>33.0</td>\n",
       "      <td>116.00</td>\n",
       "      <td>POLYGON ((127.02288 37.56946, 127.02214 37.570...</td>\n",
       "    </tr>\n",
       "    <tr>\n",
       "      <th>697883</th>\n",
       "      <td>697883</td>\n",
       "      <td>20.0</td>\n",
       "      <td>53.90</td>\n",
       "      <td>POLYGON ((126.91868 37.57669, 126.91793 37.578...</td>\n",
       "    </tr>\n",
       "    <tr>\n",
       "      <th>697884</th>\n",
       "      <td>697884</td>\n",
       "      <td>6.0</td>\n",
       "      <td>17.60</td>\n",
       "      <td>POLYGON ((127.02899 37.64291, 127.02824 37.644...</td>\n",
       "    </tr>\n",
       "    <tr>\n",
       "      <th>697885</th>\n",
       "      <td>697885</td>\n",
       "      <td>6.0</td>\n",
       "      <td>18.50</td>\n",
       "      <td>POLYGON ((127.01742 37.63007, 127.01667 37.631...</td>\n",
       "    </tr>\n",
       "    <tr>\n",
       "      <th>697886</th>\n",
       "      <td>697886</td>\n",
       "      <td>3.0</td>\n",
       "      <td>12.90</td>\n",
       "      <td>POLYGON ((127.00890 37.65396, 127.00815 37.655...</td>\n",
       "    </tr>\n",
       "  </tbody>\n",
       "</table>\n",
       "<p>697887 rows × 4 columns</p>\n",
       "</div>"
      ],
      "text/plain": [
       "         index  GRND_FLR  HEIGHT  \\\n",
       "0            0      14.0   42.40   \n",
       "1            1       8.0   27.85   \n",
       "2            2       8.0   27.85   \n",
       "3            3       8.0   27.85   \n",
       "4            4       8.0   25.50   \n",
       "...        ...       ...     ...   \n",
       "697882  697882      33.0  116.00   \n",
       "697883  697883      20.0   53.90   \n",
       "697884  697884       6.0   17.60   \n",
       "697885  697885       6.0   18.50   \n",
       "697886  697886       3.0   12.90   \n",
       "\n",
       "                                                 geometry  \n",
       "0       POLYGON ((127.02359 37.57793, 127.02284 37.579...  \n",
       "1       POLYGON ((127.01816 37.57575, 127.01741 37.577...  \n",
       "2       POLYGON ((127.01816 37.57575, 127.01741 37.577...  \n",
       "3       POLYGON ((127.01816 37.57575, 127.01741 37.577...  \n",
       "4       POLYGON ((127.00778 37.57705, 127.00703 37.578...  \n",
       "...                                                   ...  \n",
       "697882  POLYGON ((127.02288 37.56946, 127.02214 37.570...  \n",
       "697883  POLYGON ((126.91868 37.57669, 126.91793 37.578...  \n",
       "697884  POLYGON ((127.02899 37.64291, 127.02824 37.644...  \n",
       "697885  POLYGON ((127.01742 37.63007, 127.01667 37.631...  \n",
       "697886  POLYGON ((127.00890 37.65396, 127.00815 37.655...  \n",
       "\n",
       "[697887 rows x 4 columns]"
      ]
     },
     "execution_count": 17,
     "metadata": {},
     "output_type": "execute_result"
    }
   ],
   "source": [
    "build_join2 = build_join.groupby('index_right', as_index = False)[['GRND_FLR_left','HEIGHT_left']].max()\n",
    "\n",
    "build_group = gpd.GeoDataFrame()\n",
    "build_group['index'] = build_join2['index_right']\n",
    "build_group['GRND_FLR'] = build_join2['GRND_FLR_left']\n",
    "build_group['HEIGHT'] = build_join2['HEIGHT_left']\n",
    "build_group['geometry'] = build_h3['geometry']\n",
    "build_group.set_crs(epsg = 4326)"
   ]
  },
  {
   "cell_type": "code",
   "execution_count": 28,
   "metadata": {},
   "outputs": [
    {
     "data": {
      "text/plain": [
       "13418.0"
      ]
     },
     "execution_count": 28,
     "metadata": {},
     "output_type": "execute_result"
    }
   ],
   "source": [
    "build_group['HEIGHT'].max()"
   ]
  },
  {
   "cell_type": "code",
   "execution_count": 33,
   "metadata": {},
   "outputs": [],
   "source": [
    "import mapboxgl\n",
    "from mapboxgl.utils import create_color_stops\n",
    "from mapboxgl.viz import *"
   ]
  },
  {
   "cell_type": "code",
   "execution_count": 26,
   "metadata": {},
   "outputs": [],
   "source": [
    "# 서울시청 주소\n",
    "lat = 37.5662; lng = 126.9787\n",
    "seoul = [lat, lng]"
   ]
  },
  {
   "cell_type": "code",
   "execution_count": 32,
   "metadata": {},
   "outputs": [],
   "source": [
    "token = \"pk.eyJ1IjoicGdvcWxzIiwiYSI6ImNsOXM2dnU4ejA1aDIzb2s3bjBvOGV4MHEifQ.8MSzkpwd-HyMMSfpVnaciw\"\n",
    "color_breaks = [0, 3355, 6710, 10065, 13420]\n",
    "color_stops = create_color_stops(color_breaks, colors = \"YlOrRd\")"
   ]
  },
  {
   "cell_type": "code",
   "execution_count": 35,
   "metadata": {},
   "outputs": [
    {
     "ename": "TypeError",
     "evalue": "Object of type GeoDataFrame is not JSON serializable",
     "output_type": "error",
     "traceback": [
      "\u001b[1;31m---------------------------------------------------------------------------\u001b[0m",
      "\u001b[1;31mTypeError\u001b[0m                                 Traceback (most recent call last)",
      "Cell \u001b[1;32mIn [35], line 10\u001b[0m\n\u001b[0;32m      1\u001b[0m m \u001b[39m=\u001b[39m ChoroplethViz(\n\u001b[0;32m      2\u001b[0m     access_token \u001b[39m=\u001b[39m token,\n\u001b[0;32m      3\u001b[0m     data \u001b[39m=\u001b[39m build_group,\n\u001b[1;32m   (...)\u001b[0m\n\u001b[0;32m      7\u001b[0m     zoom \u001b[39m=\u001b[39m \u001b[39m14\u001b[39m\n\u001b[0;32m      8\u001b[0m )\n\u001b[1;32m---> 10\u001b[0m m\u001b[39m.\u001b[39;49mshow()\n",
      "File \u001b[1;32mc:\\Users\\user\\Anaconda3\\envs\\geo\\lib\\site-packages\\mapboxgl\\viz.py:257\u001b[0m, in \u001b[0;36mMapViz.show\u001b[1;34m(self, **kwargs)\u001b[0m\n\u001b[0;32m    255\u001b[0m \u001b[39mdef\u001b[39;00m \u001b[39mshow\u001b[39m(\u001b[39mself\u001b[39m, \u001b[39m*\u001b[39m\u001b[39m*\u001b[39mkwargs):\n\u001b[0;32m    256\u001b[0m     \u001b[39m# Load the HTML iframe\u001b[39;00m\n\u001b[1;32m--> 257\u001b[0m     html \u001b[39m=\u001b[39m \u001b[39mself\u001b[39;49m\u001b[39m.\u001b[39;49mcreate_html(\u001b[39m*\u001b[39;49m\u001b[39m*\u001b[39;49mkwargs)\n\u001b[0;32m    258\u001b[0m     map_html \u001b[39m=\u001b[39m \u001b[39mself\u001b[39m\u001b[39m.\u001b[39mas_iframe(html)\n\u001b[0;32m    260\u001b[0m     \u001b[39m# Display the iframe in the current jupyter notebook view\u001b[39;00m\n",
      "File \u001b[1;32mc:\\Users\\user\\Anaconda3\\envs\\geo\\lib\\site-packages\\mapboxgl\\viz.py:281\u001b[0m, in \u001b[0;36mMapViz.create_html\u001b[1;34m(self, filename)\u001b[0m\n\u001b[0;32m    271\u001b[0m \u001b[39melse\u001b[39;00m:\n\u001b[0;32m    272\u001b[0m     style \u001b[39m=\u001b[39m \u001b[39mself\u001b[39m\u001b[39m.\u001b[39mstyle\n\u001b[0;32m    274\u001b[0m options \u001b[39m=\u001b[39m \u001b[39mdict\u001b[39m(\n\u001b[0;32m    275\u001b[0m     gl_js_version\u001b[39m=\u001b[39mGL_JS_VERSION,\n\u001b[0;32m    276\u001b[0m     accessToken\u001b[39m=\u001b[39m\u001b[39mself\u001b[39m\u001b[39m.\u001b[39maccess_token,\n\u001b[0;32m    277\u001b[0m     div_id\u001b[39m=\u001b[39m\u001b[39mself\u001b[39m\u001b[39m.\u001b[39mdiv_id,\n\u001b[0;32m    278\u001b[0m     style\u001b[39m=\u001b[39mstyle,\n\u001b[0;32m    279\u001b[0m     center\u001b[39m=\u001b[39m\u001b[39mlist\u001b[39m(\u001b[39mself\u001b[39m\u001b[39m.\u001b[39mcenter),\n\u001b[0;32m    280\u001b[0m     zoom\u001b[39m=\u001b[39m\u001b[39mself\u001b[39m\u001b[39m.\u001b[39mzoom,\n\u001b[1;32m--> 281\u001b[0m     geojson_data\u001b[39m=\u001b[39mjson\u001b[39m.\u001b[39;49mdumps(\u001b[39mself\u001b[39;49m\u001b[39m.\u001b[39;49mdata, ensure_ascii\u001b[39m=\u001b[39;49m\u001b[39mFalse\u001b[39;49;00m),\n\u001b[0;32m    282\u001b[0m     belowLayer\u001b[39m=\u001b[39m\u001b[39mself\u001b[39m\u001b[39m.\u001b[39mbelow_layer,\n\u001b[0;32m    283\u001b[0m     opacity\u001b[39m=\u001b[39m\u001b[39mself\u001b[39m\u001b[39m.\u001b[39mopacity,\n\u001b[0;32m    284\u001b[0m     minzoom\u001b[39m=\u001b[39m\u001b[39mself\u001b[39m\u001b[39m.\u001b[39mmin_zoom,\n\u001b[0;32m    285\u001b[0m     maxzoom\u001b[39m=\u001b[39m\u001b[39mself\u001b[39m\u001b[39m.\u001b[39mmax_zoom,\n\u001b[0;32m    286\u001b[0m     pitch\u001b[39m=\u001b[39m\u001b[39mself\u001b[39m\u001b[39m.\u001b[39mpitch, \n\u001b[0;32m    287\u001b[0m     bearing\u001b[39m=\u001b[39m\u001b[39mself\u001b[39m\u001b[39m.\u001b[39mbearing,\n\u001b[0;32m    288\u001b[0m     boxZoomOn\u001b[39m=\u001b[39mjson\u001b[39m.\u001b[39mdumps(\u001b[39mself\u001b[39m\u001b[39m.\u001b[39mbox_zoom_on),\n\u001b[0;32m    289\u001b[0m     doubleClickZoomOn\u001b[39m=\u001b[39mjson\u001b[39m.\u001b[39mdumps(\u001b[39mself\u001b[39m\u001b[39m.\u001b[39mdouble_click_zoom_on),\n\u001b[0;32m    290\u001b[0m     scrollZoomOn\u001b[39m=\u001b[39mjson\u001b[39m.\u001b[39mdumps(\u001b[39mself\u001b[39m\u001b[39m.\u001b[39mscroll_zoom_on),\n\u001b[0;32m    291\u001b[0m     touchZoomOn\u001b[39m=\u001b[39mjson\u001b[39m.\u001b[39mdumps(\u001b[39mself\u001b[39m\u001b[39m.\u001b[39mtouch_zoom_on),\n\u001b[0;32m    292\u001b[0m     popupOpensOnHover\u001b[39m=\u001b[39m\u001b[39mself\u001b[39m\u001b[39m.\u001b[39mpopup_open_action\u001b[39m==\u001b[39m\u001b[39m'\u001b[39m\u001b[39mhover\u001b[39m\u001b[39m'\u001b[39m,\n\u001b[0;32m    293\u001b[0m     includeSnapshotLinks\u001b[39m=\u001b[39m\u001b[39mself\u001b[39m\u001b[39m.\u001b[39madd_snapshot_links,\n\u001b[0;32m    294\u001b[0m     preserveDrawingBuffer\u001b[39m=\u001b[39mjson\u001b[39m.\u001b[39mdumps(\u001b[39mself\u001b[39m\u001b[39m.\u001b[39madd_snapshot_links),\n\u001b[0;32m    295\u001b[0m     showScale\u001b[39m=\u001b[39m\u001b[39mself\u001b[39m\u001b[39m.\u001b[39mscale,\n\u001b[0;32m    296\u001b[0m     scaleUnits\u001b[39m=\u001b[39m\u001b[39mself\u001b[39m\u001b[39m.\u001b[39mscale_unit_system,\n\u001b[0;32m    297\u001b[0m     scaleBorderColor\u001b[39m=\u001b[39m\u001b[39mself\u001b[39m\u001b[39m.\u001b[39mscale_border_color,\n\u001b[0;32m    298\u001b[0m     scalePosition\u001b[39m=\u001b[39m\u001b[39mself\u001b[39m\u001b[39m.\u001b[39mscale_position,\n\u001b[0;32m    299\u001b[0m     scaleFillColor\u001b[39m=\u001b[39m\u001b[39mself\u001b[39m\u001b[39m.\u001b[39mscale_background_color,\n\u001b[0;32m    300\u001b[0m     scaleTextColor\u001b[39m=\u001b[39m\u001b[39mself\u001b[39m\u001b[39m.\u001b[39mscale_text_color,\n\u001b[0;32m    301\u001b[0m )\n\u001b[0;32m    303\u001b[0m \u001b[39mif\u001b[39;00m \u001b[39mself\u001b[39m\u001b[39m.\u001b[39mlegend:\n\u001b[0;32m    305\u001b[0m     \u001b[39mif\u001b[39;00m \u001b[39mall\u001b[39m([\u001b[39mself\u001b[39m\u001b[39m.\u001b[39mlegend, \u001b[39mself\u001b[39m\u001b[39m.\u001b[39mlegend_gradient, \u001b[39mself\u001b[39m\u001b[39m.\u001b[39mlegend_function \u001b[39m==\u001b[39m \u001b[39m'\u001b[39m\u001b[39mradius\u001b[39m\u001b[39m'\u001b[39m]):\n",
      "File \u001b[1;32mc:\\Users\\user\\Anaconda3\\envs\\geo\\lib\\json\\__init__.py:234\u001b[0m, in \u001b[0;36mdumps\u001b[1;34m(obj, skipkeys, ensure_ascii, check_circular, allow_nan, cls, indent, separators, default, sort_keys, **kw)\u001b[0m\n\u001b[0;32m    232\u001b[0m \u001b[39mif\u001b[39;00m \u001b[39mcls\u001b[39m \u001b[39mis\u001b[39;00m \u001b[39mNone\u001b[39;00m:\n\u001b[0;32m    233\u001b[0m     \u001b[39mcls\u001b[39m \u001b[39m=\u001b[39m JSONEncoder\n\u001b[1;32m--> 234\u001b[0m \u001b[39mreturn\u001b[39;00m \u001b[39mcls\u001b[39;49m(\n\u001b[0;32m    235\u001b[0m     skipkeys\u001b[39m=\u001b[39;49mskipkeys, ensure_ascii\u001b[39m=\u001b[39;49mensure_ascii,\n\u001b[0;32m    236\u001b[0m     check_circular\u001b[39m=\u001b[39;49mcheck_circular, allow_nan\u001b[39m=\u001b[39;49mallow_nan, indent\u001b[39m=\u001b[39;49mindent,\n\u001b[0;32m    237\u001b[0m     separators\u001b[39m=\u001b[39;49mseparators, default\u001b[39m=\u001b[39;49mdefault, sort_keys\u001b[39m=\u001b[39;49msort_keys,\n\u001b[0;32m    238\u001b[0m     \u001b[39m*\u001b[39;49m\u001b[39m*\u001b[39;49mkw)\u001b[39m.\u001b[39;49mencode(obj)\n",
      "File \u001b[1;32mc:\\Users\\user\\Anaconda3\\envs\\geo\\lib\\json\\encoder.py:199\u001b[0m, in \u001b[0;36mJSONEncoder.encode\u001b[1;34m(self, o)\u001b[0m\n\u001b[0;32m    195\u001b[0m         \u001b[39mreturn\u001b[39;00m encode_basestring(o)\n\u001b[0;32m    196\u001b[0m \u001b[39m# This doesn't pass the iterator directly to ''.join() because the\u001b[39;00m\n\u001b[0;32m    197\u001b[0m \u001b[39m# exceptions aren't as detailed.  The list call should be roughly\u001b[39;00m\n\u001b[0;32m    198\u001b[0m \u001b[39m# equivalent to the PySequence_Fast that ''.join() would do.\u001b[39;00m\n\u001b[1;32m--> 199\u001b[0m chunks \u001b[39m=\u001b[39m \u001b[39mself\u001b[39;49m\u001b[39m.\u001b[39;49miterencode(o, _one_shot\u001b[39m=\u001b[39;49m\u001b[39mTrue\u001b[39;49;00m)\n\u001b[0;32m    200\u001b[0m \u001b[39mif\u001b[39;00m \u001b[39mnot\u001b[39;00m \u001b[39misinstance\u001b[39m(chunks, (\u001b[39mlist\u001b[39m, \u001b[39mtuple\u001b[39m)):\n\u001b[0;32m    201\u001b[0m     chunks \u001b[39m=\u001b[39m \u001b[39mlist\u001b[39m(chunks)\n",
      "File \u001b[1;32mc:\\Users\\user\\Anaconda3\\envs\\geo\\lib\\json\\encoder.py:257\u001b[0m, in \u001b[0;36mJSONEncoder.iterencode\u001b[1;34m(self, o, _one_shot)\u001b[0m\n\u001b[0;32m    252\u001b[0m \u001b[39melse\u001b[39;00m:\n\u001b[0;32m    253\u001b[0m     _iterencode \u001b[39m=\u001b[39m _make_iterencode(\n\u001b[0;32m    254\u001b[0m         markers, \u001b[39mself\u001b[39m\u001b[39m.\u001b[39mdefault, _encoder, \u001b[39mself\u001b[39m\u001b[39m.\u001b[39mindent, floatstr,\n\u001b[0;32m    255\u001b[0m         \u001b[39mself\u001b[39m\u001b[39m.\u001b[39mkey_separator, \u001b[39mself\u001b[39m\u001b[39m.\u001b[39mitem_separator, \u001b[39mself\u001b[39m\u001b[39m.\u001b[39msort_keys,\n\u001b[0;32m    256\u001b[0m         \u001b[39mself\u001b[39m\u001b[39m.\u001b[39mskipkeys, _one_shot)\n\u001b[1;32m--> 257\u001b[0m \u001b[39mreturn\u001b[39;00m _iterencode(o, \u001b[39m0\u001b[39;49m)\n",
      "File \u001b[1;32mc:\\Users\\user\\Anaconda3\\envs\\geo\\lib\\json\\encoder.py:179\u001b[0m, in \u001b[0;36mJSONEncoder.default\u001b[1;34m(self, o)\u001b[0m\n\u001b[0;32m    160\u001b[0m \u001b[39mdef\u001b[39;00m \u001b[39mdefault\u001b[39m(\u001b[39mself\u001b[39m, o):\n\u001b[0;32m    161\u001b[0m     \u001b[39m\"\"\"Implement this method in a subclass such that it returns\u001b[39;00m\n\u001b[0;32m    162\u001b[0m \u001b[39m    a serializable object for ``o``, or calls the base implementation\u001b[39;00m\n\u001b[0;32m    163\u001b[0m \u001b[39m    (to raise a ``TypeError``).\u001b[39;00m\n\u001b[1;32m   (...)\u001b[0m\n\u001b[0;32m    177\u001b[0m \n\u001b[0;32m    178\u001b[0m \u001b[39m    \"\"\"\u001b[39;00m\n\u001b[1;32m--> 179\u001b[0m     \u001b[39mraise\u001b[39;00m \u001b[39mTypeError\u001b[39;00m(\u001b[39mf\u001b[39m\u001b[39m'\u001b[39m\u001b[39mObject of type \u001b[39m\u001b[39m{\u001b[39;00mo\u001b[39m.\u001b[39m\u001b[39m__class__\u001b[39m\u001b[39m.\u001b[39m\u001b[39m__name__\u001b[39m\u001b[39m}\u001b[39;00m\u001b[39m \u001b[39m\u001b[39m'\u001b[39m\n\u001b[0;32m    180\u001b[0m                     \u001b[39mf\u001b[39m\u001b[39m'\u001b[39m\u001b[39mis not JSON serializable\u001b[39m\u001b[39m'\u001b[39m)\n",
      "\u001b[1;31mTypeError\u001b[0m: Object of type GeoDataFrame is not JSON serializable"
     ]
    }
   ],
   "source": [
    "m = ChoroplethViz(\n",
    "    access_token = token,\n",
    "    data = build_group,\n",
    "    color_property = \"HEIGHT\",\n",
    "    color_stops = color_stops,\n",
    "    center = seoul,\n",
    "    zoom = 14\n",
    ")\n",
    "\n",
    "m.show()"
   ]
  }
 ],
 "metadata": {
  "kernelspec": {
   "display_name": "Python 3.8.13 ('geo')",
   "language": "python",
   "name": "python3"
  },
  "language_info": {
   "codemirror_mode": {
    "name": "ipython",
    "version": 3
   },
   "file_extension": ".py",
   "mimetype": "text/x-python",
   "name": "python",
   "nbconvert_exporter": "python",
   "pygments_lexer": "ipython3",
   "version": "3.8.13"
  },
  "orig_nbformat": 4,
  "vscode": {
   "interpreter": {
    "hash": "3e5f5473658ae5ec018127d3f4d6c9ec83ecb3efcc215471238b74c271e6f6b5"
   }
  }
 },
 "nbformat": 4,
 "nbformat_minor": 2
}

{
 "cells": [
  {
   "cell_type": "code",
   "execution_count": 128,
   "metadata": {},
   "outputs": [],
   "source": [
    "import os\n",
    "import geopandas as gpd\n",
    "import pandas as pd"
   ]
  },
  {
   "cell_type": "code",
   "execution_count": 129,
   "metadata": {},
   "outputs": [
    {
     "data": {
      "text/html": [
       "<div>\n",
       "<style scoped>\n",
       "    .dataframe tbody tr th:only-of-type {\n",
       "        vertical-align: middle;\n",
       "    }\n",
       "\n",
       "    .dataframe tbody tr th {\n",
       "        vertical-align: top;\n",
       "    }\n",
       "\n",
       "    .dataframe thead th {\n",
       "        text-align: right;\n",
       "    }\n",
       "</style>\n",
       "<table border=\"1\" class=\"dataframe\">\n",
       "  <thead>\n",
       "    <tr style=\"text-align: right;\">\n",
       "      <th></th>\n",
       "      <th>h3_9</th>\n",
       "      <th>geometry</th>\n",
       "    </tr>\n",
       "  </thead>\n",
       "  <tbody>\n",
       "    <tr>\n",
       "      <th>0</th>\n",
       "      <td>8930e0a5423ffff</td>\n",
       "      <td>POLYGON ((126.79014 37.60392, 126.78916 37.602...</td>\n",
       "    </tr>\n",
       "    <tr>\n",
       "      <th>1</th>\n",
       "      <td>8930e1d8127ffff</td>\n",
       "      <td>POLYGON ((126.97254 37.56289, 126.97156 37.561...</td>\n",
       "    </tr>\n",
       "    <tr>\n",
       "      <th>2</th>\n",
       "      <td>8930e1c24afffff</td>\n",
       "      <td>POLYGON ((127.03110 37.66834, 127.03012 37.667...</td>\n",
       "    </tr>\n",
       "  </tbody>\n",
       "</table>\n",
       "</div>"
      ],
      "text/plain": [
       "              h3_9                                           geometry\n",
       "0  8930e0a5423ffff  POLYGON ((126.79014 37.60392, 126.78916 37.602...\n",
       "1  8930e1d8127ffff  POLYGON ((126.97254 37.56289, 126.97156 37.561...\n",
       "2  8930e1c24afffff  POLYGON ((127.03110 37.66834, 127.03012 37.667..."
      ]
     },
     "execution_count": 129,
     "metadata": {},
     "output_type": "execute_result"
    }
   ],
   "source": [
    "## 서울시 H3 그리드 불러오기\n",
    "seoul_grid = gpd.read_file(\"data/그리드/seoul_grid.shp\")\n",
    "seoul_grid.head(3)"
   ]
  },
  {
   "cell_type": "code",
   "execution_count": 130,
   "metadata": {},
   "outputs": [
    {
     "data": {
      "text/plain": [
       "(23024, 2)"
      ]
     },
     "execution_count": 130,
     "metadata": {},
     "output_type": "execute_result"
    }
   ],
   "source": [
    "seoul_grid.shape"
   ]
  },
  {
   "cell_type": "code",
   "execution_count": 131,
   "metadata": {},
   "outputs": [],
   "source": [
    "path = 'data/토지데이터/NGII_LUM_11_서울/'\n",
    "file_list = os.listdir(path)\n",
    "file_list = [file for file in file_list if file.endswith('.shp')]"
   ]
  },
  {
   "cell_type": "code",
   "execution_count": 132,
   "metadata": {},
   "outputs": [],
   "source": [
    "land = gpd.GeoDataFrame()\n",
    "for i in file_list:\n",
    "    data = gpd.read_file(path + i, crs='5181')\n",
    "    land = pd.concat([land,data])\n",
    "    \n",
    "land = land.reset_index(drop = True)"
   ]
  },
  {
   "cell_type": "code",
   "execution_count": 133,
   "metadata": {},
   "outputs": [
    {
     "data": {
      "text/html": [
       "<div>\n",
       "<style scoped>\n",
       "    .dataframe tbody tr th:only-of-type {\n",
       "        vertical-align: middle;\n",
       "    }\n",
       "\n",
       "    .dataframe tbody tr th {\n",
       "        vertical-align: top;\n",
       "    }\n",
       "\n",
       "    .dataframe thead th {\n",
       "        text-align: right;\n",
       "    }\n",
       "</style>\n",
       "<table border=\"1\" class=\"dataframe\">\n",
       "  <thead>\n",
       "    <tr style=\"text-align: right;\">\n",
       "      <th></th>\n",
       "      <th>대분류</th>\n",
       "      <th>중분류</th>\n",
       "      <th>소분류</th>\n",
       "      <th>코드</th>\n",
       "      <th>정의(38개)</th>\n",
       "      <th>Unnamed: 5</th>\n",
       "    </tr>\n",
       "  </thead>\n",
       "  <tbody>\n",
       "    <tr>\n",
       "      <th>0</th>\n",
       "      <td>농지</td>\n",
       "      <td>논</td>\n",
       "      <td>경지정리답</td>\n",
       "      <td>1110</td>\n",
       "      <td>물을 이용하여 벼를 재배하기 위한 토지로 수로가 용수를 공급하는 경지 정리지</td>\n",
       "      <td>NaN</td>\n",
       "    </tr>\n",
       "    <tr>\n",
       "      <th>1</th>\n",
       "      <td>NaN</td>\n",
       "      <td>NaN</td>\n",
       "      <td>미경지정리답</td>\n",
       "      <td>1120</td>\n",
       "      <td>물을 이용하여 벼를 재배하기 위한 토지로서 주로 계단 형태이며, 경사가 심한 산간지...</td>\n",
       "      <td>NaN</td>\n",
       "    </tr>\n",
       "    <tr>\n",
       "      <th>2</th>\n",
       "      <td>NaN</td>\n",
       "      <td>밭</td>\n",
       "      <td>보통,특수작물</td>\n",
       "      <td>1210</td>\n",
       "      <td>물을 대지 아니하고 식물을 재배하는 토지로 보통작물인 무, 배추, 시금치 등의 채소...</td>\n",
       "      <td>NaN</td>\n",
       "    </tr>\n",
       "  </tbody>\n",
       "</table>\n",
       "</div>"
      ],
      "text/plain": [
       "   대분류  중분류      소분류    코드                                            정의(38개)  \\\n",
       "0   농지    논    경지정리답  1110         물을 이용하여 벼를 재배하기 위한 토지로 수로가 용수를 공급하는 경지 정리지   \n",
       "1  NaN  NaN   미경지정리답  1120  물을 이용하여 벼를 재배하기 위한 토지로서 주로 계단 형태이며, 경사가 심한 산간지...   \n",
       "2  NaN    밭  보통,특수작물  1210  물을 대지 아니하고 식물을 재배하는 토지로 보통작물인 무, 배추, 시금치 등의 채소...   \n",
       "\n",
       "   Unnamed: 5  \n",
       "0         NaN  \n",
       "1         NaN  \n",
       "2         NaN  "
      ]
     },
     "execution_count": 133,
     "metadata": {},
     "output_type": "execute_result"
    }
   ],
   "source": [
    "land_info = pd.read_excel('data/토지이용현황도_분류항목(코드).xls', header = 5)\n",
    "land_info.head(3)"
   ]
  },
  {
   "cell_type": "code",
   "execution_count": 134,
   "metadata": {},
   "outputs": [
    {
     "name": "stderr",
     "output_type": "stream",
     "text": [
      "C:\\Users\\user\\AppData\\Local\\Temp\\ipykernel_1524\\4170629735.py:1: SettingWithCopyWarning: \n",
      "A value is trying to be set on a copy of a slice from a DataFrame\n",
      "\n",
      "See the caveats in the documentation: https://pandas.pydata.org/pandas-docs/stable/user_guide/indexing.html#returning-a-view-versus-a-copy\n",
      "  land_info['대분류'][:4] = \"농지\"; land_info['대분류'][4:13] = \"임지\"\n",
      "C:\\Users\\user\\AppData\\Local\\Temp\\ipykernel_1524\\4170629735.py:2: SettingWithCopyWarning: \n",
      "A value is trying to be set on a copy of a slice from a DataFrame\n",
      "\n",
      "See the caveats in the documentation: https://pandas.pydata.org/pandas-docs/stable/user_guide/indexing.html#returning-a-view-versus-a-copy\n",
      "  land_info['대분류'][13:32] = \"도시 및 주거지\"; land_info['대분류'][32:] = \"수계\"\n"
     ]
    }
   ],
   "source": [
    "land_info['대분류'][:4] = \"농지\"; land_info['대분류'][4:13] = \"임지\"\n",
    "land_info['대분류'][13:32] = \"도시 및 주거지\"; land_info['대분류'][32:] = \"수계\""
   ]
  },
  {
   "cell_type": "code",
   "execution_count": 135,
   "metadata": {},
   "outputs": [
    {
     "data": {
      "text/html": [
       "<div>\n",
       "<style scoped>\n",
       "    .dataframe tbody tr th:only-of-type {\n",
       "        vertical-align: middle;\n",
       "    }\n",
       "\n",
       "    .dataframe tbody tr th {\n",
       "        vertical-align: top;\n",
       "    }\n",
       "\n",
       "    .dataframe thead th {\n",
       "        text-align: right;\n",
       "    }\n",
       "</style>\n",
       "<table border=\"1\" class=\"dataframe\">\n",
       "  <thead>\n",
       "    <tr style=\"text-align: right;\">\n",
       "      <th></th>\n",
       "      <th>대분류</th>\n",
       "      <th>코드</th>\n",
       "    </tr>\n",
       "  </thead>\n",
       "  <tbody>\n",
       "    <tr>\n",
       "      <th>0</th>\n",
       "      <td>농지</td>\n",
       "      <td>1110</td>\n",
       "    </tr>\n",
       "    <tr>\n",
       "      <th>1</th>\n",
       "      <td>농지</td>\n",
       "      <td>1120</td>\n",
       "    </tr>\n",
       "    <tr>\n",
       "      <th>2</th>\n",
       "      <td>농지</td>\n",
       "      <td>1210</td>\n",
       "    </tr>\n",
       "  </tbody>\n",
       "</table>\n",
       "</div>"
      ],
      "text/plain": [
       "  대분류    코드\n",
       "0  농지  1110\n",
       "1  농지  1120\n",
       "2  농지  1210"
      ]
     },
     "execution_count": 135,
     "metadata": {},
     "output_type": "execute_result"
    }
   ],
   "source": [
    "land_info = land_info[['대분류', '코드']]\n",
    "land_info.head(3)"
   ]
  },
  {
   "cell_type": "code",
   "execution_count": 136,
   "metadata": {},
   "outputs": [],
   "source": [
    "land_info = land_info.astype({'코드' : 'str'}) # merge 위해 자료형 맞춰주기"
   ]
  },
  {
   "cell_type": "code",
   "execution_count": 137,
   "metadata": {},
   "outputs": [
    {
     "data": {
      "text/html": [
       "<div>\n",
       "<style scoped>\n",
       "    .dataframe tbody tr th:only-of-type {\n",
       "        vertical-align: middle;\n",
       "    }\n",
       "\n",
       "    .dataframe tbody tr th {\n",
       "        vertical-align: top;\n",
       "    }\n",
       "\n",
       "    .dataframe thead th {\n",
       "        text-align: right;\n",
       "    }\n",
       "</style>\n",
       "<table border=\"1\" class=\"dataframe\">\n",
       "  <thead>\n",
       "    <tr style=\"text-align: right;\">\n",
       "      <th></th>\n",
       "      <th>UCB</th>\n",
       "      <th>geometry</th>\n",
       "      <th>대분류</th>\n",
       "      <th>코드</th>\n",
       "    </tr>\n",
       "  </thead>\n",
       "  <tbody>\n",
       "    <tr>\n",
       "      <th>0</th>\n",
       "      <td>2210</td>\n",
       "      <td>POLYGON ((188722.870 458389.790, 188711.470 45...</td>\n",
       "      <td>임지</td>\n",
       "      <td>2210</td>\n",
       "    </tr>\n",
       "    <tr>\n",
       "      <th>1</th>\n",
       "      <td>2210</td>\n",
       "      <td>POLYGON ((188718.060 459947.730, 188727.810 45...</td>\n",
       "      <td>임지</td>\n",
       "      <td>2210</td>\n",
       "    </tr>\n",
       "    <tr>\n",
       "      <th>2</th>\n",
       "      <td>2210</td>\n",
       "      <td>POLYGON ((188714.520 460626.560, 188733.040 46...</td>\n",
       "      <td>임지</td>\n",
       "      <td>2210</td>\n",
       "    </tr>\n",
       "  </tbody>\n",
       "</table>\n",
       "</div>"
      ],
      "text/plain": [
       "    UCB                                           geometry 대분류    코드\n",
       "0  2210  POLYGON ((188722.870 458389.790, 188711.470 45...  임지  2210\n",
       "1  2210  POLYGON ((188718.060 459947.730, 188727.810 45...  임지  2210\n",
       "2  2210  POLYGON ((188714.520 460626.560, 188733.040 46...  임지  2210"
      ]
     },
     "execution_count": 137,
     "metadata": {},
     "output_type": "execute_result"
    }
   ],
   "source": [
    "land = pd.merge(land, land_info, how = \"inner\", left_on = \"UCB\", right_on = \"코드\")\n",
    "land.head(3)"
   ]
  },
  {
   "cell_type": "code",
   "execution_count": 138,
   "metadata": {},
   "outputs": [],
   "source": [
    "land = gpd.GeoDataFrame(land, geometry = 'geometry', crs = '5181')\n",
    "land = land.to_crs(4326)"
   ]
  },
  {
   "cell_type": "code",
   "execution_count": 139,
   "metadata": {},
   "outputs": [
    {
     "data": {
      "text/html": [
       "<div>\n",
       "<style scoped>\n",
       "    .dataframe tbody tr th:only-of-type {\n",
       "        vertical-align: middle;\n",
       "    }\n",
       "\n",
       "    .dataframe tbody tr th {\n",
       "        vertical-align: top;\n",
       "    }\n",
       "\n",
       "    .dataframe thead th {\n",
       "        text-align: right;\n",
       "    }\n",
       "</style>\n",
       "<table border=\"1\" class=\"dataframe\">\n",
       "  <thead>\n",
       "    <tr style=\"text-align: right;\">\n",
       "      <th></th>\n",
       "      <th>h3_9</th>\n",
       "      <th>geometry</th>\n",
       "    </tr>\n",
       "  </thead>\n",
       "  <tbody>\n",
       "    <tr>\n",
       "      <th>0</th>\n",
       "      <td>8930e0a5423ffff</td>\n",
       "      <td>POLYGON ((126.79014 37.60392, 126.78916 37.602...</td>\n",
       "    </tr>\n",
       "    <tr>\n",
       "      <th>1</th>\n",
       "      <td>8930e1d8127ffff</td>\n",
       "      <td>POLYGON ((126.97254 37.56289, 126.97156 37.561...</td>\n",
       "    </tr>\n",
       "    <tr>\n",
       "      <th>2</th>\n",
       "      <td>8930e1c24afffff</td>\n",
       "      <td>POLYGON ((127.03110 37.66834, 127.03012 37.667...</td>\n",
       "    </tr>\n",
       "  </tbody>\n",
       "</table>\n",
       "</div>"
      ],
      "text/plain": [
       "              h3_9                                           geometry\n",
       "0  8930e0a5423ffff  POLYGON ((126.79014 37.60392, 126.78916 37.602...\n",
       "1  8930e1d8127ffff  POLYGON ((126.97254 37.56289, 126.97156 37.561...\n",
       "2  8930e1c24afffff  POLYGON ((127.03110 37.66834, 127.03012 37.667..."
      ]
     },
     "execution_count": 139,
     "metadata": {},
     "output_type": "execute_result"
    }
   ],
   "source": [
    "seoul_cen = gpd.GeoDataFrame(seoul_grid, geometry = \"geometry\", crs = \"4326\")\n",
    "seoul_cen.head(3)"
   ]
  },
  {
   "cell_type": "code",
   "execution_count": 140,
   "metadata": {},
   "outputs": [
    {
     "name": "stderr",
     "output_type": "stream",
     "text": [
      "C:\\Users\\user\\AppData\\Local\\Temp\\ipykernel_1524\\844776798.py:1: UserWarning: Geometry is in a geographic CRS. Results from 'centroid' are likely incorrect. Use 'GeoSeries.to_crs()' to re-project geometries to a projected CRS before this operation.\n",
      "\n",
      "  seoul_cen['geometry'] = seoul_cen['geometry'].centroid\n"
     ]
    },
    {
     "data": {
      "text/html": [
       "<div>\n",
       "<style scoped>\n",
       "    .dataframe tbody tr th:only-of-type {\n",
       "        vertical-align: middle;\n",
       "    }\n",
       "\n",
       "    .dataframe tbody tr th {\n",
       "        vertical-align: top;\n",
       "    }\n",
       "\n",
       "    .dataframe thead th {\n",
       "        text-align: right;\n",
       "    }\n",
       "</style>\n",
       "<table border=\"1\" class=\"dataframe\">\n",
       "  <thead>\n",
       "    <tr style=\"text-align: right;\">\n",
       "      <th></th>\n",
       "      <th>h3_9</th>\n",
       "      <th>geometry</th>\n",
       "    </tr>\n",
       "  </thead>\n",
       "  <tbody>\n",
       "    <tr>\n",
       "      <th>0</th>\n",
       "      <td>8930e0a5423ffff</td>\n",
       "      <td>POINT (126.78841 37.60413)</td>\n",
       "    </tr>\n",
       "    <tr>\n",
       "      <th>1</th>\n",
       "      <td>8930e1d8127ffff</td>\n",
       "      <td>POINT (126.97081 37.56310)</td>\n",
       "    </tr>\n",
       "    <tr>\n",
       "      <th>2</th>\n",
       "      <td>8930e1c24afffff</td>\n",
       "      <td>POINT (127.02937 37.66856)</td>\n",
       "    </tr>\n",
       "  </tbody>\n",
       "</table>\n",
       "</div>"
      ],
      "text/plain": [
       "              h3_9                    geometry\n",
       "0  8930e0a5423ffff  POINT (126.78841 37.60413)\n",
       "1  8930e1d8127ffff  POINT (126.97081 37.56310)\n",
       "2  8930e1c24afffff  POINT (127.02937 37.66856)"
      ]
     },
     "execution_count": 140,
     "metadata": {},
     "output_type": "execute_result"
    }
   ],
   "source": [
    "seoul_cen['geometry'] = seoul_cen['geometry'].centroid\n",
    "seoul_cen.head(3)"
   ]
  },
  {
   "cell_type": "code",
   "execution_count": 141,
   "metadata": {},
   "outputs": [],
   "source": [
    "land_grid = gpd.sjoin(seoul_cen, land, how = \"left\")"
   ]
  },
  {
   "cell_type": "code",
   "execution_count": 142,
   "metadata": {},
   "outputs": [
    {
     "data": {
      "text/html": [
       "<div>\n",
       "<style scoped>\n",
       "    .dataframe tbody tr th:only-of-type {\n",
       "        vertical-align: middle;\n",
       "    }\n",
       "\n",
       "    .dataframe tbody tr th {\n",
       "        vertical-align: top;\n",
       "    }\n",
       "\n",
       "    .dataframe thead th {\n",
       "        text-align: right;\n",
       "    }\n",
       "</style>\n",
       "<table border=\"1\" class=\"dataframe\">\n",
       "  <thead>\n",
       "    <tr style=\"text-align: right;\">\n",
       "      <th></th>\n",
       "      <th>h3_9</th>\n",
       "      <th>대분류</th>\n",
       "      <th>코드</th>\n",
       "      <th>geometry</th>\n",
       "    </tr>\n",
       "  </thead>\n",
       "  <tbody>\n",
       "    <tr>\n",
       "      <th>0</th>\n",
       "      <td>8930e0a5423ffff</td>\n",
       "      <td>도시 및 주거지</td>\n",
       "      <td>3210</td>\n",
       "      <td>POINT (126.78841 37.60413)</td>\n",
       "    </tr>\n",
       "    <tr>\n",
       "      <th>1</th>\n",
       "      <td>8930e1d8127ffff</td>\n",
       "      <td>도시 및 주거지</td>\n",
       "      <td>3430</td>\n",
       "      <td>POINT (126.97081 37.56310)</td>\n",
       "    </tr>\n",
       "    <tr>\n",
       "      <th>2</th>\n",
       "      <td>8930e1c24afffff</td>\n",
       "      <td>임지</td>\n",
       "      <td>2210</td>\n",
       "      <td>POINT (127.02937 37.66856)</td>\n",
       "    </tr>\n",
       "  </tbody>\n",
       "</table>\n",
       "</div>"
      ],
      "text/plain": [
       "              h3_9       대분류    코드                    geometry\n",
       "0  8930e0a5423ffff  도시 및 주거지  3210  POINT (126.78841 37.60413)\n",
       "1  8930e1d8127ffff  도시 및 주거지  3430  POINT (126.97081 37.56310)\n",
       "2  8930e1c24afffff        임지  2210  POINT (127.02937 37.66856)"
      ]
     },
     "execution_count": 142,
     "metadata": {},
     "output_type": "execute_result"
    }
   ],
   "source": [
    "land = land_grid[['h3_9', '대분류', '코드', 'geometry']]\n",
    "land.head(3)"
   ]
  },
  {
   "cell_type": "code",
   "execution_count": 143,
   "metadata": {},
   "outputs": [],
   "source": [
    "land1 = pd.DataFrame(land)\n",
    "land1.drop('geometry', axis = 1, inplace = True)"
   ]
  },
  {
   "cell_type": "code",
   "execution_count": 144,
   "metadata": {},
   "outputs": [],
   "source": [
    "from shapely.geometry import Polygon\n",
    "import h3"
   ]
  },
  {
   "cell_type": "code",
   "execution_count": 145,
   "metadata": {},
   "outputs": [],
   "source": [
    "## h3 index를 polygon으로 변환\n",
    "def to_polygon(l) :\n",
    "    return Polygon(h3.h3_to_geo_boundary(l, geo_json = True))\n",
    "\n",
    "land1['geometry'] = land1['h3_9'].apply(to_polygon)\n",
    "# land1 = land1.set_crs(epsg = 4326)"
   ]
  },
  {
   "cell_type": "code",
   "execution_count": 146,
   "metadata": {},
   "outputs": [],
   "source": [
    "df = gpd.GeoDataFrame(land1, geometry = 'geometry', crs = '4326')"
   ]
  },
  {
   "cell_type": "code",
   "execution_count": 147,
   "metadata": {},
   "outputs": [],
   "source": [
    "def polygon_to_coordinates(x) :\n",
    "    lon, lat = x.exterior.xy\n",
    "    return [[x, y] for x, y in zip(lon, lat)]"
   ]
  },
  {
   "cell_type": "code",
   "execution_count": 148,
   "metadata": {},
   "outputs": [],
   "source": [
    "df['coordinates'] = df['geometry'].apply(polygon_to_coordinates)\n",
    "del df['geometry']"
   ]
  },
  {
   "cell_type": "code",
   "execution_count": 149,
   "metadata": {},
   "outputs": [],
   "source": [
    "df = pd.DataFrame(df)"
   ]
  },
  {
   "cell_type": "code",
   "execution_count": 150,
   "metadata": {},
   "outputs": [
    {
     "data": {
      "text/html": [
       "<div>\n",
       "<style scoped>\n",
       "    .dataframe tbody tr th:only-of-type {\n",
       "        vertical-align: middle;\n",
       "    }\n",
       "\n",
       "    .dataframe tbody tr th {\n",
       "        vertical-align: top;\n",
       "    }\n",
       "\n",
       "    .dataframe thead th {\n",
       "        text-align: right;\n",
       "    }\n",
       "</style>\n",
       "<table border=\"1\" class=\"dataframe\">\n",
       "  <thead>\n",
       "    <tr style=\"text-align: right;\">\n",
       "      <th></th>\n",
       "      <th>h3_9</th>\n",
       "      <th>대분류</th>\n",
       "      <th>코드</th>\n",
       "      <th>coordinates</th>\n",
       "    </tr>\n",
       "  </thead>\n",
       "  <tbody>\n",
       "    <tr>\n",
       "      <th>0</th>\n",
       "      <td>8930e0a5423ffff</td>\n",
       "      <td>도시 및 주거지</td>\n",
       "      <td>3210</td>\n",
       "      <td>[[126.79013552025086, 37.60391518987627], [126...</td>\n",
       "    </tr>\n",
       "    <tr>\n",
       "      <th>1</th>\n",
       "      <td>8930e1d8127ffff</td>\n",
       "      <td>도시 및 주거지</td>\n",
       "      <td>3430</td>\n",
       "      <td>[[126.97254288416778, 37.56288514788764], [126...</td>\n",
       "    </tr>\n",
       "    <tr>\n",
       "      <th>2</th>\n",
       "      <td>8930e1c24afffff</td>\n",
       "      <td>임지</td>\n",
       "      <td>2210</td>\n",
       "      <td>[[127.03110097938165, 37.66834454055887], [127...</td>\n",
       "    </tr>\n",
       "  </tbody>\n",
       "</table>\n",
       "</div>"
      ],
      "text/plain": [
       "              h3_9       대분류    코드  \\\n",
       "0  8930e0a5423ffff  도시 및 주거지  3210   \n",
       "1  8930e1d8127ffff  도시 및 주거지  3430   \n",
       "2  8930e1c24afffff        임지  2210   \n",
       "\n",
       "                                         coordinates  \n",
       "0  [[126.79013552025086, 37.60391518987627], [126...  \n",
       "1  [[126.97254288416778, 37.56288514788764], [126...  \n",
       "2  [[127.03110097938165, 37.66834454055887], [127...  "
      ]
     },
     "execution_count": 150,
     "metadata": {},
     "output_type": "execute_result"
    }
   ],
   "source": [
    "df.head(3)"
   ]
  },
  {
   "cell_type": "code",
   "execution_count": 151,
   "metadata": {},
   "outputs": [],
   "source": [
    "df['color'] = df['코드'].str[:1]"
   ]
  },
  {
   "cell_type": "code",
   "execution_count": 152,
   "metadata": {},
   "outputs": [
    {
     "data": {
      "text/plain": [
       "array(['3', '2', '1', nan, '4'], dtype=object)"
      ]
     },
     "execution_count": 152,
     "metadata": {},
     "output_type": "execute_result"
    }
   ],
   "source": [
    "df['color'].unique()"
   ]
  },
  {
   "attachments": {},
   "cell_type": "markdown",
   "metadata": {},
   "source": [
    "- `대분류`, `코드` column의 결측값 채우기"
   ]
  },
  {
   "cell_type": "code",
   "execution_count": 153,
   "metadata": {},
   "outputs": [],
   "source": [
    "df['코드'] = df['코드'].fillna(0)"
   ]
  },
  {
   "cell_type": "code",
   "execution_count": 154,
   "metadata": {},
   "outputs": [],
   "source": [
    "df['color'] = df['color'].fillna(0)"
   ]
  },
  {
   "cell_type": "code",
   "execution_count": 155,
   "metadata": {},
   "outputs": [],
   "source": [
    "df['대분류'] = df['대분류'].fillna('알수없음')"
   ]
  },
  {
   "cell_type": "code",
   "execution_count": 156,
   "metadata": {},
   "outputs": [],
   "source": [
    "df['ID'] = df['대분류'] + '-' + df['코드'].astype('str')"
   ]
  },
  {
   "cell_type": "code",
   "execution_count": 157,
   "metadata": {},
   "outputs": [],
   "source": [
    "import numpy as np\n",
    "\n",
    "random_R = np.random.rand(34)\n",
    "random_B = np.random.rand(34)\n",
    "random_G = np.random.rand(34)"
   ]
  },
  {
   "cell_type": "code",
   "execution_count": 158,
   "metadata": {},
   "outputs": [],
   "source": [
    "from tqdm import tqdm"
   ]
  },
  {
   "cell_type": "code",
   "execution_count": 159,
   "metadata": {},
   "outputs": [
    {
     "name": "stderr",
     "output_type": "stream",
     "text": [
      "5it [00:00, 499.89it/s]\n"
     ]
    }
   ],
   "source": [
    "data_list = []\n",
    "\n",
    "for idx, row in tqdm(enumerate(df.groupby('color'))):\n",
    "    sub = row[1]\n",
    "    sub['color_R'] = random_R[idx]\n",
    "    sub['color_B'] = random_B[idx]\n",
    "    sub['color_G'] = random_G[idx]\n",
    "    \n",
    "    data_list.append(sub)\n",
    "\n",
    "df  = pd.concat(data_list)\n",
    "df = df.reset_index(drop=True)"
   ]
  },
  {
   "cell_type": "code",
   "execution_count": 186,
   "metadata": {},
   "outputs": [],
   "source": [
    "df.loc[df[\"color\"] == \"1\", \"color_R\"] = 0\n",
    "df.loc[df[\"color\"] == \"1\", \"color_G\"] = 255\n",
    "df.loc[df[\"color\"] == \"1\", \"color_B\"] = 0"
   ]
  },
  {
   "cell_type": "code",
   "execution_count": 187,
   "metadata": {},
   "outputs": [],
   "source": [
    "df.loc[df[\"color\"] == \"2\", \"color_R\"] = 255\n",
    "df.loc[df[\"color\"] == \"2\", \"color_G\"] = 255\n",
    "df.loc[df[\"color\"] == \"2\", \"color_B\"] = 0"
   ]
  },
  {
   "cell_type": "code",
   "execution_count": 188,
   "metadata": {},
   "outputs": [],
   "source": [
    "df.loc[df[\"color\"] == \"3\", \"color_R\"] = 255\n",
    "df.loc[df[\"color\"] == \"3\", \"color_G\"] = 0\n",
    "df.loc[df[\"color\"] == \"3\", \"color_B\"] = 255"
   ]
  },
  {
   "cell_type": "code",
   "execution_count": 189,
   "metadata": {},
   "outputs": [],
   "source": [
    "df.loc[df[\"color\"] == \"4\", \"color_R\"] = 0\n",
    "df.loc[df[\"color\"] == \"4\", \"color_G\"] = 0\n",
    "df.loc[df[\"color\"] == \"4\", \"color_B\"] = 255"
   ]
  },
  {
   "cell_type": "code",
   "execution_count": 194,
   "metadata": {},
   "outputs": [],
   "source": [
    "d = df[df['color'] == 0].index\n",
    "df.drop(d, inplace = True)"
   ]
  },
  {
   "cell_type": "code",
   "execution_count": 191,
   "metadata": {},
   "outputs": [],
   "source": [
    "import pydeck as pdk"
   ]
  },
  {
   "attachments": {},
   "cell_type": "markdown",
   "metadata": {},
   "source": [
    "- 도시 및 주거지 : 선홍색\n",
    "- 임지 : 노란색\n",
    "- 농지 : 초록색\n",
    "- 수계 : 파란색"
   ]
  },
  {
   "cell_type": "code",
   "execution_count": 195,
   "metadata": {},
   "outputs": [
    {
     "data": {
      "application/vnd.jupyter.widget-view+json": {
       "model_id": "6cb72f0aaabb4ba3a6caf52f1bd7b392",
       "version_major": 2,
       "version_minor": 0
      },
      "text/plain": [
       "DeckGLWidget(carto_key=None, custom_libraries=[], google_maps_key=None, json_input='{\\n  \"initialViewState\": {…"
      ]
     },
     "metadata": {},
     "output_type": "display_data"
    }
   ],
   "source": [
    "layer = pdk.Layer(\n",
    "    \"PolygonLayer\",\n",
    "    df,\n",
    "    get_polygon = \"coordinates\",\n",
    "    get_fill_color = '[1 * color_R,  1 * color_G , 1 * color_B]',\n",
    "    pickable = True,\n",
    "    auto_highlight = True\n",
    ")\n",
    "\n",
    "# 서울시청 주소\n",
    "lat = 37.5662; lng = 126.9787\n",
    "seoul = [lat, lng]\n",
    "\n",
    "view_state = pdk.ViewState(\n",
    "    longitude = seoul[1],\n",
    "    latitude = seoul[0],\n",
    "    zoom = 14\n",
    ")\n",
    "\n",
    "r = pdk.Deck(layers = [layer], initial_view_state = view_state)\n",
    "r.show()"
   ]
  },
  {
   "cell_type": "code",
   "execution_count": null,
   "metadata": {},
   "outputs": [],
   "source": []
  }
 ],
 "metadata": {
  "kernelspec": {
   "display_name": "Python 3.8.13 ('geo')",
   "language": "python",
   "name": "python3"
  },
  "language_info": {
   "codemirror_mode": {
    "name": "ipython",
    "version": 3
   },
   "file_extension": ".py",
   "mimetype": "text/x-python",
   "name": "python",
   "nbconvert_exporter": "python",
   "pygments_lexer": "ipython3",
   "version": "3.8.13"
  },
  "orig_nbformat": 4,
  "vscode": {
   "interpreter": {
    "hash": "3e5f5473658ae5ec018127d3f4d6c9ec83ecb3efcc215471238b74c271e6f6b5"
   }
  }
 },
 "nbformat": 4,
 "nbformat_minor": 2
}

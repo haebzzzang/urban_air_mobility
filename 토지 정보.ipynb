{
 "cells": [
  {
   "cell_type": "code",
   "execution_count": 1,
   "metadata": {},
   "outputs": [],
   "source": [
    "import os\n",
    "import geopandas as gpd\n",
    "import pandas as pd"
   ]
  },
  {
   "cell_type": "code",
   "execution_count": 2,
   "metadata": {},
   "outputs": [
    {
     "data": {
      "text/html": [
       "<div>\n",
       "<style scoped>\n",
       "    .dataframe tbody tr th:only-of-type {\n",
       "        vertical-align: middle;\n",
       "    }\n",
       "\n",
       "    .dataframe tbody tr th {\n",
       "        vertical-align: top;\n",
       "    }\n",
       "\n",
       "    .dataframe thead th {\n",
       "        text-align: right;\n",
       "    }\n",
       "</style>\n",
       "<table border=\"1\" class=\"dataframe\">\n",
       "  <thead>\n",
       "    <tr style=\"text-align: right;\">\n",
       "      <th></th>\n",
       "      <th>h3_9</th>\n",
       "      <th>geometry</th>\n",
       "    </tr>\n",
       "  </thead>\n",
       "  <tbody>\n",
       "    <tr>\n",
       "      <th>0</th>\n",
       "      <td>8930e0a5423ffff</td>\n",
       "      <td>POLYGON ((126.79014 37.60392, 126.78916 37.602...</td>\n",
       "    </tr>\n",
       "    <tr>\n",
       "      <th>1</th>\n",
       "      <td>8930e1d8127ffff</td>\n",
       "      <td>POLYGON ((126.97254 37.56289, 126.97156 37.561...</td>\n",
       "    </tr>\n",
       "    <tr>\n",
       "      <th>2</th>\n",
       "      <td>8930e1c24afffff</td>\n",
       "      <td>POLYGON ((127.03110 37.66834, 127.03012 37.667...</td>\n",
       "    </tr>\n",
       "  </tbody>\n",
       "</table>\n",
       "</div>"
      ],
      "text/plain": [
       "              h3_9                                           geometry\n",
       "0  8930e0a5423ffff  POLYGON ((126.79014 37.60392, 126.78916 37.602...\n",
       "1  8930e1d8127ffff  POLYGON ((126.97254 37.56289, 126.97156 37.561...\n",
       "2  8930e1c24afffff  POLYGON ((127.03110 37.66834, 127.03012 37.667..."
      ]
     },
     "execution_count": 2,
     "metadata": {},
     "output_type": "execute_result"
    }
   ],
   "source": [
    "## 서울시 H3 그리드 불러오기\n",
    "seoul_grid = gpd.read_file(\"data/그리드/seoul_grid3.shp\")\n",
    "seoul_grid.head(3)"
   ]
  },
  {
   "cell_type": "code",
   "execution_count": 3,
   "metadata": {},
   "outputs": [],
   "source": [
    "path = 'data/토지데이터/NGII_LUM_11_서울/'\n",
    "file_list = os.listdir(path)\n",
    "file_list = [file for file in file_list if file.endswith('.shp')]"
   ]
  },
  {
   "cell_type": "code",
   "execution_count": 4,
   "metadata": {},
   "outputs": [],
   "source": [
    "land = gpd.GeoDataFrame()\n",
    "for i in file_list:\n",
    "    data = gpd.read_file(path + i, crs='5181')\n",
    "    land = pd.concat([land,data])\n",
    "    \n",
    "land = land.reset_index(drop = True)"
   ]
  },
  {
   "cell_type": "code",
   "execution_count": 5,
   "metadata": {},
   "outputs": [
    {
     "data": {
      "text/html": [
       "<div>\n",
       "<style scoped>\n",
       "    .dataframe tbody tr th:only-of-type {\n",
       "        vertical-align: middle;\n",
       "    }\n",
       "\n",
       "    .dataframe tbody tr th {\n",
       "        vertical-align: top;\n",
       "    }\n",
       "\n",
       "    .dataframe thead th {\n",
       "        text-align: right;\n",
       "    }\n",
       "</style>\n",
       "<table border=\"1\" class=\"dataframe\">\n",
       "  <thead>\n",
       "    <tr style=\"text-align: right;\">\n",
       "      <th></th>\n",
       "      <th>UCB</th>\n",
       "      <th>geometry</th>\n",
       "    </tr>\n",
       "  </thead>\n",
       "  <tbody>\n",
       "    <tr>\n",
       "      <th>0</th>\n",
       "      <td>2210</td>\n",
       "      <td>POLYGON ((188722.870 458389.790, 188711.470 45...</td>\n",
       "    </tr>\n",
       "    <tr>\n",
       "      <th>1</th>\n",
       "      <td>1210</td>\n",
       "      <td>POLYGON ((188744.620 459186.710, 188766.310 45...</td>\n",
       "    </tr>\n",
       "    <tr>\n",
       "      <th>2</th>\n",
       "      <td>3210</td>\n",
       "      <td>POLYGON ((188757.030 459202.400, 188778.870 45...</td>\n",
       "    </tr>\n",
       "  </tbody>\n",
       "</table>\n",
       "</div>"
      ],
      "text/plain": [
       "    UCB                                           geometry\n",
       "0  2210  POLYGON ((188722.870 458389.790, 188711.470 45...\n",
       "1  1210  POLYGON ((188744.620 459186.710, 188766.310 45...\n",
       "2  3210  POLYGON ((188757.030 459202.400, 188778.870 45..."
      ]
     },
     "execution_count": 5,
     "metadata": {},
     "output_type": "execute_result"
    }
   ],
   "source": [
    "land.head(3)"
   ]
  },
  {
   "cell_type": "code",
   "execution_count": 6,
   "metadata": {},
   "outputs": [
    {
     "data": {
      "text/html": [
       "<div>\n",
       "<style scoped>\n",
       "    .dataframe tbody tr th:only-of-type {\n",
       "        vertical-align: middle;\n",
       "    }\n",
       "\n",
       "    .dataframe tbody tr th {\n",
       "        vertical-align: top;\n",
       "    }\n",
       "\n",
       "    .dataframe thead th {\n",
       "        text-align: right;\n",
       "    }\n",
       "</style>\n",
       "<table border=\"1\" class=\"dataframe\">\n",
       "  <thead>\n",
       "    <tr style=\"text-align: right;\">\n",
       "      <th></th>\n",
       "      <th>대분류</th>\n",
       "      <th>중분류</th>\n",
       "      <th>소분류</th>\n",
       "      <th>코드</th>\n",
       "      <th>정의(38개)</th>\n",
       "      <th>Unnamed: 5</th>\n",
       "    </tr>\n",
       "  </thead>\n",
       "  <tbody>\n",
       "    <tr>\n",
       "      <th>0</th>\n",
       "      <td>농지</td>\n",
       "      <td>논</td>\n",
       "      <td>경지정리답</td>\n",
       "      <td>1110</td>\n",
       "      <td>물을 이용하여 벼를 재배하기 위한 토지로 수로가 용수를 공급하는 경지 정리지</td>\n",
       "      <td>NaN</td>\n",
       "    </tr>\n",
       "    <tr>\n",
       "      <th>1</th>\n",
       "      <td>NaN</td>\n",
       "      <td>NaN</td>\n",
       "      <td>미경지정리답</td>\n",
       "      <td>1120</td>\n",
       "      <td>물을 이용하여 벼를 재배하기 위한 토지로서 주로 계단 형태이며, 경사가 심한 산간지...</td>\n",
       "      <td>NaN</td>\n",
       "    </tr>\n",
       "    <tr>\n",
       "      <th>2</th>\n",
       "      <td>NaN</td>\n",
       "      <td>밭</td>\n",
       "      <td>보통,특수작물</td>\n",
       "      <td>1210</td>\n",
       "      <td>물을 대지 아니하고 식물을 재배하는 토지로 보통작물인 무, 배추, 시금치 등의 채소...</td>\n",
       "      <td>NaN</td>\n",
       "    </tr>\n",
       "  </tbody>\n",
       "</table>\n",
       "</div>"
      ],
      "text/plain": [
       "   대분류  중분류      소분류    코드                                            정의(38개)  \\\n",
       "0   농지    논    경지정리답  1110         물을 이용하여 벼를 재배하기 위한 토지로 수로가 용수를 공급하는 경지 정리지   \n",
       "1  NaN  NaN   미경지정리답  1120  물을 이용하여 벼를 재배하기 위한 토지로서 주로 계단 형태이며, 경사가 심한 산간지...   \n",
       "2  NaN    밭  보통,특수작물  1210  물을 대지 아니하고 식물을 재배하는 토지로 보통작물인 무, 배추, 시금치 등의 채소...   \n",
       "\n",
       "   Unnamed: 5  \n",
       "0         NaN  \n",
       "1         NaN  \n",
       "2         NaN  "
      ]
     },
     "execution_count": 6,
     "metadata": {},
     "output_type": "execute_result"
    }
   ],
   "source": [
    "land_info = pd.read_excel('data/토지이용현황도_분류항목(코드).xls', header = 5)\n",
    "land_info.head(3)"
   ]
  },
  {
   "cell_type": "code",
   "execution_count": 7,
   "metadata": {},
   "outputs": [
    {
     "name": "stderr",
     "output_type": "stream",
     "text": [
      "C:\\Users\\user\\AppData\\Local\\Temp\\ipykernel_25392\\4170629735.py:1: SettingWithCopyWarning: \n",
      "A value is trying to be set on a copy of a slice from a DataFrame\n",
      "\n",
      "See the caveats in the documentation: https://pandas.pydata.org/pandas-docs/stable/user_guide/indexing.html#returning-a-view-versus-a-copy\n",
      "  land_info['대분류'][:4] = \"농지\"; land_info['대분류'][4:13] = \"임지\"\n",
      "C:\\Users\\user\\AppData\\Local\\Temp\\ipykernel_25392\\4170629735.py:2: SettingWithCopyWarning: \n",
      "A value is trying to be set on a copy of a slice from a DataFrame\n",
      "\n",
      "See the caveats in the documentation: https://pandas.pydata.org/pandas-docs/stable/user_guide/indexing.html#returning-a-view-versus-a-copy\n",
      "  land_info['대분류'][13:32] = \"도시 및 주거지\"; land_info['대분류'][32:] = \"수계\"\n"
     ]
    }
   ],
   "source": [
    "land_info['대분류'][:4] = \"농지\"; land_info['대분류'][4:13] = \"임지\"\n",
    "land_info['대분류'][13:32] = \"도시 및 주거지\"; land_info['대분류'][32:] = \"수계\""
   ]
  },
  {
   "cell_type": "code",
   "execution_count": 8,
   "metadata": {},
   "outputs": [
    {
     "data": {
      "text/html": [
       "<div>\n",
       "<style scoped>\n",
       "    .dataframe tbody tr th:only-of-type {\n",
       "        vertical-align: middle;\n",
       "    }\n",
       "\n",
       "    .dataframe tbody tr th {\n",
       "        vertical-align: top;\n",
       "    }\n",
       "\n",
       "    .dataframe thead th {\n",
       "        text-align: right;\n",
       "    }\n",
       "</style>\n",
       "<table border=\"1\" class=\"dataframe\">\n",
       "  <thead>\n",
       "    <tr style=\"text-align: right;\">\n",
       "      <th></th>\n",
       "      <th>대분류</th>\n",
       "      <th>코드</th>\n",
       "    </tr>\n",
       "  </thead>\n",
       "  <tbody>\n",
       "    <tr>\n",
       "      <th>0</th>\n",
       "      <td>농지</td>\n",
       "      <td>1110</td>\n",
       "    </tr>\n",
       "    <tr>\n",
       "      <th>1</th>\n",
       "      <td>농지</td>\n",
       "      <td>1120</td>\n",
       "    </tr>\n",
       "    <tr>\n",
       "      <th>2</th>\n",
       "      <td>농지</td>\n",
       "      <td>1210</td>\n",
       "    </tr>\n",
       "  </tbody>\n",
       "</table>\n",
       "</div>"
      ],
      "text/plain": [
       "  대분류    코드\n",
       "0  농지  1110\n",
       "1  농지  1120\n",
       "2  농지  1210"
      ]
     },
     "execution_count": 8,
     "metadata": {},
     "output_type": "execute_result"
    }
   ],
   "source": [
    "land_info = land_info[['대분류', '코드']]\n",
    "land_info.head(3)"
   ]
  },
  {
   "cell_type": "code",
   "execution_count": 9,
   "metadata": {},
   "outputs": [],
   "source": [
    "land_info = land_info.astype({'코드' : 'str'}) # merge 위해 자료형 맞춰주기"
   ]
  },
  {
   "cell_type": "code",
   "execution_count": 10,
   "metadata": {},
   "outputs": [
    {
     "data": {
      "text/html": [
       "<div>\n",
       "<style scoped>\n",
       "    .dataframe tbody tr th:only-of-type {\n",
       "        vertical-align: middle;\n",
       "    }\n",
       "\n",
       "    .dataframe tbody tr th {\n",
       "        vertical-align: top;\n",
       "    }\n",
       "\n",
       "    .dataframe thead th {\n",
       "        text-align: right;\n",
       "    }\n",
       "</style>\n",
       "<table border=\"1\" class=\"dataframe\">\n",
       "  <thead>\n",
       "    <tr style=\"text-align: right;\">\n",
       "      <th></th>\n",
       "      <th>UCB</th>\n",
       "      <th>geometry</th>\n",
       "      <th>대분류</th>\n",
       "      <th>코드</th>\n",
       "    </tr>\n",
       "  </thead>\n",
       "  <tbody>\n",
       "    <tr>\n",
       "      <th>0</th>\n",
       "      <td>2210</td>\n",
       "      <td>POLYGON ((188722.870 458389.790, 188711.470 45...</td>\n",
       "      <td>임지</td>\n",
       "      <td>2210</td>\n",
       "    </tr>\n",
       "    <tr>\n",
       "      <th>1</th>\n",
       "      <td>2210</td>\n",
       "      <td>POLYGON ((188718.060 459947.730, 188727.810 45...</td>\n",
       "      <td>임지</td>\n",
       "      <td>2210</td>\n",
       "    </tr>\n",
       "    <tr>\n",
       "      <th>2</th>\n",
       "      <td>2210</td>\n",
       "      <td>POLYGON ((188714.520 460626.560, 188733.040 46...</td>\n",
       "      <td>임지</td>\n",
       "      <td>2210</td>\n",
       "    </tr>\n",
       "  </tbody>\n",
       "</table>\n",
       "</div>"
      ],
      "text/plain": [
       "    UCB                                           geometry 대분류    코드\n",
       "0  2210  POLYGON ((188722.870 458389.790, 188711.470 45...  임지  2210\n",
       "1  2210  POLYGON ((188718.060 459947.730, 188727.810 45...  임지  2210\n",
       "2  2210  POLYGON ((188714.520 460626.560, 188733.040 46...  임지  2210"
      ]
     },
     "execution_count": 10,
     "metadata": {},
     "output_type": "execute_result"
    }
   ],
   "source": [
    "land = pd.merge(land, land_info, how = \"inner\", left_on = \"UCB\", right_on = \"코드\")\n",
    "land.head(3)"
   ]
  },
  {
   "cell_type": "code",
   "execution_count": 11,
   "metadata": {},
   "outputs": [],
   "source": [
    "land = gpd.GeoDataFrame(land, geometry = 'geometry', crs = '5181')\n",
    "land = land.to_crs(4326)"
   ]
  },
  {
   "cell_type": "code",
   "execution_count": 12,
   "metadata": {},
   "outputs": [
    {
     "data": {
      "text/html": [
       "<div>\n",
       "<style scoped>\n",
       "    .dataframe tbody tr th:only-of-type {\n",
       "        vertical-align: middle;\n",
       "    }\n",
       "\n",
       "    .dataframe tbody tr th {\n",
       "        vertical-align: top;\n",
       "    }\n",
       "\n",
       "    .dataframe thead th {\n",
       "        text-align: right;\n",
       "    }\n",
       "</style>\n",
       "<table border=\"1\" class=\"dataframe\">\n",
       "  <thead>\n",
       "    <tr style=\"text-align: right;\">\n",
       "      <th></th>\n",
       "      <th>UCB</th>\n",
       "      <th>geometry</th>\n",
       "      <th>대분류</th>\n",
       "      <th>코드</th>\n",
       "    </tr>\n",
       "  </thead>\n",
       "  <tbody>\n",
       "    <tr>\n",
       "      <th>0</th>\n",
       "      <td>2210</td>\n",
       "      <td>POLYGON ((126.87225 37.62504, 126.87212 37.625...</td>\n",
       "      <td>임지</td>\n",
       "      <td>2210</td>\n",
       "    </tr>\n",
       "    <tr>\n",
       "      <th>1</th>\n",
       "      <td>2210</td>\n",
       "      <td>POLYGON ((126.87218 37.63908, 126.87229 37.639...</td>\n",
       "      <td>임지</td>\n",
       "      <td>2210</td>\n",
       "    </tr>\n",
       "    <tr>\n",
       "      <th>2</th>\n",
       "      <td>2210</td>\n",
       "      <td>POLYGON ((126.87212 37.64519, 126.87233 37.645...</td>\n",
       "      <td>임지</td>\n",
       "      <td>2210</td>\n",
       "    </tr>\n",
       "  </tbody>\n",
       "</table>\n",
       "</div>"
      ],
      "text/plain": [
       "    UCB                                           geometry 대분류    코드\n",
       "0  2210  POLYGON ((126.87225 37.62504, 126.87212 37.625...  임지  2210\n",
       "1  2210  POLYGON ((126.87218 37.63908, 126.87229 37.639...  임지  2210\n",
       "2  2210  POLYGON ((126.87212 37.64519, 126.87233 37.645...  임지  2210"
      ]
     },
     "execution_count": 12,
     "metadata": {},
     "output_type": "execute_result"
    }
   ],
   "source": [
    "land.head(3)"
   ]
  },
  {
   "cell_type": "code",
   "execution_count": 13,
   "metadata": {},
   "outputs": [
    {
     "data": {
      "text/html": [
       "<div>\n",
       "<style scoped>\n",
       "    .dataframe tbody tr th:only-of-type {\n",
       "        vertical-align: middle;\n",
       "    }\n",
       "\n",
       "    .dataframe tbody tr th {\n",
       "        vertical-align: top;\n",
       "    }\n",
       "\n",
       "    .dataframe thead th {\n",
       "        text-align: right;\n",
       "    }\n",
       "</style>\n",
       "<table border=\"1\" class=\"dataframe\">\n",
       "  <thead>\n",
       "    <tr style=\"text-align: right;\">\n",
       "      <th></th>\n",
       "      <th>h3_9</th>\n",
       "      <th>geometry</th>\n",
       "    </tr>\n",
       "  </thead>\n",
       "  <tbody>\n",
       "    <tr>\n",
       "      <th>0</th>\n",
       "      <td>8930e0a5423ffff</td>\n",
       "      <td>POLYGON ((126.79014 37.60392, 126.78916 37.602...</td>\n",
       "    </tr>\n",
       "    <tr>\n",
       "      <th>1</th>\n",
       "      <td>8930e1d8127ffff</td>\n",
       "      <td>POLYGON ((126.97254 37.56289, 126.97156 37.561...</td>\n",
       "    </tr>\n",
       "    <tr>\n",
       "      <th>2</th>\n",
       "      <td>8930e1c24afffff</td>\n",
       "      <td>POLYGON ((127.03110 37.66834, 127.03012 37.667...</td>\n",
       "    </tr>\n",
       "  </tbody>\n",
       "</table>\n",
       "</div>"
      ],
      "text/plain": [
       "              h3_9                                           geometry\n",
       "0  8930e0a5423ffff  POLYGON ((126.79014 37.60392, 126.78916 37.602...\n",
       "1  8930e1d8127ffff  POLYGON ((126.97254 37.56289, 126.97156 37.561...\n",
       "2  8930e1c24afffff  POLYGON ((127.03110 37.66834, 127.03012 37.667..."
      ]
     },
     "execution_count": 13,
     "metadata": {},
     "output_type": "execute_result"
    }
   ],
   "source": [
    "seoul_cen = gpd.GeoDataFrame(seoul_grid, geometry = \"geometry\", crs = \"4326\")\n",
    "seoul_cen.head(3)"
   ]
  },
  {
   "cell_type": "code",
   "execution_count": 14,
   "metadata": {},
   "outputs": [
    {
     "name": "stderr",
     "output_type": "stream",
     "text": [
      "C:\\Users\\user\\AppData\\Local\\Temp\\ipykernel_25392\\844776798.py:1: UserWarning: Geometry is in a geographic CRS. Results from 'centroid' are likely incorrect. Use 'GeoSeries.to_crs()' to re-project geometries to a projected CRS before this operation.\n",
      "\n",
      "  seoul_cen['geometry'] = seoul_cen['geometry'].centroid\n"
     ]
    },
    {
     "data": {
      "text/html": [
       "<div>\n",
       "<style scoped>\n",
       "    .dataframe tbody tr th:only-of-type {\n",
       "        vertical-align: middle;\n",
       "    }\n",
       "\n",
       "    .dataframe tbody tr th {\n",
       "        vertical-align: top;\n",
       "    }\n",
       "\n",
       "    .dataframe thead th {\n",
       "        text-align: right;\n",
       "    }\n",
       "</style>\n",
       "<table border=\"1\" class=\"dataframe\">\n",
       "  <thead>\n",
       "    <tr style=\"text-align: right;\">\n",
       "      <th></th>\n",
       "      <th>h3_9</th>\n",
       "      <th>geometry</th>\n",
       "    </tr>\n",
       "  </thead>\n",
       "  <tbody>\n",
       "    <tr>\n",
       "      <th>0</th>\n",
       "      <td>8930e0a5423ffff</td>\n",
       "      <td>POINT (126.78841 37.60413)</td>\n",
       "    </tr>\n",
       "    <tr>\n",
       "      <th>1</th>\n",
       "      <td>8930e1d8127ffff</td>\n",
       "      <td>POINT (126.97081 37.56310)</td>\n",
       "    </tr>\n",
       "    <tr>\n",
       "      <th>2</th>\n",
       "      <td>8930e1c24afffff</td>\n",
       "      <td>POINT (127.02937 37.66856)</td>\n",
       "    </tr>\n",
       "  </tbody>\n",
       "</table>\n",
       "</div>"
      ],
      "text/plain": [
       "              h3_9                    geometry\n",
       "0  8930e0a5423ffff  POINT (126.78841 37.60413)\n",
       "1  8930e1d8127ffff  POINT (126.97081 37.56310)\n",
       "2  8930e1c24afffff  POINT (127.02937 37.66856)"
      ]
     },
     "execution_count": 14,
     "metadata": {},
     "output_type": "execute_result"
    }
   ],
   "source": [
    "seoul_cen['geometry'] = seoul_cen['geometry'].centroid\n",
    "seoul_cen.head(3)"
   ]
  },
  {
   "cell_type": "code",
   "execution_count": 15,
   "metadata": {},
   "outputs": [],
   "source": [
    "land_grid = gpd.sjoin(seoul_cen, land, how = \"left\")"
   ]
  },
  {
   "cell_type": "code",
   "execution_count": 16,
   "metadata": {},
   "outputs": [
    {
     "data": {
      "text/html": [
       "<div>\n",
       "<style scoped>\n",
       "    .dataframe tbody tr th:only-of-type {\n",
       "        vertical-align: middle;\n",
       "    }\n",
       "\n",
       "    .dataframe tbody tr th {\n",
       "        vertical-align: top;\n",
       "    }\n",
       "\n",
       "    .dataframe thead th {\n",
       "        text-align: right;\n",
       "    }\n",
       "</style>\n",
       "<table border=\"1\" class=\"dataframe\">\n",
       "  <thead>\n",
       "    <tr style=\"text-align: right;\">\n",
       "      <th></th>\n",
       "      <th>h3_9</th>\n",
       "      <th>대분류</th>\n",
       "      <th>코드</th>\n",
       "      <th>geometry</th>\n",
       "    </tr>\n",
       "  </thead>\n",
       "  <tbody>\n",
       "    <tr>\n",
       "      <th>0</th>\n",
       "      <td>8930e0a5423ffff</td>\n",
       "      <td>도시 및 주거지</td>\n",
       "      <td>3210</td>\n",
       "      <td>POINT (126.78841 37.60413)</td>\n",
       "    </tr>\n",
       "    <tr>\n",
       "      <th>1</th>\n",
       "      <td>8930e1d8127ffff</td>\n",
       "      <td>도시 및 주거지</td>\n",
       "      <td>3430</td>\n",
       "      <td>POINT (126.97081 37.56310)</td>\n",
       "    </tr>\n",
       "    <tr>\n",
       "      <th>2</th>\n",
       "      <td>8930e1c24afffff</td>\n",
       "      <td>임지</td>\n",
       "      <td>2210</td>\n",
       "      <td>POINT (127.02937 37.66856)</td>\n",
       "    </tr>\n",
       "  </tbody>\n",
       "</table>\n",
       "</div>"
      ],
      "text/plain": [
       "              h3_9       대분류    코드                    geometry\n",
       "0  8930e0a5423ffff  도시 및 주거지  3210  POINT (126.78841 37.60413)\n",
       "1  8930e1d8127ffff  도시 및 주거지  3430  POINT (126.97081 37.56310)\n",
       "2  8930e1c24afffff        임지  2210  POINT (127.02937 37.66856)"
      ]
     },
     "execution_count": 16,
     "metadata": {},
     "output_type": "execute_result"
    }
   ],
   "source": [
    "land = land_grid[['h3_9', '대분류', '코드', 'geometry']]\n",
    "land.head(3)"
   ]
  },
  {
   "cell_type": "code",
   "execution_count": 17,
   "metadata": {},
   "outputs": [],
   "source": [
    "land1 = pd.DataFrame(land)\n",
    "land1.drop('geometry', axis = 1, inplace = True)"
   ]
  },
  {
   "cell_type": "code",
   "execution_count": 18,
   "metadata": {},
   "outputs": [],
   "source": [
    "from shapely.geometry import Polygon\n",
    "import h3"
   ]
  },
  {
   "cell_type": "code",
   "execution_count": 19,
   "metadata": {},
   "outputs": [],
   "source": [
    "## h3 index를 polygon으로 변환\n",
    "def to_polygon(l) :\n",
    "    return Polygon(h3.h3_to_geo_boundary(l, geo_json = True))\n",
    "\n",
    "land1['geometry'] = land1['h3_9'].apply(to_polygon)\n",
    "# land1 = land1.set_crs(epsg = 4326)"
   ]
  },
  {
   "cell_type": "code",
   "execution_count": 20,
   "metadata": {},
   "outputs": [],
   "source": [
    "df = gpd.GeoDataFrame(land1, geometry = 'geometry', crs = '4326')"
   ]
  },
  {
   "cell_type": "code",
   "execution_count": 21,
   "metadata": {},
   "outputs": [],
   "source": [
    "def polygon_to_coordinates(x) :\n",
    "    lon, lat = x.exterior.xy\n",
    "    return [[x, y] for x, y in zip(lon, lat)]"
   ]
  },
  {
   "cell_type": "code",
   "execution_count": 22,
   "metadata": {},
   "outputs": [],
   "source": [
    "df['coordinates'] = df['geometry'].apply(polygon_to_coordinates)\n",
    "del df['geometry']"
   ]
  },
  {
   "cell_type": "code",
   "execution_count": 23,
   "metadata": {},
   "outputs": [],
   "source": [
    "df = pd.DataFrame(df)"
   ]
  },
  {
   "cell_type": "code",
   "execution_count": 24,
   "metadata": {},
   "outputs": [
    {
     "data": {
      "text/html": [
       "<div>\n",
       "<style scoped>\n",
       "    .dataframe tbody tr th:only-of-type {\n",
       "        vertical-align: middle;\n",
       "    }\n",
       "\n",
       "    .dataframe tbody tr th {\n",
       "        vertical-align: top;\n",
       "    }\n",
       "\n",
       "    .dataframe thead th {\n",
       "        text-align: right;\n",
       "    }\n",
       "</style>\n",
       "<table border=\"1\" class=\"dataframe\">\n",
       "  <thead>\n",
       "    <tr style=\"text-align: right;\">\n",
       "      <th></th>\n",
       "      <th>h3_9</th>\n",
       "      <th>대분류</th>\n",
       "      <th>코드</th>\n",
       "      <th>coordinates</th>\n",
       "    </tr>\n",
       "  </thead>\n",
       "  <tbody>\n",
       "    <tr>\n",
       "      <th>0</th>\n",
       "      <td>8930e0a5423ffff</td>\n",
       "      <td>도시 및 주거지</td>\n",
       "      <td>3210</td>\n",
       "      <td>[[126.79013552025086, 37.60391518987627], [126...</td>\n",
       "    </tr>\n",
       "    <tr>\n",
       "      <th>1</th>\n",
       "      <td>8930e1d8127ffff</td>\n",
       "      <td>도시 및 주거지</td>\n",
       "      <td>3430</td>\n",
       "      <td>[[126.97254288416778, 37.56288514788764], [126...</td>\n",
       "    </tr>\n",
       "    <tr>\n",
       "      <th>2</th>\n",
       "      <td>8930e1c24afffff</td>\n",
       "      <td>임지</td>\n",
       "      <td>2210</td>\n",
       "      <td>[[127.03110097938165, 37.66834454055887], [127...</td>\n",
       "    </tr>\n",
       "  </tbody>\n",
       "</table>\n",
       "</div>"
      ],
      "text/plain": [
       "              h3_9       대분류    코드  \\\n",
       "0  8930e0a5423ffff  도시 및 주거지  3210   \n",
       "1  8930e1d8127ffff  도시 및 주거지  3430   \n",
       "2  8930e1c24afffff        임지  2210   \n",
       "\n",
       "                                         coordinates  \n",
       "0  [[126.79013552025086, 37.60391518987627], [126...  \n",
       "1  [[126.97254288416778, 37.56288514788764], [126...  \n",
       "2  [[127.03110097938165, 37.66834454055887], [127...  "
      ]
     },
     "execution_count": 24,
     "metadata": {},
     "output_type": "execute_result"
    }
   ],
   "source": [
    "df.head(3)"
   ]
  },
  {
   "attachments": {},
   "cell_type": "markdown",
   "metadata": {},
   "source": [
    "- `대분류`, `코드` column의 결측값 채우기"
   ]
  },
  {
   "cell_type": "code",
   "execution_count": 25,
   "metadata": {},
   "outputs": [],
   "source": [
    "df['코드'] = df['코드'].fillna('0000')"
   ]
  },
  {
   "cell_type": "code",
   "execution_count": 26,
   "metadata": {},
   "outputs": [],
   "source": [
    "df['대분류'] = df['대분류'].fillna('알수없음')"
   ]
  },
  {
   "cell_type": "code",
   "execution_count": 27,
   "metadata": {},
   "outputs": [],
   "source": [
    "df['color'] = df['코드'].str[:1]"
   ]
  },
  {
   "cell_type": "code",
   "execution_count": 28,
   "metadata": {},
   "outputs": [
    {
     "data": {
      "text/plain": [
       "array(['3', '2', '1', '0', '4'], dtype=object)"
      ]
     },
     "execution_count": 28,
     "metadata": {},
     "output_type": "execute_result"
    }
   ],
   "source": [
    "df['color'].unique()"
   ]
  },
  {
   "cell_type": "code",
   "execution_count": 29,
   "metadata": {},
   "outputs": [],
   "source": [
    "d = df[df['color'] == \"0\"].index\n",
    "df.drop(d, inplace = True)"
   ]
  },
  {
   "cell_type": "code",
   "execution_count": 30,
   "metadata": {},
   "outputs": [],
   "source": [
    "df.loc[df[\"color\"] == \"1\", \"color_R\"] = 0\n",
    "df.loc[df[\"color\"] == \"1\", \"color_G\"] = 255\n",
    "df.loc[df[\"color\"] == \"1\", \"color_B\"] = 0"
   ]
  },
  {
   "cell_type": "code",
   "execution_count": 31,
   "metadata": {},
   "outputs": [],
   "source": [
    "df.loc[df[\"color\"] == \"2\", \"color_R\"] = 255\n",
    "df.loc[df[\"color\"] == \"2\", \"color_G\"] = 255\n",
    "df.loc[df[\"color\"] == \"2\", \"color_B\"] = 0"
   ]
  },
  {
   "cell_type": "code",
   "execution_count": 32,
   "metadata": {},
   "outputs": [],
   "source": [
    "df.loc[df[\"color\"] == \"3\", \"color_R\"] = 255\n",
    "df.loc[df[\"color\"] == \"3\", \"color_G\"] = 0\n",
    "df.loc[df[\"color\"] == \"3\", \"color_B\"] = 255"
   ]
  },
  {
   "cell_type": "code",
   "execution_count": 33,
   "metadata": {},
   "outputs": [],
   "source": [
    "df.loc[df[\"color\"] == \"4\", \"color_R\"] = 0\n",
    "df.loc[df[\"color\"] == \"4\", \"color_G\"] = 0\n",
    "df.loc[df[\"color\"] == \"4\", \"color_B\"] = 255"
   ]
  },
  {
   "cell_type": "code",
   "execution_count": 36,
   "metadata": {},
   "outputs": [
    {
     "data": {
      "text/html": [
       "<div>\n",
       "<style scoped>\n",
       "    .dataframe tbody tr th:only-of-type {\n",
       "        vertical-align: middle;\n",
       "    }\n",
       "\n",
       "    .dataframe tbody tr th {\n",
       "        vertical-align: top;\n",
       "    }\n",
       "\n",
       "    .dataframe thead th {\n",
       "        text-align: right;\n",
       "    }\n",
       "</style>\n",
       "<table border=\"1\" class=\"dataframe\">\n",
       "  <thead>\n",
       "    <tr style=\"text-align: right;\">\n",
       "      <th></th>\n",
       "      <th>h3_9</th>\n",
       "      <th>대분류</th>\n",
       "      <th>코드</th>\n",
       "      <th>coordinates</th>\n",
       "      <th>color</th>\n",
       "      <th>color_R</th>\n",
       "      <th>color_G</th>\n",
       "      <th>color_B</th>\n",
       "    </tr>\n",
       "  </thead>\n",
       "  <tbody>\n",
       "    <tr>\n",
       "      <th>0</th>\n",
       "      <td>8930e0a5423ffff</td>\n",
       "      <td>도시 및 주거지</td>\n",
       "      <td>3210</td>\n",
       "      <td>[[126.79013552025086, 37.60391518987627], [126...</td>\n",
       "      <td>3</td>\n",
       "      <td>255.0</td>\n",
       "      <td>0.0</td>\n",
       "      <td>255.0</td>\n",
       "    </tr>\n",
       "    <tr>\n",
       "      <th>1</th>\n",
       "      <td>8930e1d8127ffff</td>\n",
       "      <td>도시 및 주거지</td>\n",
       "      <td>3430</td>\n",
       "      <td>[[126.97254288416778, 37.56288514788764], [126...</td>\n",
       "      <td>3</td>\n",
       "      <td>255.0</td>\n",
       "      <td>0.0</td>\n",
       "      <td>255.0</td>\n",
       "    </tr>\n",
       "    <tr>\n",
       "      <th>2</th>\n",
       "      <td>8930e1c24afffff</td>\n",
       "      <td>임지</td>\n",
       "      <td>2210</td>\n",
       "      <td>[[127.03110097938165, 37.66834454055887], [127...</td>\n",
       "      <td>2</td>\n",
       "      <td>255.0</td>\n",
       "      <td>255.0</td>\n",
       "      <td>0.0</td>\n",
       "    </tr>\n",
       "    <tr>\n",
       "      <th>3</th>\n",
       "      <td>8930e1c3447ffff</td>\n",
       "      <td>도시 및 주거지</td>\n",
       "      <td>3430</td>\n",
       "      <td>[[127.00268008039373, 37.61049547647934], [127...</td>\n",
       "      <td>3</td>\n",
       "      <td>255.0</td>\n",
       "      <td>0.0</td>\n",
       "      <td>255.0</td>\n",
       "    </tr>\n",
       "    <tr>\n",
       "      <th>4</th>\n",
       "      <td>8930e1d9d1bffff</td>\n",
       "      <td>도시 및 주거지</td>\n",
       "      <td>3430</td>\n",
       "      <td>[[126.9749437252101, 37.52836150167328], [126....</td>\n",
       "      <td>3</td>\n",
       "      <td>255.0</td>\n",
       "      <td>0.0</td>\n",
       "      <td>255.0</td>\n",
       "    </tr>\n",
       "    <tr>\n",
       "      <th>...</th>\n",
       "      <td>...</td>\n",
       "      <td>...</td>\n",
       "      <td>...</td>\n",
       "      <td>...</td>\n",
       "      <td>...</td>\n",
       "      <td>...</td>\n",
       "      <td>...</td>\n",
       "      <td>...</td>\n",
       "    </tr>\n",
       "    <tr>\n",
       "      <th>37430</th>\n",
       "      <td>8930e030dd3ffff</td>\n",
       "      <td>임지</td>\n",
       "      <td>2230</td>\n",
       "      <td>[[126.84586638914548, 37.38636173387344], [126...</td>\n",
       "      <td>2</td>\n",
       "      <td>255.0</td>\n",
       "      <td>255.0</td>\n",
       "      <td>0.0</td>\n",
       "    </tr>\n",
       "    <tr>\n",
       "      <th>37431</th>\n",
       "      <td>8930e0a8907ffff</td>\n",
       "      <td>농지</td>\n",
       "      <td>1210</td>\n",
       "      <td>[[126.75520333979885, 37.458825354820554], [12...</td>\n",
       "      <td>1</td>\n",
       "      <td>0.0</td>\n",
       "      <td>255.0</td>\n",
       "      <td>0.0</td>\n",
       "    </tr>\n",
       "    <tr>\n",
       "      <th>37432</th>\n",
       "      <td>8930e0a890bffff</td>\n",
       "      <td>도시 및 주거지</td>\n",
       "      <td>3440</td>\n",
       "      <td>[[126.75229171885742, 37.45491948019369], [126...</td>\n",
       "      <td>3</td>\n",
       "      <td>255.0</td>\n",
       "      <td>0.0</td>\n",
       "      <td>255.0</td>\n",
       "    </tr>\n",
       "    <tr>\n",
       "      <th>37433</th>\n",
       "      <td>8930e0a890fffff</td>\n",
       "      <td>도시 및 주거지</td>\n",
       "      <td>3440</td>\n",
       "      <td>[[126.75498187874403, 37.456008515057356], [12...</td>\n",
       "      <td>3</td>\n",
       "      <td>255.0</td>\n",
       "      <td>0.0</td>\n",
       "      <td>255.0</td>\n",
       "    </tr>\n",
       "    <tr>\n",
       "      <th>37480</th>\n",
       "      <td>8930e1c586bffff</td>\n",
       "      <td>농지</td>\n",
       "      <td>1210</td>\n",
       "      <td>[[127.24688604452092, 37.607126086157955], [12...</td>\n",
       "      <td>1</td>\n",
       "      <td>0.0</td>\n",
       "      <td>255.0</td>\n",
       "      <td>0.0</td>\n",
       "    </tr>\n",
       "  </tbody>\n",
       "</table>\n",
       "<p>20354 rows × 8 columns</p>\n",
       "</div>"
      ],
      "text/plain": [
       "                  h3_9       대분류    코드  \\\n",
       "0      8930e0a5423ffff  도시 및 주거지  3210   \n",
       "1      8930e1d8127ffff  도시 및 주거지  3430   \n",
       "2      8930e1c24afffff        임지  2210   \n",
       "3      8930e1c3447ffff  도시 및 주거지  3430   \n",
       "4      8930e1d9d1bffff  도시 및 주거지  3430   \n",
       "...                ...       ...   ...   \n",
       "37430  8930e030dd3ffff        임지  2230   \n",
       "37431  8930e0a8907ffff        농지  1210   \n",
       "37432  8930e0a890bffff  도시 및 주거지  3440   \n",
       "37433  8930e0a890fffff  도시 및 주거지  3440   \n",
       "37480  8930e1c586bffff        농지  1210   \n",
       "\n",
       "                                             coordinates color  color_R  \\\n",
       "0      [[126.79013552025086, 37.60391518987627], [126...     3    255.0   \n",
       "1      [[126.97254288416778, 37.56288514788764], [126...     3    255.0   \n",
       "2      [[127.03110097938165, 37.66834454055887], [127...     2    255.0   \n",
       "3      [[127.00268008039373, 37.61049547647934], [127...     3    255.0   \n",
       "4      [[126.9749437252101, 37.52836150167328], [126....     3    255.0   \n",
       "...                                                  ...   ...      ...   \n",
       "37430  [[126.84586638914548, 37.38636173387344], [126...     2    255.0   \n",
       "37431  [[126.75520333979885, 37.458825354820554], [12...     1      0.0   \n",
       "37432  [[126.75229171885742, 37.45491948019369], [126...     3    255.0   \n",
       "37433  [[126.75498187874403, 37.456008515057356], [12...     3    255.0   \n",
       "37480  [[127.24688604452092, 37.607126086157955], [12...     1      0.0   \n",
       "\n",
       "       color_G  color_B  \n",
       "0          0.0    255.0  \n",
       "1          0.0    255.0  \n",
       "2        255.0      0.0  \n",
       "3          0.0    255.0  \n",
       "4          0.0    255.0  \n",
       "...        ...      ...  \n",
       "37430    255.0      0.0  \n",
       "37431    255.0      0.0  \n",
       "37432      0.0    255.0  \n",
       "37433      0.0    255.0  \n",
       "37480    255.0      0.0  \n",
       "\n",
       "[20354 rows x 8 columns]"
      ]
     },
     "execution_count": 36,
     "metadata": {},
     "output_type": "execute_result"
    }
   ],
   "source": [
    "df"
   ]
  },
  {
   "cell_type": "code",
   "execution_count": 34,
   "metadata": {},
   "outputs": [],
   "source": [
    "import pydeck as pdk"
   ]
  },
  {
   "attachments": {},
   "cell_type": "markdown",
   "metadata": {},
   "source": [
    "- 도시 및 주거지 : 선홍색\n",
    "- 임지 : 노란색\n",
    "- 농지 : 초록색\n",
    "- 수계 : 파란색"
   ]
  },
  {
   "cell_type": "code",
   "execution_count": 35,
   "metadata": {},
   "outputs": [
    {
     "data": {
      "application/vnd.jupyter.widget-view+json": {
       "model_id": "77eeb9494bcc448285c5a5b9ae588496",
       "version_major": 2,
       "version_minor": 0
      },
      "text/plain": [
       "DeckGLWidget(carto_key=None, custom_libraries=[], google_maps_key=None, json_input='{\\n  \"initialViewState\": {…"
      ]
     },
     "metadata": {},
     "output_type": "display_data"
    }
   ],
   "source": [
    "layer = pdk.Layer(\n",
    "    \"PolygonLayer\",\n",
    "    df,\n",
    "    get_polygon = \"coordinates\",\n",
    "    get_fill_color = '[1 * color_R,  1 * color_G , 1 * color_B]',\n",
    "    pickable = True,\n",
    "    auto_highlight = True\n",
    ")\n",
    "\n",
    "# 서울시청 주소\n",
    "lat = 37.5662; lng = 126.9787\n",
    "seoul = [lat, lng]\n",
    "\n",
    "view_state = pdk.ViewState(\n",
    "    longitude = seoul[1],\n",
    "    latitude = seoul[0],\n",
    "    zoom = 14\n",
    ")\n",
    "\n",
    "r = pdk.Deck(layers = [layer], initial_view_state = view_state)\n",
    "r.show()"
   ]
  },
  {
   "cell_type": "code",
   "execution_count": null,
   "metadata": {},
   "outputs": [],
   "source": []
  }
 ],
 "metadata": {
  "kernelspec": {
   "display_name": "Python 3.8.13 ('geo')",
   "language": "python",
   "name": "python3"
  },
  "language_info": {
   "codemirror_mode": {
    "name": "ipython",
    "version": 3
   },
   "file_extension": ".py",
   "mimetype": "text/x-python",
   "name": "python",
   "nbconvert_exporter": "python",
   "pygments_lexer": "ipython3",
   "version": "3.8.13"
  },
  "orig_nbformat": 4,
  "vscode": {
   "interpreter": {
    "hash": "3e5f5473658ae5ec018127d3f4d6c9ec83ecb3efcc215471238b74c271e6f6b5"
   }
  }
 },
 "nbformat": 4,
 "nbformat_minor": 2
}
